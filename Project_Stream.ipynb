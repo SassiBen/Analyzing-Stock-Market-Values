{
 "cells": [
  {
   "cell_type": "markdown",
   "id": "3115b399",
   "metadata": {},
   "source": [
    "### Pre-configuration :"
   ]
  },
  {
   "cell_type": "code",
   "execution_count": 5,
   "id": "67651812",
   "metadata": {
    "scrolled": true
   },
   "outputs": [],
   "source": [
    "from pyspark.sql.functions import explode\n",
    "from pyspark.sql.functions import split\n",
    "from pyspark.context import SparkContext\n",
    "from pyspark.conf import SparkConf\n",
    "from pyspark.sql.session import SparkSession\n",
    "from pyspark.sql.functions import col\n",
    "from pyspark.sql.types import StructType, StructField, StringType, IntegerType, DoubleType, BooleanType, TimestampType, DateType\n",
    "from pyspark.sql.functions import from_json\n",
    "\n",
    "\n",
    "spark = SparkSession.builder \\\n",
    "    .appName(\"MyApp\") \\\n",
    "    .config(\"spark.jars.packages\", 'org.apache.spark:spark-sql-kafka-0-10_2.12:3.0.0') \\\n",
    "    .config(\"spark.sql.repl.eagerEval.enabled\", True) \\\n",
    "    .getOrCreate()\n",
    "\n",
    "schema = StructType(\n",
    "      [\n",
    "        StructField(\"name\", StringType(), False),\n",
    "        StructField(\"price\", DoubleType(), False),\n",
    "        StructField(\"timestamp\", TimestampType(), False),\n",
    "      ]\n",
    "    )\n",
    "\n",
    "kafka_server = \"kafka1:9092\"   \n",
    "\n",
    "lines = (spark.readStream                        # Get the DataStreamReader\n",
    "  .format(\"kafka\")                                 # Specify the source format as \"kafka\"\n",
    "  .option(\"kafka.bootstrap.servers\", kafka_server) # Configure the Kafka server name and port\n",
    "  .option(\"subscribe\", \"stock\")                       # Subscribe to the \"en\" Kafka topic \n",
    "  .option(\"startingOffsets\", \"earliest\")           # The start point when a query is started\n",
    "  .option(\"maxOffsetsPerTrigger\", 100)             # Rate limit on max offsets per trigger interval\n",
    "  .load()\n",
    "  .select(from_json(col(\"value\").cast(\"string\"), schema).alias(\"parsed_value\"))\n",
    "# Load the DataFrame\n",
    ")\n",
    "df = lines.select(\"parsed_value.*\")"
   ]
  },
  {
   "cell_type": "markdown",
   "id": "b8dd4682",
   "metadata": {},
   "source": [
    "Be sure to start the stream on Kafka!"
   ]
  },
  {
   "cell_type": "markdown",
   "id": "2bf822e6",
   "metadata": {},
   "source": [
    "Update Pyspark :"
   ]
  },
  {
   "cell_type": "code",
   "execution_count": 1,
   "id": "b984757b",
   "metadata": {},
   "outputs": [
    {
     "name": "stdout",
     "output_type": "stream",
     "text": [
      "Requirement already satisfied: pyspark==3.5.0 in /usr/local/lib/python3.9/dist-packages (3.5.0)\n",
      "Requirement already satisfied: py4j==0.10.9.7 in /usr/local/lib/python3.9/dist-packages (from pyspark==3.5.0) (0.10.9.7)\n",
      "\u001b[33mWARNING: Running pip as the 'root' user can result in broken permissions and conflicting behaviour with the system package manager. It is recommended to use a virtual environment instead: https://pip.pypa.io/warnings/venv\u001b[0m\u001b[33m\n",
      "\u001b[0m\n",
      "\u001b[1m[\u001b[0m\u001b[34;49mnotice\u001b[0m\u001b[1;39;49m]\u001b[0m\u001b[39;49m A new release of pip is available: \u001b[0m\u001b[31;49m23.2.1\u001b[0m\u001b[39;49m -> \u001b[0m\u001b[32;49m23.3.1\u001b[0m\n",
      "\u001b[1m[\u001b[0m\u001b[34;49mnotice\u001b[0m\u001b[1;39;49m]\u001b[0m\u001b[39;49m To update, run: \u001b[0m\u001b[32;49mpython3 -m pip install --upgrade pip\u001b[0m\n"
     ]
    }
   ],
   "source": [
    "!pip install --upgrade pyspark==3.5.0"
   ]
  },
  {
   "cell_type": "code",
   "execution_count": 2,
   "id": "b0df7715",
   "metadata": {},
   "outputs": [
    {
     "name": "stdout",
     "output_type": "stream",
     "text": [
      "3.5.0\n"
     ]
    }
   ],
   "source": [
    "import pyspark\n",
    "print(pyspark.__version__)"
   ]
  },
  {
   "cell_type": "markdown",
   "id": "5a4c9201",
   "metadata": {},
   "source": [
    "## 1. Select the N most valuable stocks in a window"
   ]
  },
  {
   "cell_type": "code",
   "execution_count": null,
   "id": "f69db177",
   "metadata": {
    "scrolled": true
   },
   "outputs": [
    {
     "name": "stderr",
     "output_type": "stream",
     "text": [
      "23/11/06 20:51:13 WARN SparkSession: Using an existing Spark session; only runtime SQL configurations will take effect.\n",
      "23/11/06 20:51:13 WARN ResolveWriteToStream: Temporary checkpoint location created which is deleted normally when the query didn't fail: /tmp/temporary-e8ba7ac9-d8c7-4524-9d88-9071692c6f2b. If it's required to delete it under any circumstances, please set spark.sql.streaming.forceDeleteTempCheckpointLocation to true. Important to know deleting temp checkpoint folder is best effort.\n",
      "23/11/06 20:51:13 WARN ResolveWriteToStream: spark.sql.adaptive.enabled is not supported in streaming DataFrames/Datasets and will be disabled.\n",
      "                                                                                \r"
     ]
    },
    {
     "name": "stdout",
     "output_type": "stream",
     "text": [
      "+--------------------+----+---------+----+\n",
      "|              window|name|max_price|rank|\n",
      "+--------------------+----+---------+----+\n",
      "|{2023-10-25 10:00...| AZO|   384.01|   1|\n",
      "|{2023-10-25 10:00...|ISRG| 192.6465|   2|\n",
      "|{2023-10-25 10:00...|  RE|   128.37|   3|\n",
      "|{2023-10-25 10:00...| PXD|    128.0|   4|\n",
      "|{2023-10-25 10:00...| CMI|   119.79|   5|\n",
      "+--------------------+----+---------+----+\n",
      "\n"
     ]
    },
    {
     "name": "stderr",
     "output_type": "stream",
     "text": [
      "                                                                                \r"
     ]
    },
    {
     "name": "stdout",
     "output_type": "stream",
     "text": [
      "+--------------------+----+---------+----+\n",
      "|              window|name|max_price|rank|\n",
      "+--------------------+----+---------+----+\n",
      "|{2023-10-25 10:00...| GWW|   228.67|   1|\n",
      "|{2023-10-25 10:00...|WYNN|   120.24|   2|\n",
      "|{2023-10-25 10:00...| PVH|   114.07|   3|\n",
      "|{2023-10-25 10:00...| BXP|    110.1|   4|\n",
      "|{2023-10-25 10:00...| FRT|   106.58|   5|\n",
      "+--------------------+----+---------+----+\n",
      "\n"
     ]
    },
    {
     "name": "stderr",
     "output_type": "stream",
     "text": [
      "                                                                                \r"
     ]
    },
    {
     "name": "stdout",
     "output_type": "stream",
     "text": [
      "+--------------------+-----+---------+----+\n",
      "|              window| name|max_price|rank|\n",
      "+--------------------+-----+---------+----+\n",
      "|{2023-10-25 10:00...|GOOGL| 414.2338|   1|\n",
      "|{2023-10-25 10:00...|  CMG|    378.4|   2|\n",
      "|{2023-10-25 10:00...|  GWW|    254.0|   3|\n",
      "|{2023-10-25 10:00...| EQIX|   219.94|   4|\n",
      "|{2023-10-25 10:00...| ISRG| 192.6465|   5|\n",
      "+--------------------+-----+---------+----+\n",
      "\n"
     ]
    },
    {
     "name": "stderr",
     "output_type": "stream",
     "text": [
      "                                                                                \r"
     ]
    },
    {
     "name": "stdout",
     "output_type": "stream",
     "text": [
      "+--------------------+----+---------+----+\n",
      "|              window|name|max_price|rank|\n",
      "+--------------------+----+---------+----+\n",
      "|{2023-10-25 10:00...|PCLN|   819.98|   1|\n",
      "|{2023-10-25 10:00...|AMZN|   269.98|   2|\n",
      "|{2023-10-25 10:00...| GWW|   261.34|   3|\n",
      "|{2023-10-25 10:00...|EQIX|   219.94|   4|\n",
      "|{2023-10-25 10:00...| IBM|   211.98|   5|\n",
      "+--------------------+----+---------+----+\n",
      "\n"
     ]
    },
    {
     "name": "stderr",
     "output_type": "stream",
     "text": [
      "                                                                                \r"
     ]
    },
    {
     "name": "stdout",
     "output_type": "stream",
     "text": [
      "+--------------------+----+---------+----+\n",
      "|              window|name|max_price|rank|\n",
      "+--------------------+----+---------+----+\n",
      "|{2023-10-25 10:00...| BLK|   258.94|   1|\n",
      "|{2023-10-25 10:00...| AMG|   171.04|   2|\n",
      "|{2023-10-25 10:00...|  GS|    168.2|   3|\n",
      "|{2023-10-25 10:00...| PSA|  160.208|   4|\n",
      "|{2023-10-25 10:00...| ESS|   156.49|   5|\n",
      "+--------------------+----+---------+----+\n",
      "\n"
     ]
    },
    {
     "name": "stderr",
     "output_type": "stream",
     "text": [
      "                                                                                \r"
     ]
    },
    {
     "name": "stdout",
     "output_type": "stream",
     "text": [
      "+--------------------+-----+---------+----+\n",
      "|              window| name|max_price|rank|\n",
      "+--------------------+-----+---------+----+\n",
      "|{2023-10-25 10:00...|GOOGL| 453.9535|   1|\n",
      "|{2023-10-25 10:00...|   RL|   181.35|   2|\n",
      "|{2023-10-25 10:00...|  AMG|   174.74|   3|\n",
      "|{2023-10-25 10:00...|  ESS|   160.06|   4|\n",
      "|{2023-10-25 10:00...|  COO|   126.39|   5|\n",
      "+--------------------+-----+---------+----+\n",
      "\n"
     ]
    },
    {
     "name": "stderr",
     "output_type": "stream",
     "text": [
      "                                                                                \r"
     ]
    },
    {
     "name": "stdout",
     "output_type": "stream",
     "text": [
      "+--------------------+-----+---------+----+\n",
      "|              window| name|max_price|rank|\n",
      "+--------------------+-----+---------+----+\n",
      "|{2023-10-25 10:00...| PCLN| 982.1298|   1|\n",
      "|{2023-10-25 10:00...|GOOGL| 453.9535|   2|\n",
      "|{2023-10-25 10:00...| REGN|    238.8|   3|\n",
      "|{2023-10-25 10:00...|  PSA|  160.208|   4|\n",
      "|{2023-10-25 10:00...|  CMI|   132.34|   5|\n",
      "+--------------------+-----+---------+----+\n",
      "\n"
     ]
    },
    {
     "name": "stderr",
     "output_type": "stream",
     "text": [
      "                                                                                \r"
     ]
    },
    {
     "name": "stdout",
     "output_type": "stream",
     "text": [
      "+--------------------+-----+---------+----+\n",
      "|              window| name|max_price|rank|\n",
      "+--------------------+-----+---------+----+\n",
      "|{2023-10-25 10:00...|GOOGL| 453.9535|   1|\n",
      "|{2023-10-25 10:00...| BIIB|   246.49|   2|\n",
      "|{2023-10-25 10:00...|  SPG|   175.05|   3|\n",
      "|{2023-10-25 10:00...|  ESS|   160.06|   4|\n",
      "|{2023-10-25 10:00...| ORLY|   129.24|   5|\n",
      "+--------------------+-----+---------+----+\n",
      "\n"
     ]
    },
    {
     "name": "stderr",
     "output_type": "stream",
     "text": [
      "                                                                                \r"
     ]
    },
    {
     "name": "stdout",
     "output_type": "stream",
     "text": [
      "+--------------------+----+---------+----+\n",
      "|              window|name|max_price|rank|\n",
      "+--------------------+----+---------+----+\n",
      "|{2023-10-25 10:00...| AZO|   456.94|   1|\n",
      "|{2023-10-25 10:00...| ADS|   246.48|   2|\n",
      "|{2023-10-25 10:00...|  RL|   181.35|   3|\n",
      "|{2023-10-25 10:00...|WYNN|   164.24|   4|\n",
      "|{2023-10-25 10:00...| TDG|   148.09|   5|\n",
      "+--------------------+----+---------+----+\n",
      "\n"
     ]
    },
    {
     "name": "stderr",
     "output_type": "stream",
     "text": [
      "                                                                                \r"
     ]
    },
    {
     "name": "stdout",
     "output_type": "stream",
     "text": [
      "+--------------------+----+---------+----+\n",
      "|              window|name|max_price|rank|\n",
      "+--------------------+----+---------+----+\n",
      "|{2023-10-25 10:00...|PCLN|  1165.58|   1|\n",
      "|{2023-10-25 10:00...| MTD|   249.61|   2|\n",
      "|{2023-10-25 10:00...| IBM|   211.98|   3|\n",
      "|{2023-10-25 10:00...|WYNN|   168.99|   4|\n",
      "|{2023-10-25 10:00...| MCK|   164.63|   5|\n",
      "+--------------------+----+---------+----+\n",
      "\n"
     ]
    },
    {
     "name": "stderr",
     "output_type": "stream",
     "text": [
      "                                                                                \r"
     ]
    },
    {
     "name": "stdout",
     "output_type": "stream",
     "text": [
      "+--------------------+----+---------+----+\n",
      "|              window|name|max_price|rank|\n",
      "+--------------------+----+---------+----+\n",
      "|{2023-10-25 10:00...| CMG|   536.84|   1|\n",
      "|{2023-10-25 10:00...|BIIB|   277.17|   2|\n",
      "|{2023-10-25 10:00...|REGN|   270.95|   3|\n",
      "|{2023-10-25 10:00...| ADS|   258.57|   4|\n",
      "|{2023-10-25 10:00...| WHR|   159.36|   5|\n",
      "+--------------------+----+---------+----+\n",
      "\n"
     ]
    },
    {
     "name": "stderr",
     "output_type": "stream",
     "text": [
      "                                                                                \r"
     ]
    },
    {
     "name": "stdout",
     "output_type": "stream",
     "text": [
      "+--------------------+----+---------+----+\n",
      "|              window|name|max_price|rank|\n",
      "+--------------------+----+---------+----+\n",
      "|{2023-10-25 10:00...| CMG|   536.84|   1|\n",
      "|{2023-10-25 10:00...| MTD|   251.63|   2|\n",
      "|{2023-10-25 10:00...|  RL|   181.35|   3|\n",
      "|{2023-10-25 10:00...| PXD|   175.02|   4|\n",
      "|{2023-10-25 10:00...|  GS|    168.2|   5|\n",
      "+--------------------+----+---------+----+\n",
      "\n"
     ]
    },
    {
     "name": "stderr",
     "output_type": "stream",
     "text": [
      "                                                                                \r"
     ]
    },
    {
     "name": "stdout",
     "output_type": "stream",
     "text": [
      "+--------------------+----+---------+----+\n",
      "|              window|name|max_price|rank|\n",
      "+--------------------+----+---------+----+\n",
      "|{2023-10-25 10:00...|REGN|  343.476|   1|\n",
      "|{2023-10-25 10:00...| BLK|    308.9|   2|\n",
      "|{2023-10-25 10:00...| GWW|   261.34|   3|\n",
      "|{2023-10-25 10:00...| MTD|   251.63|   4|\n",
      "|{2023-10-25 10:00...|EQIX|   219.94|   5|\n",
      "+--------------------+----+---------+----+\n",
      "\n"
     ]
    },
    {
     "name": "stderr",
     "output_type": "stream",
     "text": [
      "                                                                                \r"
     ]
    },
    {
     "name": "stdout",
     "output_type": "stream",
     "text": [
      "+--------------------+----+---------+----+\n",
      "|              window|name|max_price|rank|\n",
      "+--------------------+----+---------+----+\n",
      "|{2023-10-25 10:00...| AZO|  536.375|   1|\n",
      "|{2023-10-25 10:00...| BLK|    308.9|   2|\n",
      "|{2023-10-25 10:00...| SHW|   206.86|   3|\n",
      "|{2023-10-25 10:00...| PSA|   171.26|   4|\n",
      "|{2023-10-25 10:00...| MCK|   168.65|   5|\n",
      "+--------------------+----+---------+----+\n",
      "\n"
     ]
    },
    {
     "name": "stderr",
     "output_type": "stream",
     "text": [
      "                                                                                \r"
     ]
    },
    {
     "name": "stdout",
     "output_type": "stream",
     "text": [
      "+--------------------+----+---------+----+\n",
      "|              window|name|max_price|rank|\n",
      "+--------------------+----+---------+----+\n",
      "|{2023-10-25 10:00...|  RL|   181.35|   1|\n",
      "|{2023-10-25 10:00...| AAP|   128.49|   2|\n",
      "|{2023-10-25 10:00...| LLL|    117.3|   3|\n",
      "|{2023-10-25 10:00...| SNA|   116.18|   4|\n",
      "|{2023-10-25 10:00...|  GD|   112.37|   5|\n",
      "+--------------------+----+---------+----+\n",
      "\n"
     ]
    },
    {
     "name": "stderr",
     "output_type": "stream",
     "text": [
      "                                                                                \r"
     ]
    },
    {
     "name": "stdout",
     "output_type": "stream",
     "text": [
      "+--------------------+----+---------+----+\n",
      "|              window|name|max_price|rank|\n",
      "+--------------------+----+---------+----+\n",
      "|{2023-10-25 10:00...| CMG|   536.84|   1|\n",
      "|{2023-10-25 10:00...|REGN|  343.476|   2|\n",
      "|{2023-10-25 10:00...| IBM|   211.98|   3|\n",
      "|{2023-10-25 10:00...| TDG|   188.53|   4|\n",
      "|{2023-10-25 10:00...| MHK|   144.97|   5|\n",
      "+--------------------+----+---------+----+\n",
      "\n"
     ]
    },
    {
     "name": "stderr",
     "output_type": "stream",
     "text": [
      "                                                                                \r"
     ]
    },
    {
     "name": "stdout",
     "output_type": "stream",
     "text": [
      "+--------------------+----+---------+----+\n",
      "|              window|name|max_price|rank|\n",
      "+--------------------+----+---------+----+\n",
      "|{2023-10-25 10:00...| ADS|   284.67|   1|\n",
      "|{2023-10-25 10:00...| SHW|   206.86|   2|\n",
      "|{2023-10-25 10:00...| AYI|   134.69|   3|\n",
      "|{2023-10-25 10:00...| PVH|   132.34|   4|\n",
      "|{2023-10-25 10:00...| MLM|  131.442|   5|\n",
      "+--------------------+----+---------+----+\n",
      "\n"
     ]
    },
    {
     "name": "stderr",
     "output_type": "stream",
     "text": [
      "                                                                                \r"
     ]
    },
    {
     "name": "stdout",
     "output_type": "stream",
     "text": [
      "+--------------------+-----+---------+----+\n",
      "|              window| name|max_price|rank|\n",
      "+--------------------+-----+---------+----+\n",
      "|{2023-10-25 10:00...|GOOGL|   608.89|   1|\n",
      "|{2023-10-25 10:00...| EQIX|   219.94|   2|\n",
      "|{2023-10-25 10:00...|  MCK|  191.466|   3|\n",
      "|{2023-10-25 10:00...| ALXN|    180.2|   4|\n",
      "|{2023-10-25 10:00...| ORLY|   155.06|   5|\n",
      "+--------------------+-----+---------+----+\n",
      "\n"
     ]
    },
    {
     "name": "stderr",
     "output_type": "stream",
     "text": [
      "                                                                                \r"
     ]
    },
    {
     "name": "stdout",
     "output_type": "stream",
     "text": [
      "+--------------------+----+---------+----+\n",
      "|              window|name|max_price|rank|\n",
      "+--------------------+----+---------+----+\n",
      "|{2023-10-25 10:00...| CMG|    692.9|   1|\n",
      "|{2023-10-25 10:00...| PXD|   213.11|   2|\n",
      "|{2023-10-25 10:00...| IBM|   211.98|   3|\n",
      "|{2023-10-25 10:00...|WYNN|  183.117|   4|\n",
      "|{2023-10-25 10:00...|ILMN|    178.0|   5|\n",
      "+--------------------+----+---------+----+\n",
      "\n"
     ]
    },
    {
     "name": "stderr",
     "output_type": "stream",
     "text": [
      "                                                                                \r"
     ]
    },
    {
     "name": "stdout",
     "output_type": "stream",
     "text": [
      "+--------------------+-----+---------+----+\n",
      "|              window| name|max_price|rank|\n",
      "+--------------------+-----+---------+----+\n",
      "|{2023-10-25 10:00...| PCLN|  1182.56|   1|\n",
      "|{2023-10-25 10:00...|  CMG|    692.9|   2|\n",
      "|{2023-10-25 10:00...|GOOGL|   608.89|   3|\n",
      "|{2023-10-25 10:00...| REGN|   349.83|   4|\n",
      "|{2023-10-25 10:00...|  GWW|   261.34|   5|\n",
      "+--------------------+-----+---------+----+\n",
      "\n"
     ]
    },
    {
     "name": "stderr",
     "output_type": "stream",
     "text": [
      "                                                                                \r"
     ]
    },
    {
     "name": "stdout",
     "output_type": "stream",
     "text": [
      "+--------------------+----+---------+----+\n",
      "|              window|name|max_price|rank|\n",
      "+--------------------+----+---------+----+\n",
      "|{2023-10-25 10:00...|REGN|   377.45|   1|\n",
      "|{2023-10-25 10:00...| ESS|   194.68|   2|\n",
      "|{2023-10-25 10:00...| PSA|   177.78|   3|\n",
      "|{2023-10-25 10:00...|  GS|   177.54|   4|\n",
      "|{2023-10-25 10:00...|COST|   130.54|   5|\n",
      "+--------------------+----+---------+----+\n",
      "\n"
     ]
    },
    {
     "name": "stderr",
     "output_type": "stream",
     "text": [
      "                                                                                \r"
     ]
    },
    {
     "name": "stdout",
     "output_type": "stream",
     "text": [
      "+--------------------+----+---------+----+\n",
      "|              window|name|max_price|rank|\n",
      "+--------------------+----+---------+----+\n",
      "|{2023-10-25 10:00...| BLK|   348.23|   1|\n",
      "|{2023-10-25 10:00...| AMG|   203.89|   2|\n",
      "|{2023-10-25 10:00...| MCK|    201.7|   3|\n",
      "|{2023-10-25 10:00...|  GS|   190.89|   4|\n",
      "|{2023-10-25 10:00...| LMT|   188.44|   5|\n",
      "+--------------------+----+---------+----+\n",
      "\n"
     ]
    }
   ],
   "source": [
    "from pyspark.sql import SparkSession\n",
    "from pyspark.sql.functions import window, col, desc, max, rank\n",
    "from pyspark.sql.window import Window\n",
    "\n",
    "# Define window duration and sliding interval\n",
    "window_duration = \"1 hour\"\n",
    "slide_duration = \"1 hour\"  # slide the window every hour as well\n",
    "\n",
    "# Group by window and name, then compute the maximum price\n",
    "windowed_df = df.groupBy(\n",
    "    window(col(\"timestamp\"), window_duration, slide_duration),\n",
    "    col(\"name\")\n",
    ").agg(max(\"price\").alias(\"max_value\"))\n",
    "\n",
    "# Define the process for each micro-batch\n",
    "def process_batch(df, epoch_id):\n",
    "    # Define a window spec for ranking stocks within each window\n",
    "    windowSpec = Window.partitionBy(\"window\").orderBy(desc(\"max_value\"))\n",
    "\n",
    "    # Add rank for each stock within the window\n",
    "    ranked_df = df.withColumn(\"rank\", rank().over(windowSpec))\n",
    "\n",
    "    # Filter for top N stocks within each window\n",
    "    N = 5  #i choose 5\n",
    "    topN_df = ranked_df.where(col(\"rank\") <= N)\n",
    "\n",
    "    # Show the result\n",
    "    topN_df.show()\n",
    "\n",
    "# Write the top N stocks to console for each window using foreachBatch\n",
    "query = windowed_df.writeStream \\\n",
    "    .foreachBatch(process_batch) \\\n",
    "    .outputMode(\"update\") \\\n",
    "    .start()\n",
    "\n",
    "query.awaitTermination()"
   ]
  },
  {
   "cell_type": "markdown",
   "id": "205a568c",
   "metadata": {},
   "source": [
    "## 2. Select the stocks that lost value between two windows"
   ]
  },
  {
   "cell_type": "code",
   "execution_count": 1,
   "id": "3e189964",
   "metadata": {},
   "outputs": [],
   "source": [
    "# M1:"
   ]
  },
  {
   "cell_type": "code",
   "execution_count": null,
   "id": "95971f18",
   "metadata": {
    "scrolled": true
   },
   "outputs": [
    {
     "name": "stderr",
     "output_type": "stream",
     "text": [
      "23/11/06 19:31:13 WARN ResolveWriteToStream: Temporary checkpoint location created which is deleted normally when the query didn't fail: /tmp/temporary-0b0d2fba-dc45-4b8f-85f1-e6b3b7e042ee. If it's required to delete it under any circumstances, please set spark.sql.streaming.forceDeleteTempCheckpointLocation to true. Important to know deleting temp checkpoint folder is best effort.\n",
      "23/11/06 19:31:13 WARN ResolveWriteToStream: spark.sql.adaptive.enabled is not supported in streaming DataFrames/Datasets and will be disabled.\n",
      "                                                                                \r"
     ]
    },
    {
     "name": "stdout",
     "output_type": "stream",
     "text": [
      "+----+------+---------------+---------+--------------+----------+\n",
      "|name|window|previous_window|avg_price|prev_avg_price|price_diff|\n",
      "+----+------+---------------+---------+--------------+----------+\n",
      "+----+------+---------------+---------+--------------+----------+\n",
      "\n"
     ]
    },
    {
     "name": "stderr",
     "output_type": "stream",
     "text": [
      "                                                                                \r"
     ]
    },
    {
     "name": "stdout",
     "output_type": "stream",
     "text": [
      "+----+------+---------------+---------+--------------+----------+\n",
      "|name|window|previous_window|avg_price|prev_avg_price|price_diff|\n",
      "+----+------+---------------+---------+--------------+----------+\n",
      "+----+------+---------------+---------+--------------+----------+\n",
      "\n"
     ]
    },
    {
     "name": "stderr",
     "output_type": "stream",
     "text": [
      "                                                                                \r"
     ]
    },
    {
     "name": "stdout",
     "output_type": "stream",
     "text": [
      "+----+------------------------------------------+------------------------------------------+------------------+--------------+-------------------+\n",
      "|name|window                                    |previous_window                           |avg_price         |prev_avg_price|price_diff         |\n",
      "+----+------------------------------------------+------------------------------------------+------------------+--------------+-------------------+\n",
      "|SO  |{2023-10-25 10:13:00, 2023-10-25 10:14:00}|{2023-10-25 10:12:00, 2023-10-25 10:13:00}|47.355000000000004|48.245        |-0.8899999999999935|\n",
      "+----+------------------------------------------+------------------------------------------+------------------+--------------+-------------------+\n",
      "\n"
     ]
    },
    {
     "name": "stderr",
     "output_type": "stream",
     "text": [
      "                                                                                \r"
     ]
    },
    {
     "name": "stdout",
     "output_type": "stream",
     "text": [
      "+----+------------------------------------------+------------------------------------------+---------+-----------------+-------------------+\n",
      "|name|window                                    |previous_window                           |avg_price|prev_avg_price   |price_diff         |\n",
      "+----+------------------------------------------+------------------------------------------+---------+-----------------+-------------------+\n",
      "|ZBH |{2023-10-25 10:14:00, 2023-10-25 10:15:00}|{2023-10-25 10:13:00, 2023-10-25 10:14:00}|78.77    |81.185           |-2.4150000000000063|\n",
      "|NEE |{2023-10-25 10:14:00, 2023-10-25 10:15:00}|{2023-10-25 10:13:00, 2023-10-25 10:14:00}|80.33    |81.15            |-0.8200000000000074|\n",
      "|SIG |{2023-10-25 10:14:00, 2023-10-25 10:15:00}|{2023-10-25 10:13:00, 2023-10-25 10:14:00}|69.01    |70.94999999999999|-1.9399999999999835|\n",
      "+----+------------------------------------------+------------------------------------------+---------+-----------------+-------------------+\n",
      "\n"
     ]
    },
    {
     "name": "stderr",
     "output_type": "stream",
     "text": [
      "                                                                                \r"
     ]
    },
    {
     "name": "stdout",
     "output_type": "stream",
     "text": [
      "+----+------------------------------------------+------------------------------------------+---------+--------------+--------------------+\n",
      "|name|window                                    |previous_window                           |avg_price|prev_avg_price|price_diff          |\n",
      "+----+------------------------------------------+------------------------------------------+---------+--------------+--------------------+\n",
      "|LB  |{2023-10-25 10:15:00, 2023-10-25 10:16:00}|{2023-10-25 10:14:00, 2023-10-25 10:15:00}|50.6     |50.78         |-0.17999999999999972|\n",
      "+----+------------------------------------------+------------------------------------------+---------+--------------+--------------------+\n",
      "\n"
     ]
    },
    {
     "name": "stderr",
     "output_type": "stream",
     "text": [
      "                                                                                \r"
     ]
    },
    {
     "name": "stdout",
     "output_type": "stream",
     "text": [
      "+-----+------------------------------------------+------------------------------------------+---------+--------------+-------------------+\n",
      "|name |window                                    |previous_window                           |avg_price|prev_avg_price|price_diff         |\n",
      "+-----+------------------------------------------+------------------------------------------+---------+--------------+-------------------+\n",
      "|GOOGL|{2023-10-25 10:16:00, 2023-10-25 10:17:00}|{2023-10-25 10:15:00, 2023-10-25 10:16:00}|432.8925 |453.9535      |-21.061000000000035|\n",
      "+-----+------------------------------------------+------------------------------------------+---------+--------------+-------------------+\n",
      "\n"
     ]
    },
    {
     "name": "stderr",
     "output_type": "stream",
     "text": [
      "                                                                                \r"
     ]
    },
    {
     "name": "stdout",
     "output_type": "stream",
     "text": [
      "+----+------+---------------+---------+--------------+----------+\n",
      "|name|window|previous_window|avg_price|prev_avg_price|price_diff|\n",
      "+----+------+---------------+---------+--------------+----------+\n",
      "+----+------+---------------+---------+--------------+----------+\n",
      "\n"
     ]
    },
    {
     "name": "stderr",
     "output_type": "stream",
     "text": [
      "                                                                                \r"
     ]
    },
    {
     "name": "stdout",
     "output_type": "stream",
     "text": [
      "+----+------+---------------+---------+--------------+----------+\n",
      "|name|window|previous_window|avg_price|prev_avg_price|price_diff|\n",
      "+----+------+---------------+---------+--------------+----------+\n",
      "+----+------+---------------+---------+--------------+----------+\n",
      "\n"
     ]
    },
    {
     "name": "stderr",
     "output_type": "stream",
     "text": [
      "                                                                                \r"
     ]
    },
    {
     "name": "stdout",
     "output_type": "stream",
     "text": [
      "+----+------------------------------------------+------------------------------------------+---------+--------------+------------------+\n",
      "|name|window                                    |previous_window                           |avg_price|prev_avg_price|price_diff        |\n",
      "+----+------------------------------------------+------------------------------------------+---------+--------------+------------------+\n",
      "|CELG|{2023-10-25 10:18:00, 2023-10-25 10:19:00}|{2023-10-25 10:17:00, 2023-10-25 10:18:00}|75.995   |80.62         |-4.625            |\n",
      "|AKAM|{2023-10-25 10:18:00, 2023-10-25 10:19:00}|{2023-10-25 10:17:00, 2023-10-25 10:18:00}|45.27    |52.4976       |-7.227599999999995|\n",
      "+----+------------------------------------------+------------------------------------------+---------+--------------+------------------+\n",
      "\n"
     ]
    },
    {
     "name": "stderr",
     "output_type": "stream",
     "text": [
      "                                                                                \r"
     ]
    },
    {
     "name": "stdout",
     "output_type": "stream",
     "text": [
      "+----+------------------------------------------+------------------------------------------+---------+--------------+-------------------+\n",
      "|name|window                                    |previous_window                           |avg_price|prev_avg_price|price_diff         |\n",
      "+----+------------------------------------------+------------------------------------------+---------+--------------+-------------------+\n",
      "|CINF|{2023-10-25 10:19:00, 2023-10-25 10:20:00}|{2023-10-25 10:18:00, 2023-10-25 10:19:00}|51.095   |53.0          |-1.9050000000000011|\n",
      "|BAC |{2023-10-25 10:19:00, 2023-10-25 10:20:00}|{2023-10-25 10:18:00, 2023-10-25 10:19:00}|15.72    |15.97         |-0.25              |\n",
      "+----+------------------------------------------+------------------------------------------+---------+--------------+-------------------+\n",
      "\n"
     ]
    },
    {
     "name": "stderr",
     "output_type": "stream",
     "text": [
      "                                                                                \r"
     ]
    },
    {
     "name": "stdout",
     "output_type": "stream",
     "text": [
      "+----+------------------------------------------+------------------------------------------+---------+--------------+-------------------+\n",
      "|name|window                                    |previous_window                           |avg_price|prev_avg_price|price_diff         |\n",
      "+----+------------------------------------------+------------------------------------------+---------+--------------+-------------------+\n",
      "|MPC |{2023-10-25 10:20:00, 2023-10-25 10:21:00}|{2023-10-25 10:19:00, 2023-10-25 10:20:00}|43.3975  |44.62         |-1.2224999999999966|\n",
      "|SBUX|{2023-10-25 10:20:00, 2023-10-25 10:21:00}|{2023-10-25 10:19:00, 2023-10-25 10:20:00}|38.695   |39.5125       |-0.8175000000000026|\n",
      "+----+------------------------------------------+------------------------------------------+---------+--------------+-------------------+\n",
      "\n"
     ]
    },
    {
     "name": "stderr",
     "output_type": "stream",
     "text": [
      "                                                                                \r"
     ]
    },
    {
     "name": "stdout",
     "output_type": "stream",
     "text": [
      "+----+------------------------------------------+------------------------------------------+---------+--------------+-------------------+\n",
      "|name|window                                    |previous_window                           |avg_price|prev_avg_price|price_diff         |\n",
      "+----+------------------------------------------+------------------------------------------+---------+--------------+-------------------+\n",
      "|PM  |{2023-10-25 10:21:00, 2023-10-25 10:22:00}|{2023-10-25 10:20:00, 2023-10-25 10:21:00}|79.5     |81.75         |-2.25              |\n",
      "|CHK |{2023-10-25 10:21:00, 2023-10-25 10:22:00}|{2023-10-25 10:20:00, 2023-10-25 10:21:00}|25.1     |27.545        |-2.4450000000000003|\n",
      "+----+------------------------------------------+------------------------------------------+---------+--------------+-------------------+\n",
      "\n"
     ]
    },
    {
     "name": "stderr",
     "output_type": "stream",
     "text": [
      "                                                                                \r"
     ]
    },
    {
     "name": "stdout",
     "output_type": "stream",
     "text": [
      "+----+------+---------------+---------+--------------+----------+\n",
      "|name|window|previous_window|avg_price|prev_avg_price|price_diff|\n",
      "+----+------+---------------+---------+--------------+----------+\n",
      "+----+------+---------------+---------+--------------+----------+\n",
      "\n"
     ]
    },
    {
     "name": "stderr",
     "output_type": "stream",
     "text": [
      "                                                                                \r"
     ]
    },
    {
     "name": "stdout",
     "output_type": "stream",
     "text": [
      "+----+------+---------------+---------+--------------+----------+\n",
      "|name|window|previous_window|avg_price|prev_avg_price|price_diff|\n",
      "+----+------+---------------+---------+--------------+----------+\n",
      "+----+------+---------------+---------+--------------+----------+\n",
      "\n"
     ]
    },
    {
     "name": "stderr",
     "output_type": "stream",
     "text": [
      "                                                                                \r"
     ]
    },
    {
     "name": "stdout",
     "output_type": "stream",
     "text": [
      "+----+------------------------------------------+------------------------------------------+---------+--------------+-------------------+\n",
      "|name|window                                    |previous_window                           |avg_price|prev_avg_price|price_diff         |\n",
      "+----+------------------------------------------+------------------------------------------+---------+--------------+-------------------+\n",
      "|MAT |{2023-10-25 10:23:00, 2023-10-25 10:24:00}|{2023-10-25 10:22:00, 2023-10-25 10:23:00}|38.03    |38.53         |-0.5               |\n",
      "|EIX |{2023-10-25 10:23:00, 2023-10-25 10:24:00}|{2023-10-25 10:22:00, 2023-10-25 10:23:00}|56.53    |57.09         |-0.5600000000000023|\n",
      "+----+------------------------------------------+------------------------------------------+---------+--------------+-------------------+\n",
      "\n"
     ]
    },
    {
     "name": "stderr",
     "output_type": "stream",
     "text": [
      "                                                                                \r"
     ]
    },
    {
     "name": "stdout",
     "output_type": "stream",
     "text": [
      "+----+------------------------------------------+------------------------------------------+---------+--------------+--------------------+\n",
      "|name|window                                    |previous_window                           |avg_price|prev_avg_price|price_diff          |\n",
      "+----+------------------------------------------+------------------------------------------+---------+--------------+--------------------+\n",
      "|AMD |{2023-10-25 10:24:00, 2023-10-25 10:25:00}|{2023-10-25 10:23:00, 2023-10-25 10:24:00}|4.03     |4.11          |-0.08000000000000007|\n",
      "+----+------------------------------------------+------------------------------------------+---------+--------------+--------------------+\n",
      "\n"
     ]
    },
    {
     "name": "stderr",
     "output_type": "stream",
     "text": [
      "                                                                                \r"
     ]
    },
    {
     "name": "stdout",
     "output_type": "stream",
     "text": [
      "+----+------------------------------------------+------------------------------------------+------------------+--------------+-------------------+\n",
      "|name|window                                    |previous_window                           |avg_price         |prev_avg_price|price_diff         |\n",
      "+----+------------------------------------------+------------------------------------------+------------------+--------------+-------------------+\n",
      "|CA  |{2023-10-25 10:25:00, 2023-10-25 10:26:00}|{2023-10-25 10:24:00, 2023-10-25 10:25:00}|28.810000000000002|29.4          |-0.5899999999999963|\n",
      "|TJX |{2023-10-25 10:25:00, 2023-10-25 10:26:00}|{2023-10-25 10:24:00, 2023-10-25 10:25:00}|53.79             |55.05         |-1.259999999999998 |\n",
      "+----+------------------------------------------+------------------------------------------+------------------+--------------+-------------------+\n",
      "\n"
     ]
    },
    {
     "name": "stderr",
     "output_type": "stream",
     "text": [
      "                                                                                \r"
     ]
    },
    {
     "name": "stdout",
     "output_type": "stream",
     "text": [
      "+----+------------------------------------------+------------------------------------------+---------+--------------+-------------------+\n",
      "|name|window                                    |previous_window                           |avg_price|prev_avg_price|price_diff         |\n",
      "+----+------------------------------------------+------------------------------------------+---------+--------------+-------------------+\n",
      "|AAPL|{2023-10-25 10:26:00, 2023-10-25 10:27:00}|{2023-10-25 10:25:00, 2023-10-25 10:26:00}|95.48    |97.32         |-1.8399999999999892|\n",
      "|V   |{2023-10-25 10:26:00, 2023-10-25 10:27:00}|{2023-10-25 10:25:00, 2023-10-25 10:26:00}|53.0975  |54.26         |-1.1625000000000014|\n",
      "|SRE |{2023-10-25 10:26:00, 2023-10-25 10:27:00}|{2023-10-25 10:25:00, 2023-10-25 10:26:00}|100.81   |103.48        |-2.6700000000000017|\n",
      "+----+------------------------------------------+------------------------------------------+---------+--------------+-------------------+\n",
      "\n"
     ]
    },
    {
     "name": "stderr",
     "output_type": "stream",
     "text": [
      "                                                                                \r"
     ]
    },
    {
     "name": "stdout",
     "output_type": "stream",
     "text": [
      "+----+------+---------------+---------+--------------+----------+\n",
      "|name|window|previous_window|avg_price|prev_avg_price|price_diff|\n",
      "+----+------+---------------+---------+--------------+----------+\n",
      "+----+------+---------------+---------+--------------+----------+\n",
      "\n"
     ]
    },
    {
     "name": "stderr",
     "output_type": "stream",
     "text": [
      "                                                                                \r"
     ]
    },
    {
     "name": "stdout",
     "output_type": "stream",
     "text": [
      "+----+------+---------------+---------+--------------+----------+\n",
      "|name|window|previous_window|avg_price|prev_avg_price|price_diff|\n",
      "+----+------+---------------+---------+--------------+----------+\n",
      "+----+------+---------------+---------+--------------+----------+\n",
      "\n"
     ]
    },
    {
     "name": "stderr",
     "output_type": "stream",
     "text": [
      "                                                                                \r"
     ]
    },
    {
     "name": "stdout",
     "output_type": "stream",
     "text": [
      "+----+------------------------------------------+------------------------------------------+---------+--------------+-------------------+\n",
      "|name|window                                    |previous_window                           |avg_price|prev_avg_price|price_diff         |\n",
      "+----+------------------------------------------+------------------------------------------+---------+--------------+-------------------+\n",
      "|NWL |{2023-10-25 10:28:00, 2023-10-25 10:29:00}|{2023-10-25 10:27:00, 2023-10-25 10:28:00}|32.66    |33.56         |-0.9000000000000057|\n",
      "+----+------------------------------------------+------------------------------------------+---------+--------------+-------------------+\n",
      "\n"
     ]
    },
    {
     "name": "stderr",
     "output_type": "stream",
     "text": [
      "                                                                                \r"
     ]
    },
    {
     "name": "stdout",
     "output_type": "stream",
     "text": [
      "+----+------------------------------------------+------------------------------------------+---------+--------------+-------------------+\n",
      "|name|window                                    |previous_window                           |avg_price|prev_avg_price|price_diff         |\n",
      "+----+------------------------------------------+------------------------------------------+---------+--------------+-------------------+\n",
      "|BLK |{2023-10-25 10:29:00, 2023-10-25 10:30:00}|{2023-10-25 10:28:00, 2023-10-25 10:29:00}|347.22   |348.23        |-1.009999999999991 |\n",
      "|VLO |{2023-10-25 10:29:00, 2023-10-25 10:30:00}|{2023-10-25 10:28:00, 2023-10-25 10:29:00}|49.17    |51.24         |-2.0700000000000003|\n",
      "+----+------------------------------------------+------------------------------------------+---------+--------------+-------------------+\n",
      "\n"
     ]
    }
   ],
   "source": [
    "from pyspark.sql.functions import window, col, last, lag\n",
    "from pyspark.sql.window import Window\n",
    "from pyspark.sql import DataFrame\n",
    "\n",
    "# Function to process each micro-batch\n",
    "def process_batch(df: DataFrame, epoch_id):\n",
    "    \n",
    "    # Define the window specification with partitioning by name and ordering by window\n",
    "    w = Window.partitionBy(\"name\").orderBy(\"window\")\n",
    "\n",
    "    # Add new columns with the lagged or previous window last value\n",
    "    df_with_lag = df.withColumn(\"prev_last_value\", lag(\"value\").over(w)) \\\n",
    "                    .withColumn(\"previous_window\", lag(col(\"window\")).over(w))\n",
    "\n",
    "    # Calculate the difference between the current last value and the previous last value\n",
    "    df_with_diff = df_with_lag.withColumn(\"value_diff\", col(\"value\") - col(\"prev_last_value\"))\n",
    "\n",
    "    # Filter for stocks that have lost value\n",
    "    stocks_lost_value = df_with_diff.filter(col(\"value_diff\") < 0)\n",
    "\n",
    "    # Select columns in the specified order\n",
    "    final_df = stocks_lost_value.select(\n",
    "        \"name\",\n",
    "        \"window\",\n",
    "        \"previous_window\",\n",
    "        \"value\",\n",
    "        \"prev_last_value\",\n",
    "        \"value_diff\"\n",
    "    )\n",
    "\n",
    "    # Write the full lines to the console without truncating = just fo better view\n",
    "    final_df.write.format(\"console\").option(\"truncate\", False).save()\n",
    "\n",
    "# Define the window duration, i choose \"1 minute\"\n",
    "window_duration = \"1 minute\"\n",
    "\n",
    "# Group the data by window and stock name and get the last value in each window\n",
    "windowedLast = df \\\n",
    "    .withWatermark(\"timestamp\", \"2 minutes\") \\\n",
    "    .groupBy(window(col(\"timestamp\"), window_duration), col(\"name\")) \\\n",
    "    .agg(last(col(\"price\")).alias(\"value\"))  # Use last value instead of avg\n",
    "\n",
    "# Use foreachBatch to apply the custom logic to each micro-batch\n",
    "query = windowedLast \\\n",
    "    .writeStream \\\n",
    "    .outputMode(\"update\") \\\n",
    "    .foreachBatch(process_batch) \\\n",
    "    .start()\n",
    "\n",
    "query.awaitTermination()"
   ]
  },
  {
   "cell_type": "code",
   "execution_count": 3,
   "id": "8b28a35b",
   "metadata": {},
   "outputs": [],
   "source": [
    "# M2:"
   ]
  },
  {
   "cell_type": "code",
   "execution_count": null,
   "id": "ae1c33b0",
   "metadata": {
    "scrolled": true
   },
   "outputs": [
    {
     "name": "stderr",
     "output_type": "stream",
     "text": [
      "23/11/05 13:44:59 WARN ResolveWriteToStream: Temporary checkpoint location created which is deleted normally when the query didn't fail: /tmp/temporary-0a311cae-1744-4628-b71c-87364b094d5d. If it's required to delete it under any circumstances, please set spark.sql.streaming.forceDeleteTempCheckpointLocation to true. Important to know deleting temp checkpoint folder is best effort.\n",
      "23/11/05 13:44:59 WARN ResolveWriteToStream: spark.sql.adaptive.enabled is not supported in streaming DataFrames/Datasets and will be disabled.\n",
      "                                                                                \r"
     ]
    },
    {
     "name": "stdout",
     "output_type": "stream",
     "text": [
      "-------------------------------------------\n",
      "Batch: 0\n",
      "-------------------------------------------\n",
      "+----+------------------------------------------+------------------+--------------------+\n",
      "|name|window                                    |prices            |price_diff          |\n",
      "+----+------------------------------------------+------------------+--------------------+\n",
      "|DFS |{2023-10-25 10:00:00, 2023-10-25 15:00:00}|[39.82, 38.82]    |-1.0                |\n",
      "|FLS |{2023-10-25 10:00:00, 2023-10-25 15:00:00}|[53.4833, 53.4166]|-0.06669999999999732|\n",
      "|FITB|{2023-10-25 10:00:00, 2023-10-25 15:00:00}|[16.63, 16.16]    |-0.46999999999999886|\n",
      "+----+------------------------------------------+------------------+--------------------+\n",
      "\n"
     ]
    },
    {
     "name": "stderr",
     "output_type": "stream",
     "text": [
      "                                                                                \r"
     ]
    },
    {
     "name": "stdout",
     "output_type": "stream",
     "text": [
      "-------------------------------------------\n",
      "Batch: 1\n",
      "-------------------------------------------\n",
      "+----+------------------------------------------+---------------------+--------------------+\n",
      "|name|window                                    |prices               |price_diff          |\n",
      "+----+------------------------------------------+---------------------+--------------------+\n",
      "|VAR |{2023-10-25 10:00:00, 2023-10-25 15:00:00}|[72.25, 71.8]        |-0.45000000000000284|\n",
      "|MS  |{2023-10-25 10:00:00, 2023-10-25 15:00:00}|[23.85, 21.83]       |-2.020000000000003  |\n",
      "|PGR |{2023-10-25 10:00:00, 2023-10-25 15:00:00}|[25.68, 25.14]       |-0.5399999999999991 |\n",
      "|NFLX|{2023-10-25 10:00:00, 2023-10-25 15:00:00}|[28.1514, 26.0499]   |-2.101499999999998  |\n",
      "|AKAM|{2023-10-25 10:00:00, 2023-10-25 15:00:00}|[38.76, 35.3099]     |-3.450099999999999  |\n",
      "|DAL |{2023-10-25 10:00:00, 2023-10-25 15:00:00}|[17.04, 15.24, 15.69]|-1.3499999999999996 |\n",
      "|XYL |{2023-10-25 10:00:00, 2023-10-25 15:00:00}|[28.05, 27.59]       |-0.46000000000000085|\n",
      "|DHI |{2023-10-25 10:00:00, 2023-10-25 15:00:00}|[24.5, 23.44]        |-1.0599999999999987 |\n",
      "|CMA |{2023-10-25 10:00:00, 2023-10-25 15:00:00}|[36.74, 35.95]       |-0.7899999999999991 |\n",
      "+----+------------------------------------------+---------------------+--------------------+\n",
      "\n"
     ]
    },
    {
     "name": "stderr",
     "output_type": "stream",
     "text": [
      "                                                                                \r"
     ]
    },
    {
     "name": "stdout",
     "output_type": "stream",
     "text": [
      "-------------------------------------------\n",
      "Batch: 2\n",
      "-------------------------------------------\n",
      "+----+------------------------------------------+------------------------------+-------------------+\n",
      "|name|window                                    |prices                        |price_diff         |\n",
      "+----+------------------------------------------+------------------------------+-------------------+\n",
      "|VMC |{2023-10-25 10:00:00, 2023-10-25 15:00:00}|[49.91, 48.24, 49.66]         |-0.25              |\n",
      "|SYK |{2023-10-25 10:00:00, 2023-10-25 15:00:00}|[65.06, 64.8]                 |-0.2600000000000051|\n",
      "|WDC |{2023-10-25 10:00:00, 2023-10-25 15:00:00}|[51.0, 50.13]                 |-0.8699999999999974|\n",
      "|BXP |{2023-10-25 10:00:00, 2023-10-25 15:00:00}|[110.1, 109.22]               |-0.8799999999999955|\n",
      "|PXD |{2023-10-25 10:00:00, 2023-10-25 15:00:00}|[124.69, 128.0, 114.075]      |-10.614999999999995|\n",
      "|ISRG|{2023-10-25 10:00:00, 2023-10-25 15:00:00}|[192.6465, 160.6632, 168.1665]|-24.47999999999999 |\n",
      "|SO  |{2023-10-25 10:00:00, 2023-10-25 15:00:00}|[48.245, 48.35, 46.36]        |-1.884999999999998 |\n",
      "|XYL |{2023-10-25 10:00:00, 2023-10-25 15:00:00}|[28.05, 27.59, 27.74]         |-0.3100000000000023|\n",
      "|GPC |{2023-10-25 10:00:00, 2023-10-25 15:00:00}|[78.22, 74.82]                |-3.4000000000000057|\n",
      "+----+------------------------------------------+------------------------------+-------------------+\n",
      "\n"
     ]
    },
    {
     "name": "stderr",
     "output_type": "stream",
     "text": [
      "                                                                                \r"
     ]
    },
    {
     "name": "stdout",
     "output_type": "stream",
     "text": [
      "-------------------------------------------\n",
      "Batch: 3\n",
      "-------------------------------------------\n",
      "+----+------------------------------------------+-----------------------------+--------------------+\n",
      "|name|window                                    |prices                       |price_diff          |\n",
      "+----+------------------------------------------+-----------------------------+--------------------+\n",
      "|EQIX|{2023-10-25 10:00:00, 2023-10-25 15:00:00}|[219.94, 194.854]            |-25.085999999999984 |\n",
      "|CCL |{2023-10-25 10:00:00, 2023-10-25 15:00:00}|[33.95, 32.35]               |-1.6000000000000014 |\n",
      "|INCY|{2023-10-25 10:00:00, 2023-10-25 15:00:00}|[23.0, 20.71]                |-2.289999999999999  |\n",
      "|CAT |{2023-10-25 10:00:00, 2023-10-25 15:00:00}|[89.55, 84.77]               |-4.780000000000001  |\n",
      "|ZBH |{2023-10-25 10:00:00, 2023-10-25 15:00:00}|[81.185, 78.77]              |-2.4150000000000063 |\n",
      "|COP |{2023-10-25 10:00:00, 2023-10-25 15:00:00}|[61.92, 61.72]               |-0.20000000000000284|\n",
      "|WMB |{2023-10-25 10:00:00, 2023-10-25 15:00:00}|[36.93, 33.66]               |-3.270000000000003  |\n",
      "|EXC |{2023-10-25 10:00:00, 2023-10-25 15:00:00}|[37.22, 30.71]               |-6.509999999999998  |\n",
      "|NEE |{2023-10-25 10:00:00, 2023-10-25 15:00:00}|[81.15, 80.33]               |-0.8200000000000074 |\n",
      "|SO  |{2023-10-25 10:00:00, 2023-10-25 15:00:00}|[48.245, 48.35, 46.36, 44.59]|-3.654999999999994  |\n",
      "|REG |{2023-10-25 10:00:00, 2023-10-25 15:00:00}|[52.82, 54.24, 51.0499]      |-1.7700999999999993 |\n",
      "|XYL |{2023-10-25 10:00:00, 2023-10-25 15:00:00}|[28.05, 27.59, 27.74, 27.96] |-0.08999999999999986|\n",
      "|CXO |{2023-10-25 10:00:00, 2023-10-25 15:00:00}|[91.17, 92.59, 84.0]         |-7.170000000000002  |\n",
      "|ORLY|{2023-10-25 10:00:00, 2023-10-25 15:00:00}|[112.17, 112.92, 110.26]     |-1.9099999999999966 |\n",
      "|CNP |{2023-10-25 10:00:00, 2023-10-25 15:00:00}|[24.05, 23.68, 23.81]        |-0.240000000000002  |\n",
      "+----+------------------------------------------+-----------------------------+--------------------+\n",
      "\n"
     ]
    },
    {
     "name": "stderr",
     "output_type": "stream",
     "text": [
      "                                                                                \r"
     ]
    },
    {
     "name": "stdout",
     "output_type": "stream",
     "text": [
      "-------------------------------------------\n",
      "Batch: 4\n",
      "-------------------------------------------\n",
      "+----+------------------------------------------+-----------------------------------+---------------------+\n",
      "|name|window                                    |prices                             |price_diff           |\n",
      "+----+------------------------------------------+-----------------------------------+---------------------+\n",
      "|HCP |{2023-10-25 10:00:00, 2023-10-25 15:00:00}|[47.08, 53.71, 46.78]              |-0.29999999999999716 |\n",
      "|HD  |{2023-10-25 10:00:00, 2023-10-25 15:00:00}|[77.0, 75.43]                      |-1.5699999999999932  |\n",
      "|FB  |{2023-10-25 10:00:00, 2023-10-25 15:00:00}|[27.64, 24.745]                    |-2.8949999999999996  |\n",
      "|KO  |{2023-10-25 10:00:00, 2023-10-25 15:00:00}|[43.05, 41.07]                     |-1.9799999999999969  |\n",
      "|ESS |{2023-10-25 10:00:00, 2023-10-25 15:00:00}|[155.535, 156.49, 151.355]         |-4.180000000000007   |\n",
      "|CAG |{2023-10-25 10:00:00, 2023-10-25 15:00:00}|[35.64, 33.64]                     |-2.0                 |\n",
      "|COP |{2023-10-25 10:00:00, 2023-10-25 15:00:00}|[61.92, 61.72, 60.8]               |-1.1200000000000045  |\n",
      "|BEN |{2023-10-25 10:00:00, 2023-10-25 15:00:00}|[47.025, 46.235]                   |-0.7899999999999991  |\n",
      "|SLB |{2023-10-25 10:00:00, 2023-10-25 15:00:00}|[77.04, 76.88]                     |-0.1600000000000108  |\n",
      "|XYL |{2023-10-25 10:00:00, 2023-10-25 15:00:00}|[28.05, 27.59, 27.74, 27.96, 26.63]|-1.4200000000000017  |\n",
      "|APA |{2023-10-25 10:00:00, 2023-10-25 15:00:00}|[85.82, 81.94]                     |-3.8799999999999955  |\n",
      "|LB  |{2023-10-25 10:00:00, 2023-10-25 15:00:00}|[51.48, 50.08, 50.6]               |-0.8799999999999955  |\n",
      "|ANSS|{2023-10-25 10:00:00, 2023-10-25 15:00:00}|[81.31, 77.13]                     |-4.180000000000007   |\n",
      "|CLX |{2023-10-25 10:00:00, 2023-10-25 15:00:00}|[86.4, 83.56, 86.39]               |-0.010000000000005116|\n",
      "|AEE |{2023-10-25 10:00:00, 2023-10-25 15:00:00}|[36.25, 35.31]                     |-0.9399999999999977  |\n",
      "|CELG|{2023-10-25 10:00:00, 2023-10-25 15:00:00}|[62.71, 60.225]                    |-2.4849999999999994  |\n",
      "|SBAC|{2023-10-25 10:00:00, 2023-10-25 15:00:00}|[79.95, 80.315, 74.28]             |-5.670000000000002   |\n",
      "+----+------------------------------------------+-----------------------------------+---------------------+\n",
      "\n"
     ]
    },
    {
     "name": "stderr",
     "output_type": "stream",
     "text": [
      "                                                                                \r"
     ]
    },
    {
     "name": "stdout",
     "output_type": "stream",
     "text": [
      "-------------------------------------------\n",
      "Batch: 5\n",
      "-------------------------------------------\n",
      "+----+------------------------------------------+-------------------------------+--------------------+\n",
      "|name|window                                    |prices                         |price_diff          |\n",
      "+----+------------------------------------------+-------------------------------+--------------------+\n",
      "|KO  |{2023-10-25 10:00:00, 2023-10-25 15:00:00}|[43.05, 41.07, 40.68]          |-2.3699999999999974 |\n",
      "|TIF |{2023-10-25 10:00:00, 2023-10-25 15:00:00}|[79.42, 79.46, 79.38]          |-0.04000000000000625|\n",
      "|LEG |{2023-10-25 10:00:00, 2023-10-25 15:00:00}|[31.828, 31.18]                |-0.6479999999999997 |\n",
      "|MSI |{2023-10-25 10:00:00, 2023-10-25 15:00:00}|[58.53, 57.96]                 |-0.5700000000000003 |\n",
      "|SWKS|{2023-10-25 10:00:00, 2023-10-25 15:00:00}|[24.37, 23.91]                 |-0.46000000000000085|\n",
      "|DHI |{2023-10-25 10:00:00, 2023-10-25 15:00:00}|[24.5, 23.44, 18.91]           |-5.59               |\n",
      "|SCG |{2023-10-25 10:00:00, 2023-10-25 15:00:00}|[53.2375, 52.46]               |-0.7774999999999963 |\n",
      "|ORCL|{2023-10-25 10:00:00, 2023-10-25 15:00:00}|[33.915, 34.41, 32.6]          |-1.3149999999999977 |\n",
      "|AEE |{2023-10-25 10:00:00, 2023-10-25 15:00:00}|[36.25, 35.31, 35.29]          |-0.9600000000000009 |\n",
      "|MPC |{2023-10-25 10:00:00, 2023-10-25 15:00:00}|[42.505, 44.735, 35.05, 35.945]|-6.560000000000002  |\n",
      "|ACN |{2023-10-25 10:00:00, 2023-10-25 15:00:00}|[77.0, 73.7]                   |-3.299999999999997  |\n",
      "|PHM |{2023-10-25 10:00:00, 2023-10-25 15:00:00}|[19.69, 16.11]                 |-3.580000000000002  |\n",
      "|CBG |{2023-10-25 10:00:00, 2023-10-25 15:00:00}|[24.8, 24.48]                  |-0.3200000000000003 |\n",
      "+----+------------------------------------------+-------------------------------+--------------------+\n",
      "\n"
     ]
    },
    {
     "name": "stderr",
     "output_type": "stream",
     "text": [
      "                                                                                \r"
     ]
    },
    {
     "name": "stdout",
     "output_type": "stream",
     "text": [
      "-------------------------------------------\n",
      "Batch: 6\n",
      "-------------------------------------------\n",
      "+-----+------------------------------------------+--------------------------------+---------------------+\n",
      "|name |window                                    |prices                          |price_diff           |\n",
      "+-----+------------------------------------------+--------------------------------+---------------------+\n",
      "|HCP  |{2023-10-25 10:00:00, 2023-10-25 15:00:00}|[47.08, 53.71, 46.78, 41.87]    |-5.210000000000001   |\n",
      "|PEP  |{2023-10-25 10:00:00, 2023-10-25 15:00:00}|[82.925, 79.685]                |-3.239999999999995   |\n",
      "|KO   |{2023-10-25 10:00:00, 2023-10-25 15:00:00}|[43.05, 41.07, 40.68, 38.61]    |-4.439999999999998   |\n",
      "|XEL  |{2023-10-25 10:00:00, 2023-10-25 15:00:00}|[30.19, 27.8]                   |-2.3900000000000006  |\n",
      "|DISCK|{2023-10-25 10:00:00, 2023-10-25 15:00:00}|[75.95, 72.94]                  |-3.010000000000005   |\n",
      "|LEG  |{2023-10-25 10:00:00, 2023-10-25 15:00:00}|[31.828, 31.18, 31.13]          |-0.6980000000000004  |\n",
      "|TSCO |{2023-10-25 10:00:00, 2023-10-25 15:00:00}|[60.99, 60.66]                  |-0.3300000000000054  |\n",
      "|PPL  |{2023-10-25 10:00:00, 2023-10-25 15:00:00}|[30.42, 30.41]                  |-0.010000000000001563|\n",
      "|BXP  |{2023-10-25 10:00:00, 2023-10-25 15:00:00}|[110.1, 109.22, 112.745, 107.04]|-3.059999999999988   |\n",
      "|BLL  |{2023-10-25 10:00:00, 2023-10-25 15:00:00}|[23.185, 22.65]                 |-0.5350000000000001  |\n",
      "|TWX  |{2023-10-25 10:00:00, 2023-10-25 15:00:00}|[62.12, 61.9761]                |-0.14389999999999503 |\n",
      "|AMT  |{2023-10-25 10:00:00, 2023-10-25 15:00:00}|[78.3452, 75.02]                |-3.3252000000000095  |\n",
      "|RMD  |{2023-10-25 10:00:00, 2023-10-25 15:00:00}|[50.43, 48.91]                  |-1.5200000000000031  |\n",
      "|MOS  |{2023-10-25 10:00:00, 2023-10-25 15:00:00}|[44.8, 41.6444]                 |-3.1555999999999997  |\n",
      "|ARNC |{2023-10-25 10:00:00, 2023-10-25 15:00:00}|[24.42, 24.27]                  |-0.15000000000000213 |\n",
      "|PFG  |{2023-10-25 10:00:00, 2023-10-25 15:00:00}|[44.94, 42.64]                  |-2.299999999999997   |\n",
      "|GIS  |{2023-10-25 10:00:00, 2023-10-25 15:00:00}|[50.5207, 49.5]                 |-1.020699999999998   |\n",
      "|LEN  |{2023-10-25 10:00:00, 2023-10-25 15:00:00}|[36.2157, 31.5784]              |-4.6373              |\n",
      "+-----+------------------------------------------+--------------------------------+---------------------+\n",
      "\n"
     ]
    },
    {
     "name": "stderr",
     "output_type": "stream",
     "text": [
      "                                                                                \r"
     ]
    },
    {
     "name": "stdout",
     "output_type": "stream",
     "text": [
      "-------------------------------------------\n",
      "Batch: 7\n",
      "-------------------------------------------\n",
      "+----+------------------------------------------+------------------------------+---------------------+\n",
      "|name|window                                    |prices                        |price_diff           |\n",
      "+----+------------------------------------------+------------------------------+---------------------+\n",
      "|PEP |{2023-10-25 10:00:00, 2023-10-25 15:00:00}|[82.925, 79.685, 79.908]      |-3.016999999999996   |\n",
      "|UTX |{2023-10-25 10:00:00, 2023-10-25 15:00:00}|[106.45, 104.75]              |-1.7000000000000028  |\n",
      "|HCN |{2023-10-25 10:00:00, 2023-10-25 15:00:00}|[74.235, 63.3, 63.96]         |-10.274999999999999  |\n",
      "|ESRX|{2023-10-25 10:00:00, 2023-10-25 15:00:00}|[67.56, 63.94]                |-3.6200000000000045  |\n",
      "|CCL |{2023-10-25 10:00:00, 2023-10-25 15:00:00}|[33.95, 32.35, 32.48, 32.5101]|-1.4399000000000015  |\n",
      "|T   |{2023-10-25 10:00:00, 2023-10-25 15:00:00}|[37.69, 33.65]                |-4.039999999999999   |\n",
      "|ES  |{2023-10-25 10:00:00, 2023-10-25 15:00:00}|[44.45, 41.76]                |-2.690000000000005   |\n",
      "|SPG |{2023-10-25 10:00:00, 2023-10-25 15:00:00}|[175.05, 151.73, 151.49]      |-23.560000000000002  |\n",
      "|CAG |{2023-10-25 10:00:00, 2023-10-25 15:00:00}|[35.64, 33.64, 31.02, 31.02]  |-4.620000000000001   |\n",
      "|BF.B|{2023-10-25 10:00:00, 2023-10-25 15:00:00}|[36.315, 35.235]              |-1.0799999999999983  |\n",
      "|MAC |{2023-10-25 10:00:00, 2023-10-25 15:00:00}|[62.01, 56.115]               |-5.894999999999996   |\n",
      "|BLL |{2023-10-25 10:00:00, 2023-10-25 15:00:00}|[23.185, 22.65, 23.18]        |-0.004999999999999005|\n",
      "|C   |{2023-10-25 10:00:00, 2023-10-25 15:00:00}|[52.88, 49.2]                 |-3.6799999999999997  |\n",
      "|SCG |{2023-10-25 10:00:00, 2023-10-25 15:00:00}|[53.2375, 52.46, 47.5]        |-5.737499999999997   |\n",
      "|GLW |{2023-10-25 10:00:00, 2023-10-25 15:00:00}|[14.55, 14.1]                 |-0.45000000000000107 |\n",
      "|GIS |{2023-10-25 10:00:00, 2023-10-25 15:00:00}|[50.5207, 49.5, 49.77]        |-0.7506999999999948  |\n",
      "|KMI |{2023-10-25 10:00:00, 2023-10-25 15:00:00}|[39.11, 35.76]                |-3.3500000000000014  |\n",
      "|JNPR|{2023-10-25 10:00:00, 2023-10-25 15:00:00}|[20.49, 21.2, 20.26]          |-0.22999999999999687 |\n",
      "|XOM |{2023-10-25 10:00:00, 2023-10-25 15:00:00}|[90.88, 91.51, 86.04]         |-4.839999999999989   |\n",
      "|MAA |{2023-10-25 10:00:00, 2023-10-25 15:00:00}|[74.94, 63.25]                |-11.689999999999998  |\n",
      "+----+------------------------------------------+------------------------------+---------------------+\n",
      "only showing top 20 rows\n",
      "\n"
     ]
    },
    {
     "name": "stderr",
     "output_type": "stream",
     "text": [
      "                                                                                \r"
     ]
    },
    {
     "name": "stdout",
     "output_type": "stream",
     "text": [
      "-------------------------------------------\n",
      "Batch: 8\n",
      "-------------------------------------------\n",
      "+----+------------------------------------------+----------------------------------------+--------------------+\n",
      "|name|window                                    |prices                                  |price_diff          |\n",
      "+----+------------------------------------------+----------------------------------------+--------------------+\n",
      "|HD  |{2023-10-25 10:00:00, 2023-10-25 15:00:00}|[77.0, 75.43, 80.06, 76.8]              |-0.20000000000000284|\n",
      "|AET |{2023-10-25 10:00:00, 2023-10-25 15:00:00}|[62.79, 63.65, 64.24, 62.1]             |-0.6899999999999977 |\n",
      "|RRC |{2023-10-25 10:00:00, 2023-10-25 15:00:00}|[79.87, 75.09]                          |-4.780000000000001  |\n",
      "|HCN |{2023-10-25 10:00:00, 2023-10-25 15:00:00}|[74.235, 63.3, 63.96, 66.76]            |-7.474999999999994  |\n",
      "|TIF |{2023-10-25 10:00:00, 2023-10-25 15:00:00}|[79.42, 79.46, 79.38, 78.455]           |-0.9650000000000034 |\n",
      "|BXP |{2023-10-25 10:00:00, 2023-10-25 15:00:00}|[110.1, 109.22, 112.745, 107.04, 102.79]|-7.309999999999988  |\n",
      "|MON |{2023-10-25 10:00:00, 2023-10-25 15:00:00}|[109.33, 108.13]                        |-1.2000000000000028 |\n",
      "|C   |{2023-10-25 10:00:00, 2023-10-25 15:00:00}|[52.88, 49.2, 50.53]                    |-2.3500000000000014 |\n",
      "|UDR |{2023-10-25 10:00:00, 2023-10-25 15:00:00}|[24.45, 23.85]                          |-0.5999999999999979 |\n",
      "|ORCL|{2023-10-25 10:00:00, 2023-10-25 15:00:00}|[33.915, 34.41, 32.6, 34.13, 33.46]     |-0.4549999999999983 |\n",
      "|GIS |{2023-10-25 10:00:00, 2023-10-25 15:00:00}|[50.5207, 49.5, 49.77, 48.8]            |-1.7207000000000008 |\n",
      "|AIV |{2023-10-25 10:00:00, 2023-10-25 15:00:00}|[30.63, 28.738]                         |-1.8919999999999995 |\n",
      "|ACN |{2023-10-25 10:00:00, 2023-10-25 15:00:00}|[77.0, 73.7, 74.16]                     |-2.8400000000000034 |\n",
      "|RL  |{2023-10-25 10:00:00, 2023-10-25 15:00:00}|[181.35, 176.37]                        |-4.97999999999999   |\n",
      "+----+------------------------------------------+----------------------------------------+--------------------+\n",
      "\n"
     ]
    },
    {
     "name": "stderr",
     "output_type": "stream",
     "text": [
      "                                                                                \r"
     ]
    },
    {
     "name": "stdout",
     "output_type": "stream",
     "text": [
      "-------------------------------------------\n",
      "Batch: 9\n",
      "-------------------------------------------\n",
      "+----+------------------------------------------+------------------------------------------------+--------------------+\n",
      "|name|window                                    |prices                                          |price_diff          |\n",
      "+----+------------------------------------------+------------------------------------------------+--------------------+\n",
      "|MCD |{2023-10-25 10:00:00, 2023-10-25 15:00:00}|[98.16, 96.75]                                  |-1.4099999999999966 |\n",
      "|XEL |{2023-10-25 10:00:00, 2023-10-25 15:00:00}|[30.19, 27.8, 28.75]                            |-1.4400000000000013 |\n",
      "|CAG |{2023-10-25 10:00:00, 2023-10-25 15:00:00}|[35.64, 33.64, 31.02, 31.02, 32.84, 33.09]      |-2.549999999999997  |\n",
      "|WMB |{2023-10-25 10:00:00, 2023-10-25 15:00:00}|[36.93, 33.66, 35.45]                           |-1.4799999999999969 |\n",
      "|BXP |{2023-10-25 10:00:00, 2023-10-25 15:00:00}|[110.1, 109.22, 112.745, 107.04, 102.79, 103.97]|-6.1299999999999955 |\n",
      "|BAC |{2023-10-25 10:00:00, 2023-10-25 15:00:00}|[15.97, 15.72]                                  |-0.25               |\n",
      "|HSY |{2023-10-25 10:00:00, 2023-10-25 15:00:00}|[96.94, 95.89]                                  |-1.0499999999999972 |\n",
      "|NEM |{2023-10-25 10:00:00, 2023-10-25 15:00:00}|[39.43, 26.24]                                  |-13.190000000000001 |\n",
      "|ED  |{2023-10-25 10:00:00, 2023-10-25 15:00:00}|[56.66, 57.46, 56.27]                           |-0.38999999999999346|\n",
      "|IRM |{2023-10-25 10:00:00, 2023-10-25 15:00:00}|[29.08, 28.5]                                   |-0.5799999999999983 |\n",
      "|LH  |{2023-10-25 10:00:00, 2023-10-25 15:00:00}|[90.065, 98.76, 90.0]                           |-0.06499999999999773|\n",
      "|DLR |{2023-10-25 10:00:00, 2023-10-25 15:00:00}|[64.3965, 46.315]                               |-18.081500000000005 |\n",
      "|CINF|{2023-10-25 10:00:00, 2023-10-25 15:00:00}|[53.0, 51.095]                                  |-1.9050000000000011 |\n",
      "|VTR |{2023-10-25 10:00:00, 2023-10-25 15:00:00}|[72.1, 59.44]                                   |-12.659999999999997 |\n",
      "|IR  |{2023-10-25 10:00:00, 2023-10-25 15:00:00}|[59.49, 57.43]                                  |-2.0600000000000023 |\n",
      "|KMI |{2023-10-25 10:00:00, 2023-10-25 15:00:00}|[39.11, 35.76, 36.08]                           |-3.030000000000001  |\n",
      "|IBM |{2023-10-25 10:00:00, 2023-10-25 15:00:00}|[211.98, 186.2]                                 |-25.78              |\n",
      "|VIAB|{2023-10-25 10:00:00, 2023-10-25 15:00:00}|[80.09, 82.33, 79.84]                           |-0.25               |\n",
      "|FRT |{2023-10-25 10:00:00, 2023-10-25 15:00:00}|[106.58, 116.94, 103.98, 106.77, 103.57]        |-3.010000000000005  |\n",
      "+----+------------------------------------------+------------------------------------------------+--------------------+\n",
      "\n"
     ]
    },
    {
     "name": "stderr",
     "output_type": "stream",
     "text": [
      "                                                                                \r"
     ]
    },
    {
     "name": "stdout",
     "output_type": "stream",
     "text": [
      "-------------------------------------------\n",
      "Batch: 10\n",
      "-------------------------------------------\n",
      "+----+------------------------------------------+------------------------------------------------+---------------------+\n",
      "|name|window                                    |prices                                          |price_diff           |\n",
      "+----+------------------------------------------+------------------------------------------------+---------------------+\n",
      "|CMS |{2023-10-25 10:00:00, 2023-10-25 15:00:00}|[27.1751, 28.09, 28.29, 26.69]                  |-0.4850999999999992  |\n",
      "|ES  |{2023-10-25 10:00:00, 2023-10-25 15:00:00}|[44.45, 41.76, 42.61]                           |-1.8400000000000034  |\n",
      "|NTAP|{2023-10-25 10:00:00, 2023-10-25 15:00:00}|[40.79, 40.68]                                  |-0.10999999999999943 |\n",
      "|SBUX|{2023-10-25 10:00:00, 2023-10-25 15:00:00}|[39.5125, 38.695]                               |-0.8175000000000026  |\n",
      "|CHRW|{2023-10-25 10:00:00, 2023-10-25 15:00:00}|[57.82, 60.36, 62.25, 57.76]                    |-0.060000000000002274|\n",
      "|NEM |{2023-10-25 10:00:00, 2023-10-25 15:00:00}|[39.43, 26.24, 24.88]                           |-14.55               |\n",
      "|DLR |{2023-10-25 10:00:00, 2023-10-25 15:00:00}|[64.3965, 46.315, 46.71]                        |-17.686500000000002  |\n",
      "|CINF|{2023-10-25 10:00:00, 2023-10-25 15:00:00}|[53.0, 51.095, 51.39]                           |-1.6099999999999994  |\n",
      "|DHI |{2023-10-25 10:00:00, 2023-10-25 15:00:00}|[24.5, 23.44, 18.91, 20.63]                     |-3.870000000000001   |\n",
      "|HUM |{2023-10-25 10:00:00, 2023-10-25 15:00:00}|[98.92, 98.77]                                  |-0.15000000000000568 |\n",
      "|GIS |{2023-10-25 10:00:00, 2023-10-25 15:00:00}|[50.5207, 49.5, 49.77, 48.8, 48.6]              |-1.9206999999999965  |\n",
      "|ETR |{2023-10-25 10:00:00, 2023-10-25 15:00:00}|[70.0, 62.57]                                   |-7.43                |\n",
      "|EW  |{2023-10-25 10:00:00, 2023-10-25 15:00:00}|[35.655, 33.74]                                 |-1.9149999999999991  |\n",
      "|FRT |{2023-10-25 10:00:00, 2023-10-25 15:00:00}|[106.58, 116.94, 103.98, 106.77, 103.57, 105.05]|-1.5300000000000011  |\n",
      "+----+------------------------------------------+------------------------------------------------+---------------------+\n",
      "\n"
     ]
    },
    {
     "name": "stderr",
     "output_type": "stream",
     "text": [
      "                                                                                \r"
     ]
    },
    {
     "name": "stdout",
     "output_type": "stream",
     "text": [
      "-------------------------------------------\n",
      "Batch: 11\n",
      "-------------------------------------------\n",
      "+----+------------------------------------------+------------------------------------------------------+--------------------+\n",
      "|name|window                                    |prices                                                |price_diff          |\n",
      "+----+------------------------------------------+------------------------------------------------------+--------------------+\n",
      "|ARE |{2023-10-25 10:00:00, 2023-10-25 15:00:00}|[71.155, 70.52]                                       |-0.6350000000000051 |\n",
      "|ANDV|{2023-10-25 10:00:00, 2023-10-25 15:00:00}|[58.44, 51.52]                                        |-6.919999999999995  |\n",
      "|KSU |{2023-10-25 10:00:00, 2023-10-25 15:00:00}|[109.11, 113.24, 104.25]                              |-4.859999999999999  |\n",
      "|FCX |{2023-10-25 10:00:00, 2023-10-25 15:00:00}|[36.23, 32.545]                                       |-3.684999999999995  |\n",
      "|FTI |{2023-10-25 10:00:00, 2023-10-25 15:00:00}|[52.26, 49.2]                                         |-3.059999999999995  |\n",
      "|SBUX|{2023-10-25 10:00:00, 2023-10-25 15:00:00}|[39.5125, 38.695, 37.5]                               |-2.012500000000003  |\n",
      "|MDT |{2023-10-25 10:00:00, 2023-10-25 15:00:00}|[59.56, 59.22]                                        |-0.3400000000000034 |\n",
      "|MAC |{2023-10-25 10:00:00, 2023-10-25 15:00:00}|[62.01, 56.115, 60.42]                                |-1.5899999999999963 |\n",
      "|CTSH|{2023-10-25 10:00:00, 2023-10-25 15:00:00}|[49.98, 48.965, 49.42, 49.165]                        |-0.8149999999999977 |\n",
      "|ED  |{2023-10-25 10:00:00, 2023-10-25 15:00:00}|[56.66, 57.46, 56.27, 54.62]                          |-2.039999999999999  |\n",
      "|MRO |{2023-10-25 10:00:00, 2023-10-25 15:00:00}|[33.82, 36.25, 33.36]                                 |-0.46000000000000085|\n",
      "|SO  |{2023-10-25 10:00:00, 2023-10-25 15:00:00}|[48.245, 48.35, 46.36, 44.59, 41.38]                  |-6.864999999999995  |\n",
      "|IRM |{2023-10-25 10:00:00, 2023-10-25 15:00:00}|[29.08, 28.5, 27.34, 28.09]                           |-0.9899999999999984 |\n",
      "|FOX |{2023-10-25 10:00:00, 2023-10-25 15:00:00}|[32.65, 31.91]                                        |-0.7399999999999984 |\n",
      "|PM  |{2023-10-25 10:00:00, 2023-10-25 15:00:00}|[84.55, 78.95, 79.5]                                  |-5.049999999999997  |\n",
      "|SCG |{2023-10-25 10:00:00, 2023-10-25 15:00:00}|[53.2375, 52.46, 47.5, 46.48, 47.09]                  |-6.147499999999994  |\n",
      "|LKQ |{2023-10-25 10:00:00, 2023-10-25 15:00:00}|[33.46, 27.045]                                       |-6.414999999999999  |\n",
      "|MPC |{2023-10-25 10:00:00, 2023-10-25 15:00:00}|[42.505, 44.735, 35.05, 35.945, 44.62, 43.3975, 42.25]|-0.25500000000000256|\n",
      "|AIV |{2023-10-25 10:00:00, 2023-10-25 15:00:00}|[30.63, 28.738, 29.98]                                |-0.6499999999999986 |\n",
      "|PH  |{2023-10-25 10:00:00, 2023-10-25 15:00:00}|[114.95, 118.92, 114.37]                              |-0.5799999999999983 |\n",
      "+----+------------------------------------------+------------------------------------------------------+--------------------+\n",
      "only showing top 20 rows\n",
      "\n"
     ]
    },
    {
     "name": "stderr",
     "output_type": "stream",
     "text": [
      "                                                                                \r"
     ]
    },
    {
     "name": "stdout",
     "output_type": "stream",
     "text": [
      "-------------------------------------------\n",
      "Batch: 12\n",
      "-------------------------------------------\n",
      "+----+------------------------------------------+-----------------------------------+--------------------+\n",
      "|name|window                                    |prices                             |price_diff          |\n",
      "+----+------------------------------------------+-----------------------------------+--------------------+\n",
      "|EQIX|{2023-10-25 10:00:00, 2023-10-25 15:00:00}|[219.94, 194.854, 192.7]           |-27.24000000000001  |\n",
      "|KO  |{2023-10-25 10:00:00, 2023-10-25 15:00:00}|[43.05, 41.07, 40.68, 38.61, 37.62]|-5.43               |\n",
      "|XEL |{2023-10-25 10:00:00, 2023-10-25 15:00:00}|[30.19, 27.8, 28.75, 29.79]        |-0.40000000000000213|\n",
      "|AMD |{2023-10-25 10:00:00, 2023-10-25 15:00:00}|[4.1, 3.73]                        |-0.36999999999999966|\n",
      "|ES  |{2023-10-25 10:00:00, 2023-10-25 15:00:00}|[44.45, 41.76, 42.61, 43.89]       |-0.5600000000000023 |\n",
      "|FTI |{2023-10-25 10:00:00, 2023-10-25 15:00:00}|[52.26, 49.2, 51.54]               |-0.7199999999999989 |\n",
      "|CTXS|{2023-10-25 10:00:00, 2023-10-25 15:00:00}|[71.84, 61.23]                     |-10.610000000000007 |\n",
      "|NEM |{2023-10-25 10:00:00, 2023-10-25 15:00:00}|[39.43, 26.24, 24.88, 24.09]       |-15.34              |\n",
      "|C   |{2023-10-25 10:00:00, 2023-10-25 15:00:00}|[52.88, 49.2, 50.53, 48.14, 48.14] |-4.740000000000002  |\n",
      "|MTD |{2023-10-25 10:00:00, 2023-10-25 15:00:00}|[249.61, 251.63, 248.47]           |-1.1400000000000148 |\n",
      "|COTY|{2023-10-25 10:00:00, 2023-10-25 15:00:00}|[15.65, 16.11, 15.04]              |-0.6100000000000012 |\n",
      "|VZ  |{2023-10-25 10:00:00, 2023-10-25 15:00:00}|[53.72, 46.56]                     |-7.159999999999997  |\n",
      "|RF  |{2023-10-25 10:00:00, 2023-10-25 15:00:00}|[10.61, 10.37]                     |-0.2400000000000002 |\n",
      "|RHT |{2023-10-25 10:00:00, 2023-10-25 15:00:00}|[59.71, 59.29]                     |-0.4200000000000017 |\n",
      "|FE  |{2023-10-25 10:00:00, 2023-10-25 15:00:00}|[36.55, 31.53]                     |-5.019999999999996  |\n",
      "|WY  |{2023-10-25 10:00:00, 2023-10-25 15:00:00}|[30.6, 29.98]                      |-0.620000000000001  |\n",
      "|RL  |{2023-10-25 10:00:00, 2023-10-25 15:00:00}|[181.35, 176.37, 158.17, 161.81]   |-19.539999999999992 |\n",
      "|O   |{2023-10-25 10:00:00, 2023-10-25 15:00:00}|[44.83, 40.6, 44.48]               |-0.3500000000000014 |\n",
      "+----+------------------------------------------+-----------------------------------+--------------------+\n",
      "\n"
     ]
    },
    {
     "name": "stderr",
     "output_type": "stream",
     "text": [
      "                                                                                \r"
     ]
    },
    {
     "name": "stdout",
     "output_type": "stream",
     "text": [
      "-------------------------------------------\n",
      "Batch: 13\n",
      "-------------------------------------------\n",
      "+----+------------------------------------------+-------------------------------------------+--------------------+\n",
      "|name|window                                    |prices                                     |price_diff          |\n",
      "+----+------------------------------------------+-------------------------------------------+--------------------+\n",
      "|FCX |{2023-10-25 10:00:00, 2023-10-25 15:00:00}|[36.23, 32.545, 33.99]                     |-2.239999999999995  |\n",
      "|SHW |{2023-10-25 10:00:00, 2023-10-25 15:00:00}|[206.86, 201.48, 191.755]                  |-15.105000000000018 |\n",
      "|CTXS|{2023-10-25 10:00:00, 2023-10-25 15:00:00}|[71.84, 61.23, 55.37]                      |-16.470000000000006 |\n",
      "|NEM |{2023-10-25 10:00:00, 2023-10-25 15:00:00}|[39.43, 26.24, 24.88, 24.09, 24.6, 24.46]  |-14.969999999999999 |\n",
      "|PM  |{2023-10-25 10:00:00, 2023-10-25 15:00:00}|[84.55, 78.95, 79.5, 82.5]                 |-2.049999999999997  |\n",
      "|COST|{2023-10-25 10:00:00, 2023-10-25 15:00:00}|[116.61, 114.46]                           |-2.1500000000000057 |\n",
      "|APA |{2023-10-25 10:00:00, 2023-10-25 15:00:00}|[85.82, 81.94, 83.0]                       |-2.819999999999993  |\n",
      "|SCG |{2023-10-25 10:00:00, 2023-10-25 15:00:00}|[53.2375, 52.46, 47.5, 46.48, 47.09, 49.89]|-3.3474999999999966 |\n",
      "|LKQ |{2023-10-25 10:00:00, 2023-10-25 15:00:00}|[33.46, 27.045, 27.42]                     |-6.039999999999999  |\n",
      "|KMI |{2023-10-25 10:00:00, 2023-10-25 15:00:00}|[39.11, 35.76, 36.08, 32.69]               |-6.420000000000002  |\n",
      "|CNP |{2023-10-25 10:00:00, 2023-10-25 15:00:00}|[24.05, 23.68, 23.81, 23.64]               |-0.41000000000000014|\n",
      "|O   |{2023-10-25 10:00:00, 2023-10-25 15:00:00}|[44.83, 40.6, 44.48, 40.93]                |-3.8999999999999986 |\n",
      "+----+------------------------------------------+-------------------------------------------+--------------------+\n",
      "\n"
     ]
    },
    {
     "name": "stderr",
     "output_type": "stream",
     "text": [
      "                                                                                \r"
     ]
    },
    {
     "name": "stdout",
     "output_type": "stream",
     "text": [
      "-------------------------------------------\n",
      "Batch: 14\n",
      "-------------------------------------------\n",
      "+-----+------------------------------------------+---------------------------------------------+--------------------+\n",
      "|name |window                                    |prices                                       |price_diff          |\n",
      "+-----+------------------------------------------+---------------------------------------------+--------------------+\n",
      "|DISCA|{2023-10-25 10:00:00, 2023-10-25 15:00:00}|[79.95, 82.82, 82.45, 76.17]                 |-3.780000000000001  |\n",
      "|HCN  |{2023-10-25 10:00:00, 2023-10-25 15:00:00}|[74.235, 63.3, 63.96, 66.76, 62.58]          |-11.655000000000001 |\n",
      "|LOW  |{2023-10-25 10:00:00, 2023-10-25 15:00:00}|[46.23, 48.14, 49.61, 45.69]                 |-0.5399999999999991 |\n",
      "|GPS  |{2023-10-25 10:00:00, 2023-10-25 15:00:00}|[41.46, 39.25]                               |-2.210000000000001  |\n",
      "|PGR  |{2023-10-25 10:00:00, 2023-10-25 15:00:00}|[25.68, 25.14, 25.74, 25.56]                 |-0.120000000000001  |\n",
      "|NTAP |{2023-10-25 10:00:00, 2023-10-25 15:00:00}|[40.79, 40.68, 37.31]                        |-3.479999999999997  |\n",
      "|ZTS  |{2023-10-25 10:00:00, 2023-10-25 15:00:00}|[33.34, 29.89]                               |-3.450000000000003  |\n",
      "|BAC  |{2023-10-25 10:00:00, 2023-10-25 15:00:00}|[15.97, 15.72, 15.1]                         |-0.870000000000001  |\n",
      "|C    |{2023-10-25 10:00:00, 2023-10-25 15:00:00}|[52.88, 49.2, 50.53, 48.14, 48.14, 48.5]     |-4.380000000000003  |\n",
      "|ABT  |{2023-10-25 10:00:00, 2023-10-25 15:00:00}|[39.34, 40.49, 38.89]                        |-0.45000000000000284|\n",
      "|DLR  |{2023-10-25 10:00:00, 2023-10-25 15:00:00}|[64.3965, 46.315, 46.71, 54.15, 54.14, 56.45]|-7.9465             |\n",
      "|HRB  |{2023-10-25 10:00:00, 2023-10-25 15:00:00}|[28.785, 28.69]                              |-0.09499999999999886|\n",
      "|WY   |{2023-10-25 10:00:00, 2023-10-25 15:00:00}|[30.6, 29.98, 28.8]                          |-1.8000000000000007 |\n",
      "|RL   |{2023-10-25 10:00:00, 2023-10-25 15:00:00}|[181.35, 176.37, 158.17, 161.81, 156.148]    |-25.201999999999998 |\n",
      "|O    |{2023-10-25 10:00:00, 2023-10-25 15:00:00}|[44.83, 40.6, 44.48, 40.93, 42.54]           |-2.289999999999999  |\n",
      "|MAT  |{2023-10-25 10:00:00, 2023-10-25 15:00:00}|[44.98, 45.71, 38.53, 38.03]                 |-6.949999999999996  |\n",
      "+-----+------------------------------------------+---------------------------------------------+--------------------+\n",
      "\n"
     ]
    },
    {
     "name": "stderr",
     "output_type": "stream",
     "text": [
      "                                                                                \r"
     ]
    },
    {
     "name": "stdout",
     "output_type": "stream",
     "text": [
      "-------------------------------------------\n",
      "Batch: 15\n",
      "-------------------------------------------\n",
      "+----+------------------------------------------+-------------------------------------------------+-------------------+\n",
      "|name|window                                    |prices                                           |price_diff         |\n",
      "+----+------------------------------------------+-------------------------------------------------+-------------------+\n",
      "|FCX |{2023-10-25 10:00:00, 2023-10-25 15:00:00}|[36.23, 32.545, 33.99, 34.87]                    |-1.3599999999999994|\n",
      "|AMD |{2023-10-25 10:00:00, 2023-10-25 15:00:00}|[4.1, 3.73, 4.11, 4.03]                          |-0.0699999999999994|\n",
      "|T   |{2023-10-25 10:00:00, 2023-10-25 15:00:00}|[37.69, 33.65, 35.04]                            |-2.6499999999999986|\n",
      "|PGR |{2023-10-25 10:00:00, 2023-10-25 15:00:00}|[25.68, 25.14, 25.74, 25.56, 25.33]              |-0.3500000000000014|\n",
      "|MHK |{2023-10-25 10:00:00, 2023-10-25 15:00:00}|[139.89, 144.97, 139.9, 134.75]                  |-5.139999999999986 |\n",
      "|CAG |{2023-10-25 10:00:00, 2023-10-25 15:00:00}|[35.64, 33.64, 31.02, 31.02, 32.84, 33.09, 32.59]|-3.049999999999997 |\n",
      "|ULTA|{2023-10-25 10:00:00, 2023-10-25 15:00:00}|[86.75, 99.21, 86.22]                            |-0.5300000000000011|\n",
      "|LUK |{2023-10-25 10:00:00, 2023-10-25 15:00:00}|[27.19, 27.24, 27.49, 25.365]                    |-1.8250000000000028|\n",
      "|NEM |{2023-10-25 10:00:00, 2023-10-25 15:00:00}|[39.43, 26.24, 24.88, 24.09, 24.6, 24.46, 23.02] |-16.41             |\n",
      "|ANSS|{2023-10-25 10:00:00, 2023-10-25 15:00:00}|[81.31, 77.13, 87.83, 75.11]                     |-6.200000000000003 |\n",
      "|LKQ |{2023-10-25 10:00:00, 2023-10-25 15:00:00}|[33.46, 27.045, 27.42, 28.61]                    |-4.850000000000001 |\n",
      "|IBM |{2023-10-25 10:00:00, 2023-10-25 15:00:00}|[211.98, 186.2, 187.65]                          |-24.329999999999984|\n",
      "|MAT |{2023-10-25 10:00:00, 2023-10-25 15:00:00}|[44.98, 45.71, 38.53, 38.03, 38.44]              |-6.539999999999999 |\n",
      "|CSCO|{2023-10-25 10:00:00, 2023-10-25 15:00:00}|[24.69, 24.65]                                   |-0.0400000000000027|\n",
      "+----+------------------------------------------+-------------------------------------------------+-------------------+\n",
      "\n"
     ]
    },
    {
     "name": "stderr",
     "output_type": "stream",
     "text": [
      "                                                                                \r"
     ]
    },
    {
     "name": "stdout",
     "output_type": "stream",
     "text": [
      "-------------------------------------------\n",
      "Batch: 16\n",
      "-------------------------------------------\n",
      "+----+------------------------------------------+--------------------------------------------------------+-------------------+\n",
      "|name|window                                    |prices                                                  |price_diff         |\n",
      "+----+------------------------------------------+--------------------------------------------------------+-------------------+\n",
      "|KO  |{2023-10-25 10:00:00, 2023-10-25 15:00:00}|[43.05, 41.07, 40.68, 38.61, 37.62, 42.32]              |-0.7299999999999969|\n",
      "|SHW |{2023-10-25 10:00:00, 2023-10-25 15:00:00}|[206.86, 201.48, 191.755, 203.925]                      |-2.9350000000000023|\n",
      "|HCN |{2023-10-25 10:00:00, 2023-10-25 15:00:00}|[74.235, 63.3, 63.96, 66.76, 62.58, 62.84]              |-11.394999999999996|\n",
      "|LOW |{2023-10-25 10:00:00, 2023-10-25 15:00:00}|[46.23, 48.14, 49.61, 45.69, 45.83]                     |-0.3999999999999986|\n",
      "|T   |{2023-10-25 10:00:00, 2023-10-25 15:00:00}|[37.69, 33.65, 35.04, 35.87]                            |-1.8200000000000003|\n",
      "|NTAP|{2023-10-25 10:00:00, 2023-10-25 15:00:00}|[40.79, 40.68, 37.31, 37.91]                            |-2.8800000000000026|\n",
      "|CAG |{2023-10-25 10:00:00, 2023-10-25 15:00:00}|[35.64, 33.64, 31.02, 31.02, 32.84, 33.09, 32.59, 31.11]|-4.530000000000001 |\n",
      "|EXC |{2023-10-25 10:00:00, 2023-10-25 15:00:00}|[37.22, 30.71, 36.495]                                  |-0.7250000000000014|\n",
      "|STT |{2023-10-25 10:00:00, 2023-10-25 15:00:00}|[69.26, 66.76]                                          |-2.5               |\n",
      "|C   |{2023-10-25 10:00:00, 2023-10-25 15:00:00}|[52.88, 49.2, 50.53, 48.14, 48.14, 48.5, 48.175]        |-4.705000000000005 |\n",
      "|TJX |{2023-10-25 10:00:00, 2023-10-25 15:00:00}|[60.16, 62.23, 55.05, 53.79]                            |-6.369999999999997 |\n",
      "|LKQ |{2023-10-25 10:00:00, 2023-10-25 15:00:00}|[33.46, 27.045, 27.42, 28.61, 26.7]                     |-6.760000000000002 |\n",
      "|MAA |{2023-10-25 10:00:00, 2023-10-25 15:00:00}|[74.94, 63.25, 73.1]                                    |-1.8400000000000034|\n",
      "+----+------------------------------------------+--------------------------------------------------------+-------------------+\n",
      "\n"
     ]
    },
    {
     "name": "stderr",
     "output_type": "stream",
     "text": [
      "                                                                                \r"
     ]
    },
    {
     "name": "stdout",
     "output_type": "stream",
     "text": [
      "-------------------------------------------\n",
      "Batch: 17\n",
      "-------------------------------------------\n",
      "+----+------------------------------------------+-------------------------------------------------------+-------------------+\n",
      "|name|window                                    |prices                                                 |price_diff         |\n",
      "+----+------------------------------------------+-------------------------------------------------------+-------------------+\n",
      "|HCP |{2023-10-25 10:00:00, 2023-10-25 15:00:00}|[47.08, 53.71, 46.78, 41.87, 41.89]                    |-5.189999999999998 |\n",
      "|DE  |{2023-10-25 10:00:00, 2023-10-25 15:00:00}|[89.6, 87.6]                                           |-2.0               |\n",
      "|EQIX|{2023-10-25 10:00:00, 2023-10-25 15:00:00}|[219.94, 194.854, 192.7, 210.34]                       |-9.599999999999994 |\n",
      "|EL  |{2023-10-25 10:00:00, 2023-10-25 15:00:00}|[76.74, 74.24]                                         |-2.5               |\n",
      "|PGR |{2023-10-25 10:00:00, 2023-10-25 15:00:00}|[25.68, 25.14, 25.74, 25.56, 25.33, 23.48]             |-2.1999999999999993|\n",
      "|CTXS|{2023-10-25 10:00:00, 2023-10-25 15:00:00}|[71.84, 61.23, 55.37, 67.58]                           |-4.260000000000005 |\n",
      "|EXC |{2023-10-25 10:00:00, 2023-10-25 15:00:00}|[37.22, 30.71, 36.495, 31.525]                         |-5.695             |\n",
      "|VRSN|{2023-10-25 10:00:00, 2023-10-25 15:00:00}|[60.64, 55.37]                                         |-5.270000000000003 |\n",
      "|NEM |{2023-10-25 10:00:00, 2023-10-25 15:00:00}|[39.43, 26.24, 24.88, 24.09, 24.6, 24.46, 23.02, 25.73]|-13.7              |\n",
      "|DLR |{2023-10-25 10:00:00, 2023-10-25 15:00:00}|[64.3965, 46.315, 46.71, 54.15, 54.14, 56.45, 63.37]   |-1.0265000000000057|\n",
      "|CINF|{2023-10-25 10:00:00, 2023-10-25 15:00:00}|[53.0, 51.095, 51.39, 46.83]                           |-6.170000000000002 |\n",
      "|SCG |{2023-10-25 10:00:00, 2023-10-25 15:00:00}|[53.2375, 52.46, 47.5, 46.48, 47.09, 49.89, 52.17]     |-1.0674999999999955|\n",
      "|RHT |{2023-10-25 10:00:00, 2023-10-25 15:00:00}|[59.71, 59.29, 55.4]                                   |-4.310000000000002 |\n",
      "|FE  |{2023-10-25 10:00:00, 2023-10-25 15:00:00}|[36.55, 31.53, 32.58]                                  |-3.969999999999999 |\n",
      "|FBHS|{2023-10-25 10:00:00, 2023-10-25 15:00:00}|[45.08, 37.71]                                         |-7.369999999999997 |\n",
      "|HSIC|{2023-10-25 10:00:00, 2023-10-25 15:00:00}|[59.825, 58.135]                                       |-1.6900000000000048|\n",
      "|CERN|{2023-10-25 10:00:00, 2023-10-25 15:00:00}|[59.825, 57.48]                                        |-2.345000000000006 |\n",
      "|K   |{2023-10-25 10:00:00, 2023-10-25 15:00:00}|[65.865, 67.63, 66.73, 65.73]                          |-0.1349999999999909|\n",
      "|LEN |{2023-10-25 10:00:00, 2023-10-25 15:00:00}|[36.2157, 31.5784, 39.1716, 38.7451, 35.5196]          |-0.6961000000000013|\n",
      "+----+------------------------------------------+-------------------------------------------------------+-------------------+\n",
      "\n"
     ]
    },
    {
     "name": "stderr",
     "output_type": "stream",
     "text": [
      "                                                                                \r"
     ]
    },
    {
     "name": "stdout",
     "output_type": "stream",
     "text": [
      "-------------------------------------------\n",
      "Batch: 18\n",
      "-------------------------------------------\n",
      "+----+------------------------------------------+---------------------------------------------+--------------------+\n",
      "|name|window                                    |prices                                       |price_diff          |\n",
      "+----+------------------------------------------+---------------------------------------------+--------------------+\n",
      "|HCP |{2023-10-25 10:00:00, 2023-10-25 15:00:00}|[47.08, 53.71, 46.78, 41.87, 41.89, 43.86]   |-3.219999999999999  |\n",
      "|DE  |{2023-10-25 10:00:00, 2023-10-25 15:00:00}|[89.6, 87.6, 84.98]                          |-4.61999999999999   |\n",
      "|HP  |{2023-10-25 10:00:00, 2023-10-25 15:00:00}|[108.43, 103.9]                              |-4.530000000000001  |\n",
      "|CTSH|{2023-10-25 10:00:00, 2023-10-25 15:00:00}|[49.98, 48.965, 49.42, 49.165, 50.295, 45.05]|-4.93               |\n",
      "|LKQ |{2023-10-25 10:00:00, 2023-10-25 15:00:00}|[33.46, 27.045, 27.42, 28.61, 26.7, 27.835]  |-5.625              |\n",
      "|RHT |{2023-10-25 10:00:00, 2023-10-25 15:00:00}|[59.71, 59.29, 55.4, 59.36]                  |-0.3500000000000014 |\n",
      "|HSIC|{2023-10-25 10:00:00, 2023-10-25 15:00:00}|[59.825, 58.135, 59.675]                     |-0.15000000000000568|\n",
      "|IBM |{2023-10-25 10:00:00, 2023-10-25 15:00:00}|[211.98, 186.2, 187.65, 190.74]              |-21.23999999999998  |\n",
      "+----+------------------------------------------+---------------------------------------------+--------------------+\n",
      "\n"
     ]
    },
    {
     "name": "stderr",
     "output_type": "stream",
     "text": [
      "                                                                                \r"
     ]
    },
    {
     "name": "stdout",
     "output_type": "stream",
     "text": [
      "-------------------------------------------\n",
      "Batch: 19\n",
      "-------------------------------------------\n",
      "+----+------------------------------------------+----------------------------------------------------+---------------------+\n",
      "|name|window                                    |prices                                              |price_diff           |\n",
      "+----+------------------------------------------+----------------------------------------------------+---------------------+\n",
      "|EQIX|{2023-10-25 10:00:00, 2023-10-25 15:00:00}|[219.94, 194.854, 192.7, 210.34, 218.2]             |-1.740000000000009   |\n",
      "|XLNX|{2023-10-25 10:00:00, 2023-10-25 15:00:00}|[45.68, 45.68, 47.775, 53.64, 52.97, 43.29]         |-2.3900000000000006  |\n",
      "|HCN |{2023-10-25 10:00:00, 2023-10-25 15:00:00}|[74.235, 63.3, 63.96, 66.76, 62.58, 62.84, 63.53]   |-10.704999999999998  |\n",
      "|HP  |{2023-10-25 10:00:00, 2023-10-25 15:00:00}|[108.43, 103.9, 98.47]                              |-9.960000000000008   |\n",
      "|TGT |{2023-10-25 10:00:00, 2023-10-25 15:00:00}|[63.21, 68.83, 72.655, 64.65, 62.96]                |-0.25                |\n",
      "|CTSH|{2023-10-25 10:00:00, 2023-10-25 15:00:00}|[49.98, 48.965, 49.42, 49.165, 50.295, 45.05, 45.25]|-4.729999999999997   |\n",
      "|RMD |{2023-10-25 10:00:00, 2023-10-25 15:00:00}|[50.43, 48.91, 52.51, 51.83, 50.4]                  |-0.030000000000001137|\n",
      "|VTR |{2023-10-25 10:00:00, 2023-10-25 15:00:00}|[72.1, 59.44, 64.25]                                |-7.849999999999994   |\n",
      "|HSIC|{2023-10-25 10:00:00, 2023-10-25 15:00:00}|[59.825, 58.135, 59.675, 59.02]                     |-0.8049999999999997  |\n",
      "|BWA |{2023-10-25 10:00:00, 2023-10-25 15:00:00}|[56.0, 61.98, 62.94, 54.31]                         |-1.6899999999999977  |\n",
      "|MAT |{2023-10-25 10:00:00, 2023-10-25 15:00:00}|[44.98, 45.71, 38.53, 38.03, 38.44, 34.3]           |-10.68               |\n",
      "|MAA |{2023-10-25 10:00:00, 2023-10-25 15:00:00}|[74.94, 63.25, 73.1, 69.05]                         |-5.890000000000001   |\n",
      "+----+------------------------------------------+----------------------------------------------------+---------------------+\n",
      "\n"
     ]
    },
    {
     "name": "stderr",
     "output_type": "stream",
     "text": [
      "                                                                                \r"
     ]
    },
    {
     "name": "stdout",
     "output_type": "stream",
     "text": [
      "-------------------------------------------\n",
      "Batch: 20\n",
      "-------------------------------------------\n",
      "+----+------------------------------------------+-----------------------------------------------------------------+-------------------+\n",
      "|name|window                                    |prices                                                           |price_diff         |\n",
      "+----+------------------------------------------+-----------------------------------------------------------------+-------------------+\n",
      "|RTN |{2023-10-25 10:00:00, 2023-10-25 15:00:00}|[101.61, 96.3994]                                                |-5.2105999999999995|\n",
      "|UTX |{2023-10-25 10:00:00, 2023-10-25 15:00:00}|[106.45, 104.75, 115.4, 102.71]                                  |-3.740000000000009 |\n",
      "|XLNX|{2023-10-25 10:00:00, 2023-10-25 15:00:00}|[45.68, 45.68, 47.775, 53.64, 52.97, 43.29, 37.61]               |-8.07              |\n",
      "|HCN |{2023-10-25 10:00:00, 2023-10-25 15:00:00}|[74.235, 63.3, 63.96, 66.76, 62.58, 62.84, 63.53, 67.89, 71.215] |-3.019999999999996 |\n",
      "|GPS |{2023-10-25 10:00:00, 2023-10-25 15:00:00}|[41.46, 39.25, 41.61, 38.09]                                     |-3.3699999999999974|\n",
      "|NTAP|{2023-10-25 10:00:00, 2023-10-25 15:00:00}|[40.79, 40.68, 37.31, 37.91, 38.85]                              |-1.9399999999999977|\n",
      "|CPB |{2023-10-25 10:00:00, 2023-10-25 15:00:00}|[46.55, 44.99]                                                   |-1.5599999999999952|\n",
      "|F   |{2023-10-25 10:00:00, 2023-10-25 15:00:00}|[17.2, 14.06]                                                    |-3.139999999999999 |\n",
      "|DRI |{2023-10-25 10:00:00, 2023-10-25 15:00:00}|[53.15, 51.809]                                                  |-1.341000000000001 |\n",
      "|MOS |{2023-10-25 10:00:00, 2023-10-25 15:00:00}|[44.8, 41.6444, 46.9, 49.24, 50.01, 49.6343, 47.575, 47.4, 41.63]|-3.1699999999999946|\n",
      "|APA |{2023-10-25 10:00:00, 2023-10-25 15:00:00}|[85.82, 81.94, 83.0, 92.86, 101.42, 102.29, 95.17, 72.89]        |-12.929999999999993|\n",
      "|CINF|{2023-10-25 10:00:00, 2023-10-25 15:00:00}|[53.0, 51.095, 51.39, 46.83, 49.33]                              |-3.6700000000000017|\n",
      "|VTR |{2023-10-25 10:00:00, 2023-10-25 15:00:00}|[72.1, 59.44, 64.25, 64.94]                                      |-7.159999999999997 |\n",
      "|FBHS|{2023-10-25 10:00:00, 2023-10-25 15:00:00}|[45.08, 37.71, 41.52]                                            |-3.559999999999995 |\n",
      "+----+------------------------------------------+-----------------------------------------------------------------+-------------------+\n",
      "\n"
     ]
    },
    {
     "name": "stderr",
     "output_type": "stream",
     "text": [
      "                                                                                \r"
     ]
    },
    {
     "name": "stdout",
     "output_type": "stream",
     "text": [
      "-------------------------------------------\n",
      "Batch: 21\n",
      "-------------------------------------------\n",
      "+-----+------------------------------------------+-------------------------------------------+--------------------+\n",
      "|name |window                                    |prices                                     |price_diff          |\n",
      "+-----+------------------------------------------+-------------------------------------------+--------------------+\n",
      "|NBL  |{2023-10-25 10:00:00, 2023-10-25 15:00:00}|[61.96, 64.15, 67.302, 63.06, 71.79, 55.71]|-6.25               |\n",
      "|DISCA|{2023-10-25 10:00:00, 2023-10-25 15:00:00}|[79.95, 82.82, 82.45, 76.17, 80.66, 32.68] |-47.27              |\n",
      "|RRC  |{2023-10-25 10:00:00, 2023-10-25 15:00:00}|[79.87, 75.09, 72.34]                      |-7.530000000000001  |\n",
      "|GPS  |{2023-10-25 10:00:00, 2023-10-25 15:00:00}|[41.46, 39.25, 41.61, 38.09, 39.65]        |-1.8100000000000023 |\n",
      "|CTXS |{2023-10-25 10:00:00, 2023-10-25 15:00:00}|[71.84, 61.23, 55.37, 67.58, 66.05]        |-5.790000000000006  |\n",
      "|VRSN |{2023-10-25 10:00:00, 2023-10-25 15:00:00}|[60.64, 55.37, 60.25]                      |-0.39000000000000057|\n",
      "|A    |{2023-10-25 10:00:00, 2023-10-25 15:00:00}|[43.56, 57.88, 60.38, 56.5, 58.19, 42.38]  |-1.1799999999999997 |\n",
      "|NWS  |{2023-10-25 10:00:00, 2023-10-25 15:00:00}|[16.93, 15.05, 15.23]                      |-1.6999999999999993 |\n",
      "|TMK  |{2023-10-25 10:00:00, 2023-10-25 15:00:00}|[53.76, 53.33]                             |-0.4299999999999997 |\n",
      "+-----+------------------------------------------+-------------------------------------------+--------------------+\n",
      "\n"
     ]
    },
    {
     "name": "stderr",
     "output_type": "stream",
     "text": [
      "                                                                                \r"
     ]
    },
    {
     "name": "stdout",
     "output_type": "stream",
     "text": [
      "-------------------------------------------\n",
      "Batch: 22\n",
      "-------------------------------------------\n",
      "+----+------------------------------------------+---------------------------------------------------------+--------------------+\n",
      "|name|window                                    |prices                                                   |price_diff          |\n",
      "+----+------------------------------------------+---------------------------------------------------------+--------------------+\n",
      "|OKE |{2023-10-25 10:00:00, 2023-10-25 15:00:00}|[53.995, 61.355, 59.57, 50.66]                           |-3.335000000000001  |\n",
      "|PSX |{2023-10-25 10:00:00, 2023-10-25 15:00:00}|[73.03, 68.5, 66.52]                                     |-6.510000000000005  |\n",
      "|HP  |{2023-10-25 10:00:00, 2023-10-25 15:00:00}|[108.43, 103.9, 98.47, 66.29]                            |-42.14              |\n",
      "|ALB |{2023-10-25 10:00:00, 2023-10-25 15:00:00}|[63.36, 63.68, 58.91]                                    |-4.450000000000003  |\n",
      "|AMD |{2023-10-25 10:00:00, 2023-10-25 15:00:00}|[4.1, 3.73, 4.11, 4.03, 4.37, 2.7]                       |-1.3999999999999995 |\n",
      "|EXC |{2023-10-25 10:00:00, 2023-10-25 15:00:00}|[37.22, 30.71, 36.495, 31.525, 35.69]                    |-1.5300000000000011 |\n",
      "|MRO |{2023-10-25 10:00:00, 2023-10-25 15:00:00}|[33.82, 36.25, 33.36, 35.81, 36.46, 40.84, 38.9, 27.97]  |-5.850000000000001  |\n",
      "|CINF|{2023-10-25 10:00:00, 2023-10-25 15:00:00}|[53.0, 51.095, 51.39, 46.83, 49.33, 51.53]               |-1.4699999999999989 |\n",
      "|TMK |{2023-10-25 10:00:00, 2023-10-25 15:00:00}|[53.76, 53.33, 53.06]                                    |-0.6999999999999957 |\n",
      "|XOM |{2023-10-25 10:00:00, 2023-10-25 15:00:00}|[90.88, 91.51, 86.04, 95.54, 101.15, 94.49, 93.27, 90.73]|-0.14999999999999147|\n",
      "+----+------------------------------------------+---------------------------------------------------------+--------------------+\n",
      "\n"
     ]
    },
    {
     "name": "stderr",
     "output_type": "stream",
     "text": [
      "                                                                                \r"
     ]
    },
    {
     "name": "stdout",
     "output_type": "stream",
     "text": [
      "-------------------------------------------\n",
      "Batch: 23\n",
      "-------------------------------------------\n",
      "+----+------------------------------------------+--------------------------------------------------------------+-------------------+\n",
      "|name|window                                    |prices                                                        |price_diff         |\n",
      "+----+------------------------------------------+--------------------------------------------------------------+-------------------+\n",
      "|NBL |{2023-10-25 10:00:00, 2023-10-25 15:00:00}|[61.96, 64.15, 67.302, 63.06, 71.79, 55.71, 44.22]            |-17.740000000000002|\n",
      "|RRC |{2023-10-25 10:00:00, 2023-10-25 15:00:00}|[79.87, 75.09, 72.34, 48.25, 47.85]                           |-32.02             |\n",
      "|CVX |{2023-10-25 10:00:00, 2023-10-25 15:00:00}|[118.28, 125.47, 118.91, 106.58]                              |-11.700000000000003|\n",
      "|HP  |{2023-10-25 10:00:00, 2023-10-25 15:00:00}|[108.43, 103.9, 98.47, 66.29, 68.44]                          |-39.99000000000001 |\n",
      "|F   |{2023-10-25 10:00:00, 2023-10-25 15:00:00}|[17.2, 14.06, 16.14]                                          |-1.0599999999999987|\n",
      "|LUK |{2023-10-25 10:00:00, 2023-10-25 15:00:00}|[27.19, 27.24, 27.49, 25.365, 23.18]                          |-4.010000000000002 |\n",
      "|NEM |{2023-10-25 10:00:00, 2023-10-25 15:00:00}|[39.43, 26.24, 24.88, 24.09, 24.6, 24.46, 23.02, 25.73, 24.6] |-14.829999999999998|\n",
      "|C   |{2023-10-25 10:00:00, 2023-10-25 15:00:00}|[52.88, 49.2, 50.53, 48.14, 48.14, 48.5, 48.175, 54.18, 48.23]|-4.650000000000006 |\n",
      "|NOV |{2023-10-25 10:00:00, 2023-10-25 15:00:00}|[69.255, 73.1, 72.0, 78.58, 77.98, 77.42, 57.85, 53.49]       |-15.764999999999993|\n",
      "|FMC |{2023-10-25 10:00:00, 2023-10-25 15:00:00}|[76.92, 58.39, 58.77]                                         |-18.15             |\n",
      "|MAT |{2023-10-25 10:00:00, 2023-10-25 15:00:00}|[44.98, 45.71, 38.53, 38.03, 38.44, 34.3, 27.22]              |-17.759999999999998|\n",
      "+----+------------------------------------------+--------------------------------------------------------------+-------------------+\n",
      "\n"
     ]
    },
    {
     "name": "stderr",
     "output_type": "stream",
     "text": [
      "                                                                                \r"
     ]
    },
    {
     "name": "stdout",
     "output_type": "stream",
     "text": [
      "-------------------------------------------\n",
      "Batch: 24\n",
      "-------------------------------------------\n",
      "+-----+------------------------------------------+----------------------------------------------------+--------------------+\n",
      "|name |window                                    |prices                                              |price_diff          |\n",
      "+-----+------------------------------------------+----------------------------------------------------+--------------------+\n",
      "|FAST |{2023-10-25 10:00:00, 2023-10-25 15:00:00}|[45.99, 49.84, 46.28, 47.86, 42.93]                 |-3.0600000000000023 |\n",
      "|DE   |{2023-10-25 10:00:00, 2023-10-25 15:00:00}|[89.6, 87.6, 84.98, 89.45]                          |-0.14999999999999147|\n",
      "|DISCK|{2023-10-25 10:00:00, 2023-10-25 15:00:00}|[75.95, 72.94, 31.46]                               |-44.49              |\n",
      "|ALB  |{2023-10-25 10:00:00, 2023-10-25 15:00:00}|[63.36, 63.68, 58.91, 54.76]                        |-8.600000000000001  |\n",
      "|F    |{2023-10-25 10:00:00, 2023-10-25 15:00:00}|[17.2, 14.06, 16.14, 16.2]                          |-1.0                |\n",
      "|HAL  |{2023-10-25 10:00:00, 2023-10-25 15:00:00}|[64.15, 44.82]                                      |-19.330000000000005 |\n",
      "|A    |{2023-10-25 10:00:00, 2023-10-25 15:00:00}|[43.56, 57.88, 60.38, 56.5, 58.19, 42.38, 42.57]    |-0.990000000000002  |\n",
      "|NWS  |{2023-10-25 10:00:00, 2023-10-25 15:00:00}|[16.93, 15.05, 15.23, 16.3]                         |-0.629999999999999  |\n",
      "|LKQ  |{2023-10-25 10:00:00, 2023-10-25 15:00:00}|[33.46, 27.045, 27.42, 28.61, 26.7, 27.835, 27.4899]|-5.970100000000002  |\n",
      "|FE   |{2023-10-25 10:00:00, 2023-10-25 15:00:00}|[36.55, 31.53, 32.58, 38.35, 40.91, 34.58]          |-1.9699999999999989 |\n",
      "|RL   |{2023-10-25 10:00:00, 2023-10-25 15:00:00}|[181.35, 176.37, 158.17, 161.81, 156.148, 137.98]   |-43.370000000000005 |\n",
      "|PWR  |{2023-10-25 10:00:00, 2023-10-25 15:00:00}|[30.3, 33.22, 34.425, 35.32, 32.86, 28.83, 28.93]   |-1.370000000000001  |\n",
      "|QCOM |{2023-10-25 10:00:00, 2023-10-25 15:00:00}|[75.86, 72.9, 72.49]                                |-3.3700000000000045 |\n",
      "+-----+------------------------------------------+----------------------------------------------------+--------------------+\n",
      "\n"
     ]
    },
    {
     "name": "stderr",
     "output_type": "stream",
     "text": [
      "                                                                                \r"
     ]
    },
    {
     "name": "stdout",
     "output_type": "stream",
     "text": [
      "-------------------------------------------\n",
      "Batch: 25\n",
      "-------------------------------------------\n",
      "+----+------------------------------------------+--------------------------------------------------------------------+--------------------+\n",
      "|name|window                                    |prices                                                              |price_diff          |\n",
      "+----+------------------------------------------+--------------------------------------------------------------------+--------------------+\n",
      "|APC |{2023-10-25 10:00:00, 2023-10-25 15:00:00}|[90.76, 91.51, 99.69, 104.84, 107.19, 86.83, 89.6]                  |-1.1600000000000108 |\n",
      "|ISRG|{2023-10-25 10:00:00, 2023-10-25 15:00:00}|[192.6465, 160.6632, 168.1665, 169.4332]                            |-23.213300000000004 |\n",
      "|BAC |{2023-10-25 10:00:00, 2023-10-25 15:00:00}|[15.97, 15.72, 15.1, 16.07, 15.88]                                  |-0.08999999999999986|\n",
      "|NEM |{2023-10-25 10:00:00, 2023-10-25 15:00:00}|[39.43, 26.24, 24.88, 24.09, 24.6, 24.46, 23.02, 25.73, 24.6, 22.91]|-16.52              |\n",
      "|PM  |{2023-10-25 10:00:00, 2023-10-25 15:00:00}|[84.55, 78.95, 79.5, 82.5, 86.9, 88.56, 80.1541]                    |-4.3958999999999975 |\n",
      "|APA |{2023-10-25 10:00:00, 2023-10-25 15:00:00}|[85.82, 81.94, 83.0, 92.86, 101.42, 102.29, 95.17, 72.89, 61.93]    |-23.889999999999993 |\n",
      "|VZ  |{2023-10-25 10:00:00, 2023-10-25 15:00:00}|[53.72, 46.56, 49.1462]                                             |-4.5737999999999985 |\n",
      "|RL  |{2023-10-25 10:00:00, 2023-10-25 15:00:00}|[181.35, 176.37, 158.17, 161.81, 156.148, 137.98, 133.88]           |-47.47              |\n",
      "|XOM |{2023-10-25 10:00:00, 2023-10-25 15:00:00}|[90.88, 91.51, 86.04, 95.54, 101.15, 94.49, 93.27, 90.73, 85.7801]  |-5.099899999999991  |\n",
      "|PWR |{2023-10-25 10:00:00, 2023-10-25 15:00:00}|[30.3, 33.22, 34.425, 35.32, 32.86, 28.83, 28.93, 28.16]            |-2.1400000000000006 |\n",
      "+----+------------------------------------------+--------------------------------------------------------------------+--------------------+\n",
      "\n"
     ]
    },
    {
     "name": "stderr",
     "output_type": "stream",
     "text": [
      "                                                                                \r"
     ]
    },
    {
     "name": "stdout",
     "output_type": "stream",
     "text": [
      "-------------------------------------------\n",
      "Batch: 26\n",
      "-------------------------------------------\n",
      "+----+------------------------------------------+-------------------------------------------------------------------------+-------------------+\n",
      "|name|window                                    |prices                                                                   |price_diff         |\n",
      "+----+------------------------------------------+-------------------------------------------------------------------------+-------------------+\n",
      "|NTAP|{2023-10-25 10:00:00, 2023-10-25 15:00:00}|[40.79, 40.68, 37.31, 37.91, 38.85, 36.66]                               |-4.130000000000003 |\n",
      "|LKQ |{2023-10-25 10:00:00, 2023-10-25 15:00:00}|[33.46, 27.045, 27.42, 28.61, 26.7, 27.835, 27.4899, 25.78]              |-7.68              |\n",
      "|RF  |{2023-10-25 10:00:00, 2023-10-25 15:00:00}|[10.61, 10.37, 9.89]                                                     |-0.7199999999999989|\n",
      "|NOV |{2023-10-25 10:00:00, 2023-10-25 15:00:00}|[69.255, 73.1, 72.0, 78.58, 77.98, 77.42, 57.85, 53.49, 56.43]           |-12.824999999999996|\n",
      "|XOM |{2023-10-25 10:00:00, 2023-10-25 15:00:00}|[90.88, 91.51, 86.04, 95.54, 101.15, 94.49, 93.27, 90.73, 85.7801, 88.67]|-2.2099999999999937|\n",
      "|SYMC|{2023-10-25 10:00:00, 2023-10-25 15:00:00}|[24.99, 25.66, 25.1, 24.78]                                              |-0.2099999999999973|\n",
      "+----+------------------------------------------+-------------------------------------------------------------------------+-------------------+\n",
      "\n"
     ]
    },
    {
     "name": "stderr",
     "output_type": "stream",
     "text": [
      "                                                                                \r"
     ]
    },
    {
     "name": "stdout",
     "output_type": "stream",
     "text": [
      "-------------------------------------------\n",
      "Batch: 27\n",
      "-------------------------------------------\n",
      "+-----+------------------------------------------+---------------------------------------------------------------------------------+--------------------+\n",
      "|name |window                                    |prices                                                                           |price_diff          |\n",
      "+-----+------------------------------------------+---------------------------------------------------------------------------------+--------------------+\n",
      "|HCP  |{2023-10-25 10:00:00, 2023-10-25 15:00:00}|[47.08, 53.71, 46.78, 41.87, 41.89, 43.86, 38.44]                                |-8.64               |\n",
      "|DISCA|{2023-10-25 10:00:00, 2023-10-25 15:00:00}|[79.95, 82.82, 82.45, 76.17, 80.66, 32.68, 33.075]                               |-46.875             |\n",
      "|HCN  |{2023-10-25 10:00:00, 2023-10-25 15:00:00}|[74.235, 63.3, 63.96, 66.76, 62.58, 62.84, 63.53, 67.89, 71.215, 71.67]          |-2.5649999999999977 |\n",
      "|CTXS |{2023-10-25 10:00:00, 2023-10-25 15:00:00}|[71.84, 61.23, 55.37, 67.58, 66.05, 66.66]                                       |-5.180000000000007  |\n",
      "|ISRG |{2023-10-25 10:00:00, 2023-10-25 15:00:00}|[192.6465, 160.6632, 168.1665, 169.4332, 167.9965]                               |-24.650000000000006 |\n",
      "|MRO  |{2023-10-25 10:00:00, 2023-10-25 15:00:00}|[33.82, 36.25, 33.36, 35.81, 36.46, 40.84, 38.9, 27.97, 27.51]                   |-6.309999999999999  |\n",
      "|MOS  |{2023-10-25 10:00:00, 2023-10-25 15:00:00}|[44.8, 41.6444, 46.9, 49.24, 50.01, 49.6343, 47.575, 47.4, 41.63, 52.61, 44.3599]|-0.44009999999999394|\n",
      "|A    |{2023-10-25 10:00:00, 2023-10-25 15:00:00}|[43.56, 57.88, 60.38, 56.5, 58.19, 42.38, 42.57, 40.59]                          |-2.969999999999999  |\n",
      "|FE   |{2023-10-25 10:00:00, 2023-10-25 15:00:00}|[36.55, 31.53, 32.58, 38.35, 40.91, 34.58, 36.16, 36.02]                         |-0.529999999999994  |\n",
      "|OXY  |{2023-10-25 10:00:00, 2023-10-25 15:00:00}|[81.94, 86.93, 93.2, 94.0999, 96.7799, 102.32, 82.02, 78.61]                     |-3.3299999999999983 |\n",
      "|MAT  |{2023-10-25 10:00:00, 2023-10-25 15:00:00}|[44.98, 45.71, 38.53, 38.03, 38.44, 34.3, 27.22, 27.04, 26.6]                    |-18.379999999999995 |\n",
      "|PVH  |{2023-10-25 10:00:00, 2023-10-25 15:00:00}|[114.07, 118.83, 127.2499, 131.5499, 132.34, 116.85, 123.7, 105.98]              |-8.08999999999999   |\n",
      "|K    |{2023-10-25 10:00:00, 2023-10-25 15:00:00}|[65.865, 67.63, 66.73, 65.73, 62.1798]                                           |-3.6851999999999947 |\n",
      "+-----+------------------------------------------+---------------------------------------------------------------------------------+--------------------+\n",
      "\n"
     ]
    },
    {
     "name": "stderr",
     "output_type": "stream",
     "text": [
      "                                                                                \r"
     ]
    },
    {
     "name": "stdout",
     "output_type": "stream",
     "text": [
      "-------------------------------------------\n",
      "Batch: 28\n",
      "-------------------------------------------\n",
      "+----+------------------------------------------+------------------------------------------------------------------------------------+-------------------+\n",
      "|name|window                                    |prices                                                                              |price_diff         |\n",
      "+----+------------------------------------------+------------------------------------------------------------------------------------+-------------------+\n",
      "|NBL |{2023-10-25 10:00:00, 2023-10-25 15:00:00}|[61.96, 64.15, 67.302, 63.06, 71.79, 55.71, 44.22, 44.91]                           |-17.050000000000004|\n",
      "|HCN |{2023-10-25 10:00:00, 2023-10-25 15:00:00}|[74.235, 63.3, 63.96, 66.76, 62.58, 62.84, 63.53, 67.89, 71.215, 71.67, 69.53]      |-4.704999999999998 |\n",
      "|TPR |{2023-10-25 10:00:00, 2023-10-25 15:00:00}|[36.683, 39.12, 33.55]                                                              |-3.1330000000000027|\n",
      "|COP |{2023-10-25 10:00:00, 2023-10-25 15:00:00}|[61.92, 61.72, 60.8, 69.375, 81.18, 81.0, 74.63, 68.62, 70.998, 65.58, 63.35, 59.76]|-2.1600000000000037|\n",
      "|F   |{2023-10-25 10:00:00, 2023-10-25 15:00:00}|[17.2, 14.06, 16.14, 16.2, 14.86]                                                   |-2.34              |\n",
      "|APC |{2023-10-25 10:00:00, 2023-10-25 15:00:00}|[90.76, 91.51, 99.69, 104.84, 107.19, 86.83, 89.6, 83.84]                           |-6.920000000000002 |\n",
      "|LUK |{2023-10-25 10:00:00, 2023-10-25 15:00:00}|[27.19, 27.24, 27.49, 25.365, 23.18, 24.79]                                         |-2.400000000000002 |\n",
      "|SO  |{2023-10-25 10:00:00, 2023-10-25 15:00:00}|[48.245, 48.35, 46.36, 44.59, 41.38, 42.77]                                         |-5.474999999999994 |\n",
      "|IP  |{2023-10-25 10:00:00, 2023-10-25 15:00:00}|[49.12, 54.52, 53.165, 47.43]                                                       |-1.6899999999999977|\n",
      "|SCG |{2023-10-25 10:00:00, 2023-10-25 15:00:00}|[53.2375, 52.46, 47.5, 46.48, 47.09, 49.89, 52.17, 51.02]                           |-2.217499999999994 |\n",
      "|RF  |{2023-10-25 10:00:00, 2023-10-25 15:00:00}|[10.61, 10.37, 9.89, 9.97]                                                          |-0.6399999999999988|\n",
      "|FE  |{2023-10-25 10:00:00, 2023-10-25 15:00:00}|[36.55, 31.53, 32.58, 38.35, 40.91, 34.58, 36.16, 36.02, 34.14]                     |-2.4099999999999966|\n",
      "|STX |{2023-10-25 10:00:00, 2023-10-25 15:00:00}|[61.15, 64.32, 47.28]                                                               |-13.869999999999997|\n",
      "|QCOM|{2023-10-25 10:00:00, 2023-10-25 15:00:00}|[75.86, 72.9, 72.49, 67.62]                                                         |-8.239999999999995 |\n",
      "+----+------------------------------------------+------------------------------------------------------------------------------------+-------------------+\n",
      "\n"
     ]
    },
    {
     "name": "stderr",
     "output_type": "stream",
     "text": [
      "                                                                                \r"
     ]
    },
    {
     "name": "stdout",
     "output_type": "stream",
     "text": [
      "-------------------------------------------\n",
      "Batch: 29\n",
      "-------------------------------------------\n",
      "+----+------------------------------------------+---------------------------------------------------------------------------+--------------------+\n",
      "|name|window                                    |prices                                                                     |price_diff          |\n",
      "+----+------------------------------------------+---------------------------------------------------------------------------+--------------------+\n",
      "|NAVI|{2023-10-25 10:00:00, 2023-10-25 15:00:00}|[16.04, 17.91, 17.87, 15.625]                                              |-0.41499999999999915|\n",
      "|OKE |{2023-10-25 10:00:00, 2023-10-25 15:00:00}|[53.995, 61.355, 59.57, 50.66, 38.819]                                     |-15.175999999999995 |\n",
      "|CVX |{2023-10-25 10:00:00, 2023-10-25 15:00:00}|[118.28, 125.47, 118.91, 106.58, 87.33]                                    |-30.950000000000003 |\n",
      "|CAT |{2023-10-25 10:00:00, 2023-10-25 15:00:00}|[89.55, 84.77, 108.21, 105.1, 94.66, 83.65]                                |-5.8999999999999915 |\n",
      "|COG |{2023-10-25 10:00:00, 2023-10-25 15:00:00}|[31.31, 33.605, 36.22, 35.0, 38.87, 27.23, 25.6]                           |-5.709999999999997  |\n",
      "|LUK |{2023-10-25 10:00:00, 2023-10-25 15:00:00}|[27.19, 27.24, 27.49, 25.365, 23.18, 24.79, 23.9]                          |-3.2900000000000027 |\n",
      "|BEN |{2023-10-25 10:00:00, 2023-10-25 15:00:00}|[47.025, 46.235, 57.44, 52.1, 57.76, 58.28, 56.64, 53.55, 51.73, 44.94]    |-2.085000000000001  |\n",
      "|JEC |{2023-10-25 10:00:00, 2023-10-25 15:00:00}|[56.73, 59.86, 62.21, 42.57]                                               |-14.159999999999997 |\n",
      "|LKQ |{2023-10-25 10:00:00, 2023-10-25 15:00:00}|[33.46, 27.045, 27.42, 28.61, 26.7, 27.835, 27.4899, 25.78, 31.63]         |-1.8300000000000018 |\n",
      "|WY  |{2023-10-25 10:00:00, 2023-10-25 15:00:00}|[30.6, 29.98, 28.8, 33.27, 34.53, 33.83, 32.125, 30.18]                    |-0.4200000000000017 |\n",
      "|CHK |{2023-10-25 10:00:00, 2023-10-25 15:00:00}|[19.3, 26.38, 27.545, 25.1, 25.45, 22.86, 8.32]                            |-10.98              |\n",
      "|MAT |{2023-10-25 10:00:00, 2023-10-25 15:00:00}|[44.98, 45.71, 38.53, 38.03, 38.44, 34.3, 27.22, 27.04, 26.6, 23.22, 22.62]|-22.359999999999996 |\n",
      "|STX |{2023-10-25 10:00:00, 2023-10-25 15:00:00}|[61.15, 64.32, 47.28, 51.8372, 51.115]                                     |-10.034999999999997 |\n",
      "+----+------------------------------------------+---------------------------------------------------------------------------+--------------------+\n",
      "\n"
     ]
    },
    {
     "name": "stderr",
     "output_type": "stream",
     "text": [
      "                                                                                \r"
     ]
    },
    {
     "name": "stdout",
     "output_type": "stream",
     "text": [
      "-------------------------------------------\n",
      "Batch: 30\n",
      "-------------------------------------------\n",
      "+-----+------------------------------------------+-----------------------------------------------------------------------------------+---------------------+\n",
      "|name |window                                    |prices                                                                             |price_diff           |\n",
      "+-----+------------------------------------------+-----------------------------------------------------------------------------------+---------------------+\n",
      "|HCP  |{2023-10-25 10:00:00, 2023-10-25 15:00:00}|[47.08, 53.71, 46.78, 41.87, 41.89, 43.86, 38.44, 36.33]                           |-10.75               |\n",
      "|KSU  |{2023-10-25 10:00:00, 2023-10-25 15:00:00}|[109.11, 113.24, 104.25, 126.005, 98.35]                                           |-10.760000000000005  |\n",
      "|QRVO |{2023-10-25 10:00:00, 2023-10-25 15:00:00}|[81.85, 52.972]                                                                    |-28.877999999999993  |\n",
      "|BA   |{2023-10-25 10:00:00, 2023-10-25 15:00:00}|[133.99, 151.89, 146.08, 141.3689, 132.35]                                         |-1.6400000000000148  |\n",
      "|DISCK|{2023-10-25 10:00:00, 2023-10-25 15:00:00}|[75.95, 72.94, 31.46, 26.02]                                                       |-49.93000000000001   |\n",
      "|DVN  |{2023-10-25 10:00:00, 2023-10-25 15:00:00}|[55.15, 58.58, 66.82, 79.26, 78.658, 61.96, 66.17, 46.14]                          |-9.009999999999998   |\n",
      "|GPS  |{2023-10-25 10:00:00, 2023-10-25 15:00:00}|[41.46, 39.25, 41.61, 38.09, 39.65, 33.28]                                         |-8.18                |\n",
      "|FTI  |{2023-10-25 10:00:00, 2023-10-25 15:00:00}|[52.26, 49.2, 51.54, 53.07, 62.0, 53.285, 34.17]                                   |-18.089999999999996  |\n",
      "|FLS  |{2023-10-25 10:00:00, 2023-10-25 15:00:00}|[53.4833, 53.4166, 64.33, 73.34, 76.58, 68.25, 57.25, 54.29, 45.6]                 |-7.883299999999998   |\n",
      "|EXC  |{2023-10-25 10:00:00, 2023-10-25 15:00:00}|[37.22, 30.71, 36.495, 31.525, 35.69, 34.275]                                      |-2.9450000000000003  |\n",
      "|MON  |{2023-10-25 10:00:00, 2023-10-25 15:00:00}|[109.33, 108.13, 116.805, 120.37, 118.76, 124.1, 96.74]                            |-12.590000000000003  |\n",
      "|NTRS |{2023-10-25 10:00:00, 2023-10-25 15:00:00}|[68.79, 75.85, 75.41, 76.74, 68.76]                                                |-0.030000000000001137|\n",
      "|HSY  |{2023-10-25 10:00:00, 2023-10-25 15:00:00}|[96.94, 95.89, 99.47, 97.31, 103.41, 92.54]                                        |-4.3999999999999915  |\n",
      "|JEC  |{2023-10-25 10:00:00, 2023-10-25 15:00:00}|[56.73, 59.86, 62.21, 42.57, 40.74]                                                |-15.989999999999995  |\n",
      "|NEM  |{2023-10-25 10:00:00, 2023-10-25 15:00:00}|[39.43, 26.24, 24.88, 24.09, 24.6, 24.46, 23.02, 25.73, 24.6, 22.91, 16.29]        |-23.14               |\n",
      "|MRO  |{2023-10-25 10:00:00, 2023-10-25 15:00:00}|[33.82, 36.25, 33.36, 35.81, 36.46, 40.84, 38.9, 27.97, 27.51, 17.48]              |-16.34               |\n",
      "|C    |{2023-10-25 10:00:00, 2023-10-25 15:00:00}|[52.88, 49.2, 50.53, 48.14, 48.14, 48.5, 48.175, 54.18, 48.23, 53.98, 56.88, 52.03]|-0.8500000000000014  |\n",
      "|IP   |{2023-10-25 10:00:00, 2023-10-25 15:00:00}|[49.12, 54.52, 53.165, 47.43, 45.79]                                               |-3.3299999999999983  |\n",
      "|APA  |{2023-10-25 10:00:00, 2023-10-25 15:00:00}|[85.82, 81.94, 83.0, 92.86, 101.42, 102.29, 95.17, 72.89, 61.93, 48.69]            |-37.129999999999995  |\n",
      "|RF   |{2023-10-25 10:00:00, 2023-10-25 15:00:00}|[10.61, 10.37, 9.89, 9.97, 10.6]                                                   |-0.009999999999999787|\n",
      "+-----+------------------------------------------+-----------------------------------------------------------------------------------+---------------------+\n",
      "only showing top 20 rows\n",
      "\n"
     ]
    },
    {
     "name": "stderr",
     "output_type": "stream",
     "text": [
      "                                                                                \r"
     ]
    },
    {
     "name": "stdout",
     "output_type": "stream",
     "text": [
      "-------------------------------------------\n",
      "Batch: 31\n",
      "-------------------------------------------\n",
      "+----+------------------------------------------+------------------------------------------------------------------------------+--------------------+\n",
      "|name|window                                    |prices                                                                        |price_diff          |\n",
      "+----+------------------------------------------+------------------------------------------------------------------------------+--------------------+\n",
      "|ETN |{2023-10-25 10:00:00, 2023-10-25 15:00:00}|[63.29, 70.07, 68.86, 69.8, 69.54, 53.3, 55.48]                               |-7.810000000000002  |\n",
      "|OKE |{2023-10-25 10:00:00, 2023-10-25 15:00:00}|[53.995, 61.355, 59.57, 50.66, 38.819, 39.46]                                 |-14.534999999999997 |\n",
      "|PX  |{2023-10-25 10:00:00, 2023-10-25 15:00:00}|[114.29, 115.86, 133.3599, 128.87, 123.18, 121.82, 115.56, 106.51]            |-7.780000000000001  |\n",
      "|CAT |{2023-10-25 10:00:00, 2023-10-25 15:00:00}|[89.55, 84.77, 108.21, 105.1, 94.66, 83.65, 72.839]                           |-16.711             |\n",
      "|NTAP|{2023-10-25 10:00:00, 2023-10-25 15:00:00}|[40.79, 40.68, 37.31, 37.91, 38.85, 36.66, 32.48]                             |-8.310000000000002  |\n",
      "|DVA |{2023-10-25 10:00:00, 2023-10-25 15:00:00}|[76.32, 81.87, 75.85]                                                         |-0.46999999999999886|\n",
      "|IP  |{2023-10-25 10:00:00, 2023-10-25 15:00:00}|[49.12, 54.52, 53.165, 47.43, 45.79, 38.55]                                   |-10.57              |\n",
      "|APA |{2023-10-25 10:00:00, 2023-10-25 15:00:00}|[85.82, 81.94, 83.0, 92.86, 101.42, 102.29, 95.17, 72.89, 61.93, 48.69, 46.31]|-39.50999999999999  |\n",
      "|CTL |{2023-10-25 10:00:00, 2023-10-25 15:00:00}|[32.64, 40.44, 32.5, 33.05, 25.2]                                             |-7.440000000000001  |\n",
      "|PG  |{2023-10-25 10:00:00, 2023-10-25 15:00:00}|[78.51, 81.0, 79.46, 85.05, 80.65, 70.6528]                                   |-7.857200000000006  |\n",
      "|VZ  |{2023-10-25 10:00:00, 2023-10-25 15:00:00}|[53.72, 46.56, 49.1462, 44.31]                                                |-9.409999999999997  |\n",
      "|EBAY|{2023-10-25 10:00:00, 2023-10-25 15:00:00}|[54.52, 55.0, 55.66, 56.42, 58.7, 25.68]                                      |-28.840000000000003 |\n",
      "|FE  |{2023-10-25 10:00:00, 2023-10-25 15:00:00}|[36.55, 31.53, 32.58, 38.35, 40.91, 34.58, 36.16, 36.02, 34.14, 32.57]        |-3.979999999999997  |\n",
      "|WY  |{2023-10-25 10:00:00, 2023-10-25 15:00:00}|[30.6, 29.98, 28.8, 33.27, 34.53, 33.83, 32.125, 30.18, 28.66]                |-1.9400000000000013 |\n",
      "|KMI |{2023-10-25 10:00:00, 2023-10-25 15:00:00}|[39.11, 35.76, 36.08, 32.69, 40.66, 40.22, 32.48]                             |-6.630000000000003  |\n",
      "|FMC |{2023-10-25 10:00:00, 2023-10-25 15:00:00}|[76.92, 58.39, 58.77, 33.82]                                                  |-43.1               |\n",
      "|IBM |{2023-10-25 10:00:00, 2023-10-25 15:00:00}|[211.98, 186.2, 187.65, 190.74, 148.89]                                       |-63.09              |\n",
      "|PWR |{2023-10-25 10:00:00, 2023-10-25 15:00:00}|[30.3, 33.22, 34.425, 35.32, 32.86, 28.83, 28.93, 28.16, 24.8, 25.66]         |-4.640000000000001  |\n",
      "|QCOM|{2023-10-25 10:00:00, 2023-10-25 15:00:00}|[75.86, 72.9, 72.49, 67.62, 55.35, 54.0]                                      |-21.86              |\n",
      "+----+------------------------------------------+------------------------------------------------------------------------------+--------------------+\n",
      "\n"
     ]
    },
    {
     "name": "stderr",
     "output_type": "stream",
     "text": [
      "                                                                                \r"
     ]
    },
    {
     "name": "stdout",
     "output_type": "stream",
     "text": [
      "-------------------------------------------\n",
      "Batch: 32\n",
      "-------------------------------------------\n",
      "+----+------------------------------------------+--------------------------------------------------------------------------------+-------------------+\n",
      "|name|window                                    |prices                                                                          |price_diff         |\n",
      "+----+------------------------------------------+--------------------------------------------------------------------------------+-------------------+\n",
      "|QRVO|{2023-10-25 10:00:00, 2023-10-25 15:00:00}|[81.85, 52.972, 50.81]                                                          |-31.039999999999992|\n",
      "|DE  |{2023-10-25 10:00:00, 2023-10-25 15:00:00}|[89.6, 87.6, 84.98, 89.45, 89.61, 94.285, 96.89, 96.46, 76.67]                  |-12.929999999999993|\n",
      "|OKE |{2023-10-25 10:00:00, 2023-10-25 15:00:00}|[53.995, 61.355, 59.57, 50.66, 38.819, 39.46, 39.07]                            |-14.924999999999997|\n",
      "|FCX |{2023-10-25 10:00:00, 2023-10-25 15:00:00}|[36.23, 32.545, 33.99, 34.87, 13.09]                                            |-23.139999999999997|\n",
      "|KO  |{2023-10-25 10:00:00, 2023-10-25 15:00:00}|[43.05, 41.07, 40.68, 38.61, 37.62, 42.32, 42.35]                               |-0.6999999999999957|\n",
      "|SNI |{2023-10-25 10:00:00, 2023-10-25 15:00:00}|[67.34, 67.61, 76.64, 81.03, 75.01, 80.75, 78.85, 73.66, 70.54, 58.72]          |-8.620000000000005 |\n",
      "|EXC |{2023-10-25 10:00:00, 2023-10-25 15:00:00}|[37.22, 30.71, 36.495, 31.525, 35.69, 34.275, 30.71]                            |-6.509999999999998 |\n",
      "|F   |{2023-10-25 10:00:00, 2023-10-25 15:00:00}|[17.2, 14.06, 16.14, 16.2, 14.86, 14.86]                                        |-2.34              |\n",
      "|APC |{2023-10-25 10:00:00, 2023-10-25 15:00:00}|[90.76, 91.51, 99.69, 104.84, 107.19, 86.83, 89.6, 83.84, 72.26, 60.86]         |-29.900000000000006|\n",
      "|HAL |{2023-10-25 10:00:00, 2023-10-25 15:00:00}|[64.15, 44.82, 37.78]                                                           |-26.370000000000005|\n",
      "|LKQ |{2023-10-25 10:00:00, 2023-10-25 15:00:00}|[33.46, 27.045, 27.42, 28.61, 26.7, 27.835, 27.4899, 25.78, 31.63, 30.5]        |-2.960000000000001 |\n",
      "|RF  |{2023-10-25 10:00:00, 2023-10-25 15:00:00}|[10.61, 10.37, 9.89, 9.97, 10.6, 9.3]                                           |-1.3099999999999987|\n",
      "|MRK |{2023-10-25 10:00:00, 2023-10-25 15:00:00}|[57.729, 55.265]                                                                |-2.4639999999999986|\n",
      "|XOM |{2023-10-25 10:00:00, 2023-10-25 15:00:00}|[90.88, 91.51, 86.04, 95.54, 101.15, 94.49, 93.27, 90.73, 85.7801, 88.67, 82.56]|-8.319999999999993 |\n",
      "|CFG |{2023-10-25 10:00:00, 2023-10-25 15:00:00}|[25.0, 24.62]                                                                   |-0.379999999999999 |\n",
      "|CHK |{2023-10-25 10:00:00, 2023-10-25 15:00:00}|[19.3, 26.38, 27.545, 25.1, 25.45, 22.86, 8.32, 7.68]                           |-11.620000000000001|\n",
      "|STX |{2023-10-25 10:00:00, 2023-10-25 15:00:00}|[61.15, 64.32, 47.28, 51.8372, 51.115, 50.45, 49.26]                            |-11.89             |\n",
      "|SYMC|{2023-10-25 10:00:00, 2023-10-25 15:00:00}|[24.99, 25.66, 25.1, 24.78, 20.66]                                              |-4.329999999999998 |\n",
      "+----+------------------------------------------+--------------------------------------------------------------------------------+-------------------+\n",
      "\n"
     ]
    },
    {
     "name": "stderr",
     "output_type": "stream",
     "text": [
      "                                                                                \r"
     ]
    },
    {
     "name": "stdout",
     "output_type": "stream",
     "text": [
      "-------------------------------------------\n",
      "Batch: 33\n",
      "-------------------------------------------\n",
      "+-----+------------------------------------------+-------------------------------------------------------------------------------------------+-------------------+\n",
      "|name |window                                    |prices                                                                                     |price_diff         |\n",
      "+-----+------------------------------------------+-------------------------------------------------------------------------------------------+-------------------+\n",
      "|UTX  |{2023-10-25 10:00:00, 2023-10-25 15:00:00}|[106.45, 104.75, 115.4, 102.71, 114.1699, 99.635]                                          |-6.814999999999998 |\n",
      "|DISCK|{2023-10-25 10:00:00, 2023-10-25 15:00:00}|[75.95, 72.94, 31.46, 26.02, 29.93]                                                        |-46.02             |\n",
      "|JWN  |{2023-10-25 10:00:00, 2023-10-25 15:00:00}|[74.33, 76.0, 78.69, 79.232, 55.0]                                                         |-19.33             |\n",
      "|DVN  |{2023-10-25 10:00:00, 2023-10-25 15:00:00}|[55.15, 58.58, 66.82, 79.26, 78.658, 61.96, 66.17, 46.14, 46.98, 40.99]                    |-14.159999999999997|\n",
      "|GPS  |{2023-10-25 10:00:00, 2023-10-25 15:00:00}|[41.46, 39.25, 41.61, 38.09, 39.65, 33.28, 28.19]                                          |-13.27             |\n",
      "|T    |{2023-10-25 10:00:00, 2023-10-25 15:00:00}|[37.69, 33.65, 35.04, 35.87, 34.17]                                                        |-3.519999999999996 |\n",
      "|COP  |{2023-10-25 10:00:00, 2023-10-25 15:00:00}|[61.92, 61.72, 60.8, 69.375, 81.18, 81.0, 74.63, 68.62, 70.998, 65.58, 63.35, 59.76, 52.98]|-8.940000000000005 |\n",
      "|JEC  |{2023-10-25 10:00:00, 2023-10-25 15:00:00}|[56.73, 59.86, 62.21, 42.57, 40.74, 42.61]                                                 |-14.119999999999997|\n",
      "|M    |{2023-10-25 10:00:00, 2023-10-25 15:00:00}|[52.24, 62.0, 63.81, 52.28, 39.12]                                                         |-13.120000000000005|\n",
      "|HOG  |{2023-10-25 10:00:00, 2023-10-25 15:00:00}|[50.81, 55.87, 72.44, 65.2, 59.3, 58.05, 58.73, 46.09]                                     |-4.719999999999999 |\n",
      "|CNP  |{2023-10-25 10:00:00, 2023-10-25 15:00:00}|[24.05, 23.68, 23.81, 23.64, 17.32]                                                        |-6.73              |\n",
      "|XRX  |{2023-10-25 10:00:00, 2023-10-25 15:00:00}|[41.32, 44.72, 50.0, 50.88, 53.24, 52.34, 53.16, 46.88, 43.12, 41.36, 40.4]                |-0.9200000000000017|\n",
      "|PHM  |{2023-10-25 10:00:00, 2023-10-25 15:00:00}|[19.69, 16.11, 21.31, 20.64, 21.2, 20.44, 18.12]                                           |-1.5700000000000003|\n",
      "+-----+------------------------------------------+-------------------------------------------------------------------------------------------+-------------------+\n",
      "\n"
     ]
    },
    {
     "name": "stderr",
     "output_type": "stream",
     "text": [
      "                                                                                \r"
     ]
    },
    {
     "name": "stdout",
     "output_type": "stream",
     "text": [
      "-------------------------------------------\n",
      "Batch: 34\n",
      "-------------------------------------------\n",
      "+-----+------------------------------------------+--------------------------------------------------------------------------------------------------+-------------------+\n",
      "|name |window                                    |prices                                                                                            |price_diff         |\n",
      "+-----+------------------------------------------+--------------------------------------------------------------------------------------------------+-------------------+\n",
      "|OKE  |{2023-10-25 10:00:00, 2023-10-25 15:00:00}|[53.995, 61.355, 59.57, 50.66, 38.819, 39.46, 39.07, 21.0]                                        |-32.995            |\n",
      "|KMX  |{2023-10-25 10:00:00, 2023-10-25 15:00:00}|[46.9, 52.73, 51.41, 47.41, 65.02, 45.94]                                                         |-0.9600000000000009|\n",
      "|XLNX |{2023-10-25 10:00:00, 2023-10-25 15:00:00}|[45.68, 45.68, 47.775, 53.64, 52.97, 43.29, 37.61, 47.63, 48.13, 42.56]                           |-3.1199999999999974|\n",
      "|RRC  |{2023-10-25 10:00:00, 2023-10-25 15:00:00}|[79.87, 75.09, 72.34, 48.25, 47.85, 25.045]                                                       |-54.825            |\n",
      "|WYNN |{2023-10-25 10:00:00, 2023-10-25 15:00:00}|[120.24, 164.24, 168.99, 183.117, 156.71, 144.13, 60.79]                                          |-59.449999999999996|\n",
      "|DISCK|{2023-10-25 10:00:00, 2023-10-25 15:00:00}|[75.95, 72.94, 31.46, 26.02, 29.93, 25.29]                                                        |-50.660000000000004|\n",
      "|CVX  |{2023-10-25 10:00:00, 2023-10-25 15:00:00}|[118.28, 125.47, 118.91, 106.58, 87.33, 83.81]                                                    |-34.47             |\n",
      "|AMD  |{2023-10-25 10:00:00, 2023-10-25 15:00:00}|[4.1, 3.73, 4.11, 4.03, 4.37, 2.7, 2.36]                                                          |-1.7399999999999998|\n",
      "|FLR  |{2023-10-25 10:00:00, 2023-10-25 15:00:00}|[55.61, 59.99, 61.38, 79.88, 79.98, 79.12, 74.186, 65.72, 59.19, 60.04, 59.38, 45.23]             |-10.380000000000003|\n",
      "|CTXS |{2023-10-25 10:00:00, 2023-10-25 15:00:00}|[71.84, 61.23, 55.37, 67.58, 66.05, 66.66, 76.7, 74.138, 77.43, 67.0]                             |-4.840000000000003 |\n",
      "|COP  |{2023-10-25 10:00:00, 2023-10-25 15:00:00}|[61.92, 61.72, 60.8, 69.375, 81.18, 81.0, 74.63, 68.62, 70.998, 65.58, 63.35, 59.76, 52.98, 49.21]|-12.71             |\n",
      "|HPQ  |{2023-10-25 10:00:00, 2023-10-25 15:00:00}|[12.04, 10.82]                                                                                    |-1.2199999999999989|\n",
      "|NRG  |{2023-10-25 10:00:00, 2023-10-25 15:00:00}|[27.815, 33.63, 28.39, 10.48]                                                                     |-17.335            |\n",
      "|F    |{2023-10-25 10:00:00, 2023-10-25 15:00:00}|[17.2, 14.06, 16.14, 16.2, 14.86, 14.86, 14.0]                                                    |-3.1999999999999993|\n",
      "|ISRG |{2023-10-25 10:00:00, 2023-10-25 15:00:00}|[192.6465, 160.6632, 168.1665, 169.4332, 167.9965, 181.1132]                                      |-11.533299999999997|\n",
      "|STT  |{2023-10-25 10:00:00, 2023-10-25 15:00:00}|[69.26, 66.76, 70.61, 73.1, 76.37, 72.3, 81.16, 79.99, 77.02, 72.24, 72.94, 68.32]                |-0.9400000000000119|\n",
      "|C    |{2023-10-25 10:00:00, 2023-10-25 15:00:00}|[52.88, 49.2, 50.53, 48.14, 48.14, 48.5, 48.175, 54.18, 48.23, 53.98, 56.88, 52.03, 52.57]        |-0.3100000000000023|\n",
      "|HOG  |{2023-10-25 10:00:00, 2023-10-25 15:00:00}|[50.81, 55.87, 72.44, 65.2, 59.3, 58.05, 58.73, 46.09, 46.7]                                      |-4.109999999999999 |\n",
      "|CTL  |{2023-10-25 10:00:00, 2023-10-25 15:00:00}|[32.64, 40.44, 32.5, 33.05, 25.2, 22.9]                                                           |-9.740000000000002 |\n",
      "|VZ   |{2023-10-25 10:00:00, 2023-10-25 15:00:00}|[53.72, 46.56, 49.1462, 44.31, 45.23]                                                             |-8.490000000000002 |\n",
      "+-----+------------------------------------------+--------------------------------------------------------------------------------------------------+-------------------+\n",
      "only showing top 20 rows\n",
      "\n"
     ]
    },
    {
     "name": "stderr",
     "output_type": "stream",
     "text": [
      "                                                                                \r"
     ]
    },
    {
     "name": "stdout",
     "output_type": "stream",
     "text": [
      "-------------------------------------------\n",
      "Batch: 35\n",
      "-------------------------------------------\n",
      "+----+------------------------------------------+-------------------------------------------------------------------------------------------------+--------------------+\n",
      "|name|window                                    |prices                                                                                           |price_diff          |\n",
      "+----+------------------------------------------+-------------------------------------------------------------------------------------------------+--------------------+\n",
      "|HCP |{2023-10-25 10:00:00, 2023-10-25 15:00:00}|[47.08, 53.71, 46.78, 41.87, 41.89, 43.86, 38.44, 36.33, 28.55]                                  |-18.529999999999998 |\n",
      "|WDC |{2023-10-25 10:00:00, 2023-10-25 15:00:00}|[51.0, 50.13, 79.8, 87.15, 86.3, 91.5, 105.68, 98.94, 44.74]                                     |-6.259999999999998  |\n",
      "|CSX |{2023-10-25 10:00:00, 2023-10-25 15:00:00}|[28.13, 31.3, 34.28, 34.56, 23.25]                                                               |-4.879999999999999  |\n",
      "|HCN |{2023-10-25 10:00:00, 2023-10-25 15:00:00}|[74.235, 63.3, 63.96, 66.76, 62.58, 62.84, 63.53, 67.89, 71.215, 71.67, 69.53, 63.71]            |-10.524999999999999 |\n",
      "|TPR |{2023-10-25 10:00:00, 2023-10-25 15:00:00}|[36.683, 39.12, 33.55, 36.42]                                                                    |-0.2629999999999981 |\n",
      "|CVX |{2023-10-25 10:00:00, 2023-10-25 15:00:00}|[118.28, 125.47, 118.91, 106.58, 87.33, 83.81, 86.7]                                             |-31.58              |\n",
      "|JCI |{2023-10-25 10:00:00, 2023-10-25 15:00:00}|[36.7434, 39.7906, 39.5288, 41.9372, 41.3717, 38.3979, 36.4921]                                  |-0.2513000000000005 |\n",
      "|PLD |{2023-10-25 10:00:00, 2023-10-25 15:00:00}|[39.55, 41.26, 37.72]                                                                            |-1.8299999999999983 |\n",
      "|FOXA|{2023-10-25 10:00:00, 2023-10-25 15:00:00}|[27.99, 35.04, 33.31, 34.91, 35.11, 28.01, 30.12, 26.3]                                          |-1.6899999999999977 |\n",
      "|NRG |{2023-10-25 10:00:00, 2023-10-25 15:00:00}|[27.815, 33.63, 28.39, 10.48, 10.76]                                                             |-17.055             |\n",
      "|PXD |{2023-10-25 10:00:00, 2023-10-25 15:00:00}|[124.69, 128.0, 114.075, 175.02, 213.11, 177.0497, 147.5, 117.8]                                 |-6.890000000000001  |\n",
      "|F   |{2023-10-25 10:00:00, 2023-10-25 15:00:00}|[17.2, 14.06, 16.14, 16.2, 14.86, 14.86, 14.0, 12.08]                                            |-5.119999999999999  |\n",
      "|APC |{2023-10-25 10:00:00, 2023-10-25 15:00:00}|[90.76, 91.51, 99.69, 104.84, 107.19, 86.83, 89.6, 83.84, 72.26, 60.86, 41.16]                   |-49.60000000000001  |\n",
      "|CF  |{2023-10-25 10:00:00, 2023-10-25 15:00:00}|[38.187, 41.332, 41.8, 42.118, 60.362, 57.684, 57.396, 30.64]                                    |-7.546999999999997  |\n",
      "|ISRG|{2023-10-25 10:00:00, 2023-10-25 15:00:00}|[192.6465, 160.6632, 168.1665, 169.4332, 167.9965, 181.1132, 181.6248]                           |-11.02170000000001  |\n",
      "|NTRS|{2023-10-25 10:00:00, 2023-10-25 15:00:00}|[68.79, 75.85, 75.41, 76.74, 68.76, 73.16, 60.81]                                                |-7.980000000000004  |\n",
      "|C   |{2023-10-25 10:00:00, 2023-10-25 15:00:00}|[52.88, 49.2, 50.53, 48.14, 48.14, 48.5, 48.175, 54.18, 48.23, 53.98, 56.88, 52.03, 52.57, 42.83]|-10.050000000000004 |\n",
      "|ABT |{2023-10-25 10:00:00, 2023-10-25 15:00:00}|[39.34, 40.49, 38.89, 41.36, 42.78, 43.99, 47.57, 47.71, 38.22]                                  |-1.1200000000000045 |\n",
      "|SO  |{2023-10-25 10:00:00, 2023-10-25 15:00:00}|[48.245, 48.35, 46.36, 44.59, 41.38, 42.77, 48.09]                                               |-0.15499999999999403|\n",
      "|A   |{2023-10-25 10:00:00, 2023-10-25 15:00:00}|[43.56, 57.88, 60.38, 56.5, 58.19, 42.38, 42.57, 40.59, 37.55]                                   |-6.010000000000005  |\n",
      "+----+------------------------------------------+-------------------------------------------------------------------------------------------------+--------------------+\n",
      "only showing top 20 rows\n",
      "\n"
     ]
    },
    {
     "name": "stderr",
     "output_type": "stream",
     "text": [
      "                                                                                \r"
     ]
    },
    {
     "name": "stdout",
     "output_type": "stream",
     "text": [
      "-------------------------------------------\n",
      "Batch: 36\n",
      "-------------------------------------------\n",
      "+-----+------------------------------------------+---------------------------------------------------------------------------------------+--------------------+\n",
      "|name |window                                    |prices                                                                                 |price_diff          |\n",
      "+-----+------------------------------------------+---------------------------------------------------------------------------------------+--------------------+\n",
      "|KSU  |{2023-10-25 10:00:00, 2023-10-25 15:00:00}|[109.11, 113.24, 104.25, 126.005, 98.35, 83.97]                                        |-25.14              |\n",
      "|DISCA|{2023-10-25 10:00:00, 2023-10-25 15:00:00}|[79.95, 82.82, 82.45, 76.17, 80.66, 32.68, 33.075, 25.385, 27.88]                      |-52.07000000000001  |\n",
      "|EXC  |{2023-10-25 10:00:00, 2023-10-25 15:00:00}|[37.22, 30.71, 36.495, 31.525, 35.69, 34.275, 30.71, 31.98]                            |-5.239999999999998  |\n",
      "|COG  |{2023-10-25 10:00:00, 2023-10-25 15:00:00}|[31.31, 33.605, 36.22, 35.0, 38.87, 27.23, 25.6, 20.4]                                 |-10.91              |\n",
      "|AES  |{2023-10-25 10:00:00, 2023-10-25 15:00:00}|[11.79, 12.855, 13.41, 15.21, 13.6, 10.79, 11.58]                                      |-0.20999999999999908|\n",
      "|APC  |{2023-10-25 10:00:00, 2023-10-25 15:00:00}|[90.76, 91.51, 99.69, 104.84, 107.19, 86.83, 89.6, 83.84, 72.26, 60.86, 41.16, 49.1658]|-41.59420000000001  |\n",
      "|CF   |{2023-10-25 10:00:00, 2023-10-25 15:00:00}|[38.187, 41.332, 41.8, 42.118, 60.362, 57.684, 57.396, 30.64, 32.33]                   |-5.856999999999999  |\n",
      "|NTRS |{2023-10-25 10:00:00, 2023-10-25 15:00:00}|[68.79, 75.85, 75.41, 76.74, 68.76, 73.16, 60.81, 58.85]                               |-9.940000000000005  |\n",
      "|BEN  |{2023-10-25 10:00:00, 2023-10-25 15:00:00}|[47.025, 46.235, 57.44, 52.1, 57.76, 58.28, 56.64, 53.55, 51.73, 44.94, 39.36]         |-7.664999999999999  |\n",
      "|DVA  |{2023-10-25 10:00:00, 2023-10-25 15:00:00}|[76.32, 81.87, 75.85, 65.35, 71.16]                                                    |-5.159999999999997  |\n",
      "|HAL  |{2023-10-25 10:00:00, 2023-10-25 15:00:00}|[64.15, 44.82, 37.78, 35.17]                                                           |-28.980000000000004 |\n",
      "|A    |{2023-10-25 10:00:00, 2023-10-25 15:00:00}|[43.56, 57.88, 60.38, 56.5, 58.19, 42.38, 42.57, 40.59, 37.55, 37.96]                  |-5.600000000000001  |\n",
      "|IP   |{2023-10-25 10:00:00, 2023-10-25 15:00:00}|[49.12, 54.52, 53.165, 47.43, 45.79, 38.55, 39.36]                                     |-9.759999999999998  |\n",
      "|EMN  |{2023-10-25 10:00:00, 2023-10-25 15:00:00}|[70.84, 77.89, 85.7, 82.48, 76.54, 63.94, 70.64]                                       |-0.20000000000000284|\n",
      "|APA  |{2023-10-25 10:00:00, 2023-10-25 15:00:00}|[85.82, 81.94, 83.0, 92.86, 101.42, 102.29, 95.17, 72.89, 61.93, 48.69, 46.31, 39.78]  |-46.03999999999999  |\n",
      "|HOG  |{2023-10-25 10:00:00, 2023-10-25 15:00:00}|[50.81, 55.87, 72.44, 65.2, 59.3, 58.05, 58.73, 46.09, 46.7, 39.615, 49.9858]          |-0.8242000000000047 |\n",
      "|CTL  |{2023-10-25 10:00:00, 2023-10-25 15:00:00}|[32.64, 40.44, 32.5, 33.05, 25.2, 22.9, 31.37]                                         |-1.2699999999999996 |\n",
      "|MPC  |{2023-10-25 10:00:00, 2023-10-25 15:00:00}|[42.505, 44.735, 35.05, 35.945, 44.62, 43.3975, 42.25, 45.79, 42.52, 49.595, 38.6]     |-3.905000000000001  |\n",
      "|IR   |{2023-10-25 10:00:00, 2023-10-25 15:00:00}|[59.49, 57.43, 59.08, 59.54, 60.28, 63.69, 55.08, 57.71]                               |-1.7800000000000011 |\n",
      "|PH   |{2023-10-25 10:00:00, 2023-10-25 15:00:00}|[114.95, 118.92, 114.37, 123.38, 127.86, 121.65, 93.44, 110.54]                        |-4.409999999999997  |\n",
      "+-----+------------------------------------------+---------------------------------------------------------------------------------------+--------------------+\n",
      "only showing top 20 rows\n",
      "\n"
     ]
    },
    {
     "name": "stderr",
     "output_type": "stream",
     "text": [
      "                                                                                \r"
     ]
    },
    {
     "name": "stdout",
     "output_type": "stream",
     "text": [
      "-------------------------------------------\n",
      "Batch: 37\n",
      "-------------------------------------------\n",
      "+-----+------------------------------------------+-------------------------------------------------------------------------------------------------------+-------------------+\n",
      "|name |window                                    |prices                                                                                                 |price_diff         |\n",
      "+-----+------------------------------------------+-------------------------------------------------------------------------------------------------------+-------------------+\n",
      "|HCP  |{2023-10-25 10:00:00, 2023-10-25 15:00:00}|[47.08, 53.71, 46.78, 41.87, 41.89, 43.86, 38.44, 36.33, 28.55, 35.36]                                 |-11.719999999999999|\n",
      "|DE   |{2023-10-25 10:00:00, 2023-10-25 15:00:00}|[89.6, 87.6, 84.98, 89.45, 89.61, 94.285, 96.89, 96.46, 76.67, 76.94]                                  |-12.659999999999997|\n",
      "|WDC  |{2023-10-25 10:00:00, 2023-10-25 15:00:00}|[51.0, 50.13, 79.8, 87.15, 86.3, 91.5, 105.68, 98.94, 44.74, 43.93]                                    |-7.07              |\n",
      "|FCX  |{2023-10-25 10:00:00, 2023-10-25 15:00:00}|[36.23, 32.545, 33.99, 34.87, 13.09, 11.23]                                                            |-24.999999999999996|\n",
      "|DISCA|{2023-10-25 10:00:00, 2023-10-25 15:00:00}|[79.95, 82.82, 82.45, 76.17, 80.66, 32.68, 33.075, 25.385, 27.88, 28.53]                               |-51.42             |\n",
      "|DISCK|{2023-10-25 10:00:00, 2023-10-25 15:00:00}|[75.95, 72.94, 31.46, 26.02, 29.93, 25.29, 27.72]                                                      |-48.230000000000004|\n",
      "|JWN  |{2023-10-25 10:00:00, 2023-10-25 15:00:00}|[74.33, 76.0, 78.69, 79.232, 55.0, 52.57]                                                              |-21.759999999999998|\n",
      "|CAT  |{2023-10-25 10:00:00, 2023-10-25 15:00:00}|[89.55, 84.77, 108.21, 105.1, 94.66, 83.65, 72.839, 79.72]                                             |-9.829999999999998 |\n",
      "|NTAP |{2023-10-25 10:00:00, 2023-10-25 15:00:00}|[40.79, 40.68, 37.31, 37.91, 38.85, 36.66, 32.48, 24.83]                                               |-15.96             |\n",
      "|STT  |{2023-10-25 10:00:00, 2023-10-25 15:00:00}|[69.26, 66.76, 70.61, 73.1, 76.37, 72.3, 81.16, 79.99, 77.02, 72.24, 72.94, 68.32, 59.39, 58.24, 62.32]|-6.940000000000005 |\n",
      "|IP   |{2023-10-25 10:00:00, 2023-10-25 15:00:00}|[49.12, 54.52, 53.165, 47.43, 45.79, 38.55, 39.36, 40.6]                                               |-8.519999999999996 |\n",
      "|NI   |{2023-10-25 10:00:00, 2023-10-25 15:00:00}|[28.84, 31.16, 32.78, 34.79, 35.21, 38.92, 40.44, 23.82]                                               |-5.02              |\n",
      "|AMP  |{2023-10-25 10:00:00, 2023-10-25 15:00:00}|[114.26, 108.8, 116.91, 123.72, 124.01, 115.38, 129.99, 133.24, 115.29, 94.95]                         |-19.310000000000002|\n",
      "|BWA  |{2023-10-25 10:00:00, 2023-10-25 15:00:00}|[56.0, 61.98, 62.94, 54.31, 58.785, 57.84, 60.19, 61.5, 29.78, 38.22]                                  |-17.78             |\n",
      "|STX  |{2023-10-25 10:00:00, 2023-10-25 15:00:00}|[61.15, 64.32, 47.28, 51.8372, 51.115, 50.45, 49.26, 33.72, 29.85]                                     |-31.299999999999997|\n",
      "|PWR  |{2023-10-25 10:00:00, 2023-10-25 15:00:00}|[30.3, 33.22, 34.425, 35.32, 32.86, 28.83, 28.93, 28.16, 24.8, 25.66, 22.59, 22.87, 22.425]            |-7.875             |\n",
      "|WMT  |{2023-10-25 10:00:00, 2023-10-25 15:00:00}|[73.34, 75.65, 78.95, 76.37, 86.16, 81.23, 67.15, 70.08]                                               |-3.260000000000005 |\n",
      "+-----+------------------------------------------+-------------------------------------------------------------------------------------------------------+-------------------+\n",
      "\n"
     ]
    },
    {
     "name": "stderr",
     "output_type": "stream",
     "text": [
      "                                                                                \r"
     ]
    },
    {
     "name": "stdout",
     "output_type": "stream",
     "text": [
      "-------------------------------------------\n",
      "Batch: 38\n",
      "-------------------------------------------\n",
      "+----+------------------------------------------+--------------------------------------------------------------------------------------------+-------------------+\n",
      "|name|window                                    |prices                                                                                      |price_diff         |\n",
      "+----+------------------------------------------+--------------------------------------------------------------------------------------------+-------------------+\n",
      "|PBCT|{2023-10-25 10:00:00, 2023-10-25 15:00:00}|[16.34, 16.505, 15.28]                                                                      |-1.0600000000000005|\n",
      "|ETN |{2023-10-25 10:00:00, 2023-10-25 15:00:00}|[63.29, 70.07, 68.86, 69.8, 69.54, 53.3, 55.48, 62.13]                                      |-1.1599999999999966|\n",
      "|HCN |{2023-10-25 10:00:00, 2023-10-25 15:00:00}|[74.235, 63.3, 63.96, 66.76, 62.58, 62.84, 63.53, 67.89, 71.215, 71.67, 69.53, 63.71, 72.99]|-1.2450000000000045|\n",
      "|JWN |{2023-10-25 10:00:00, 2023-10-25 15:00:00}|[74.33, 76.0, 78.69, 79.232, 55.0, 52.57, 37.5]                                             |-36.83             |\n",
      "|FTI |{2023-10-25 10:00:00, 2023-10-25 15:00:00}|[52.26, 49.2, 51.54, 53.07, 62.0, 53.285, 34.17, 27.26]                                     |-24.999999999999996|\n",
      "|AMG |{2023-10-25 10:00:00, 2023-10-25 15:00:00}|[171.04, 174.74, 203.89, 205.73, 177.1, 166.135]                                            |-4.905000000000001 |\n",
      "|NRG |{2023-10-25 10:00:00, 2023-10-25 15:00:00}|[27.815, 33.63, 28.39, 10.48, 10.76, 14.69]                                                 |-13.125000000000002|\n",
      "|HSY |{2023-10-25 10:00:00, 2023-10-25 15:00:00}|[96.94, 95.89, 99.47, 97.31, 103.41, 92.54, 92.85, 92.95]                                   |-3.989999999999995 |\n",
      "|BEN |{2023-10-25 10:00:00, 2023-10-25 15:00:00}|[47.025, 46.235, 57.44, 52.1, 57.76, 58.28, 56.64, 53.55, 51.73, 44.94, 39.36, 35.9]        |-11.125            |\n",
      "|DVA |{2023-10-25 10:00:00, 2023-10-25 15:00:00}|[76.32, 81.87, 75.85, 65.35, 71.16, 74.88]                                                  |-1.4399999999999977|\n",
      "|APA |{2023-10-25 10:00:00, 2023-10-25 15:00:00}|[85.82, 81.94, 83.0, 92.86, 101.42, 102.29, 95.17, 72.89, 61.93, 48.69, 46.31, 39.78, 57.61]|-28.209999999999994|\n",
      "|KSS |{2023-10-25 10:00:00, 2023-10-25 15:00:00}|[46.47, 53.11, 60.0, 57.8, 63.73, 36.46]                                                    |-10.009999999999998|\n",
      "|CMI |{2023-10-25 10:00:00, 2023-10-25 15:00:00}|[119.79, 132.34, 137.9, 143.3099, 142.79, 117.05, 116.0]                                    |-3.7900000000000063|\n",
      "|MAT |{2023-10-25 10:00:00, 2023-10-25 15:00:00}|[44.98, 45.71, 38.53, 38.03, 38.44, 34.3, 27.22, 27.04, 26.6, 23.22, 22.62, 31.33]          |-13.649999999999999|\n",
      "|VIAB|{2023-10-25 10:00:00, 2023-10-25 15:00:00}|[80.09, 82.33, 79.84, 86.08, 81.99, 41.1, 44.14]                                            |-35.95             |\n",
      "|TROW|{2023-10-25 10:00:00, 2023-10-25 15:00:00}|[78.21, 78.3, 75.08]                                                                        |-3.1299999999999955|\n",
      "|NWSA|{2023-10-25 10:00:00, 2023-10-25 15:00:00}|[15.84, 16.16, 18.05, 17.6, 12.82, 10.88, 12.79]                                            |-3.0500000000000007|\n",
      "+----+------------------------------------------+--------------------------------------------------------------------------------------------+-------------------+\n",
      "\n"
     ]
    },
    {
     "name": "stderr",
     "output_type": "stream",
     "text": [
      "[Stage 79:================================>                    (122 + 12) / 200]\r"
     ]
    }
   ],
   "source": [
    "from pyspark.sql.functions import window, col\n",
    "from pyspark.sql.functions import udf\n",
    "from pyspark.sql.types import DoubleType\n",
    "\n",
    "# Define the window and watermark duration\n",
    "window_duration = \"5 hours\"\n",
    "watermark_duration = \"1 hour\"\n",
    "\n",
    "# Apply windowing and watermarking to the DataFrame\n",
    "windowedStocks = df \\\n",
    "    .withWatermark(\"timestamp\", watermark_duration) \\\n",
    "    .groupBy(\n",
    "        window(col(\"timestamp\"), window_duration),\n",
    "        col(\"name\")\n",
    "    ) \\\n",
    "    .agg(\n",
    "        {\"price\": \"collect_list\"}  # Collects all prices in the window into a list\n",
    "    ) \\\n",
    "    .select(\n",
    "        col(\"name\"),\n",
    "        col(\"window\"),\n",
    "        col(\"collect_list(price)\").alias(\"prices\")\n",
    "    )\n",
    "\n",
    "def price_diff(prices):\n",
    "    if len(prices) > 1:\n",
    "        return prices[-1] - prices[0]  # Assuming the prices are in chronological order\n",
    "    else:\n",
    "        return 0.0\n",
    "\n",
    "price_diff_udf = udf(price_diff, DoubleType())\n",
    "\n",
    "# Apply the UDF to calculate the price difference\n",
    "stocksPriceDiff = windowedStocks.withColumn(\"price_diff\", price_diff_udf(col(\"prices\")))\n",
    "\n",
    "# Filter the stocks that lost value\n",
    "stocksLostValue = stocksPriceDiff.filter(col(\"price_diff\") < 0)\n",
    "\n",
    "# Output the result to a console sink\n",
    "query = stocksLostValue \\\n",
    "    .writeStream \\\n",
    "    .outputMode(\"update\") \\\n",
    "    .format(\"console\") \\\n",
    "    .option(\"truncate\", False) \\\n",
    "    .start()\n",
    "\n",
    "query.awaitTermination()"
   ]
  },
  {
   "cell_type": "markdown",
   "id": "d3e4ecd2",
   "metadata": {},
   "source": [
    "## 3. Select the stock that gained the most (between windows)"
   ]
  },
  {
   "cell_type": "code",
   "execution_count": 2,
   "id": "4ff3ed09",
   "metadata": {},
   "outputs": [],
   "source": [
    "# 3. M1:"
   ]
  },
  {
   "cell_type": "code",
   "execution_count": null,
   "id": "33f23a5e",
   "metadata": {
    "scrolled": true
   },
   "outputs": [
    {
     "name": "stderr",
     "output_type": "stream",
     "text": [
      "23/11/06 20:06:51 WARN ResolveWriteToStream: Temporary checkpoint location created which is deleted normally when the query didn't fail: /tmp/temporary-f1dd9d64-1c11-43e1-a5ad-dc8d6c589dd9. If it's required to delete it under any circumstances, please set spark.sql.streaming.forceDeleteTempCheckpointLocation to true. Important to know deleting temp checkpoint folder is best effort.\n",
      "23/11/06 20:06:51 WARN ResolveWriteToStream: spark.sql.adaptive.enabled is not supported in streaming DataFrames/Datasets and will be disabled.\n",
      "                                                                                \r"
     ]
    },
    {
     "name": "stdout",
     "output_type": "stream",
     "text": [
      "+----+------+---------------+-----+---------------+----------+\n",
      "|name|window|previous_window|value|prev_last_value|value_diff|\n",
      "+----+------+---------------+-----+---------------+----------+\n",
      "+----+------+---------------+-----+---------------+----------+\n",
      "\n"
     ]
    },
    {
     "name": "stderr",
     "output_type": "stream",
     "text": [
      "                                                                                \r"
     ]
    },
    {
     "name": "stdout",
     "output_type": "stream",
     "text": [
      "+----+------------------------------------------+------------------------------------------+-----+---------------+------------------+\n",
      "|name|window                                    |previous_window                           |value|prev_last_value|value_diff        |\n",
      "+----+------------------------------------------+------------------------------------------+-----+---------------+------------------+\n",
      "|MNST|{2023-10-25 10:12:00, 2023-10-25 10:13:00}|{2023-10-25 10:11:00, 2023-10-25 10:12:00}|18.98|15.8933        |3.0867000000000004|\n",
      "+----+------------------------------------------+------------------------------------------+-----+---------------+------------------+\n",
      "\n"
     ]
    },
    {
     "name": "stderr",
     "output_type": "stream",
     "text": [
      "                                                                                \r"
     ]
    },
    {
     "name": "stdout",
     "output_type": "stream",
     "text": [
      "+----+------------------------------------------+------------------------------------------+--------+---------------+------------------+\n",
      "|name|window                                    |previous_window                           |value   |prev_last_value|value_diff        |\n",
      "+----+------------------------------------------+------------------------------------------+--------+---------------+------------------+\n",
      "|WAT |{2023-10-25 10:13:00, 2023-10-25 10:14:00}|{2023-10-25 10:12:00, 2023-10-25 10:13:00}|98.99   |88.89          |10.099999999999994|\n",
      "|ISRG|{2023-10-25 10:13:00, 2023-10-25 10:14:00}|{2023-10-25 10:12:00, 2023-10-25 10:13:00}|168.1665|160.6632       |7.503300000000024 |\n",
      "|STI |{2023-10-25 10:13:00, 2023-10-25 10:14:00}|{2023-10-25 10:12:00, 2023-10-25 10:13:00}|31.3    |28.29          |3.0100000000000016|\n",
      "|DG  |{2023-10-25 10:13:00, 2023-10-25 10:14:00}|{2023-10-25 10:12:00, 2023-10-25 10:13:00}|53.69   |52.735         |0.9549999999999983|\n",
      "+----+------------------------------------------+------------------------------------------+--------+---------------+------------------+\n",
      "\n"
     ]
    },
    {
     "name": "stderr",
     "output_type": "stream",
     "text": [
      "                                                                                \r"
     ]
    },
    {
     "name": "stdout",
     "output_type": "stream",
     "text": [
      "+----+------+---------------+-----+---------------+----------+\n",
      "|name|window|previous_window|value|prev_last_value|value_diff|\n",
      "+----+------+---------------+-----+---------------+----------+\n",
      "+----+------+---------------+-----+---------------+----------+\n",
      "\n"
     ]
    },
    {
     "name": "stderr",
     "output_type": "stream",
     "text": [
      "                                                                                \r"
     ]
    },
    {
     "name": "stdout",
     "output_type": "stream",
     "text": [
      "+----+------------------------------------------+------------------------------------------+-------+---------------+-------------------+\n",
      "|name|window                                    |previous_window                           |value  |prev_last_value|value_diff         |\n",
      "+----+------------------------------------------+------------------------------------------+-------+---------------+-------------------+\n",
      "|PSA |{2023-10-25 10:15:00, 2023-10-25 10:16:00}|{2023-10-25 10:14:00, 2023-10-25 10:15:00}|160.208|148.65         |11.557999999999993 |\n",
      "|CLX |{2023-10-25 10:15:00, 2023-10-25 10:16:00}|{2023-10-25 10:14:00, 2023-10-25 10:15:00}|86.39  |83.56          |2.8299999999999983 |\n",
      "|NEE |{2023-10-25 10:15:00, 2023-10-25 10:16:00}|{2023-10-25 10:14:00, 2023-10-25 10:15:00}|84.14  |81.78          |2.3599999999999994 |\n",
      "|LB  |{2023-10-25 10:15:00, 2023-10-25 10:16:00}|{2023-10-25 10:14:00, 2023-10-25 10:15:00}|50.6   |50.08          |0.5200000000000031 |\n",
      "|SYK |{2023-10-25 10:15:00, 2023-10-25 10:16:00}|{2023-10-25 10:14:00, 2023-10-25 10:15:00}|68.28  |67.9           |0.37999999999999545|\n",
      "+----+------------------------------------------+------------------------------------------+-------+---------------+-------------------+\n",
      "\n"
     ]
    },
    {
     "name": "stderr",
     "output_type": "stream",
     "text": [
      "                                                                                \r"
     ]
    },
    {
     "name": "stdout",
     "output_type": "stream",
     "text": [
      "+----+------+---------------+-----+---------------+----------+\n",
      "|name|window|previous_window|value|prev_last_value|value_diff|\n",
      "+----+------+---------------+-----+---------------+----------+\n",
      "+----+------+---------------+-----+---------------+----------+\n",
      "\n"
     ]
    },
    {
     "name": "stderr",
     "output_type": "stream",
     "text": [
      "                                                                                \r"
     ]
    },
    {
     "name": "stdout",
     "output_type": "stream",
     "text": [
      "+----+------+---------------+-----+---------------+----------+\n",
      "|name|window|previous_window|value|prev_last_value|value_diff|\n",
      "+----+------+---------------+-----+---------------+----------+\n",
      "+----+------+---------------+-----+---------------+----------+\n",
      "\n"
     ]
    },
    {
     "name": "stderr",
     "output_type": "stream",
     "text": [
      "                                                                                \r"
     ]
    },
    {
     "name": "stdout",
     "output_type": "stream",
     "text": [
      "+----+------------------------------------------+------------------------------------------+-----+---------------+------------------+\n",
      "|name|window                                    |previous_window                           |value|prev_last_value|value_diff        |\n",
      "+----+------------------------------------------+------------------------------------------+-----+---------------+------------------+\n",
      "|HCN |{2023-10-25 10:17:00, 2023-10-25 10:18:00}|{2023-10-25 10:16:00, 2023-10-25 10:17:00}|63.96|63.3           |0.6600000000000037|\n",
      "+----+------------------------------------------+------------------------------------------+-----+---------------+------------------+\n",
      "\n"
     ]
    },
    {
     "name": "stderr",
     "output_type": "stream",
     "text": [
      "                                                                                \r"
     ]
    },
    {
     "name": "stdout",
     "output_type": "stream",
     "text": [
      "+----+------------------------------------------+------------------------------------------+------+---------------+-----------------+\n",
      "|name|window                                    |previous_window                           |value |prev_last_value|value_diff       |\n",
      "+----+------------------------------------------+------------------------------------------+------+---------------+-----------------+\n",
      "|ADBE|{2023-10-25 10:18:00, 2023-10-25 10:19:00}|{2023-10-25 10:17:00, 2023-10-25 10:18:00}|54.675|52.31          |2.364999999999995|\n",
      "+----+------------------------------------------+------------------------------------------+------+---------------+-----------------+\n",
      "\n"
     ]
    },
    {
     "name": "stderr",
     "output_type": "stream",
     "text": [
      "                                                                                \r"
     ]
    },
    {
     "name": "stdout",
     "output_type": "stream",
     "text": [
      "+----+------------------------------------------+------------------------------------------+------+---------------+-------------------+\n",
      "|name|window                                    |previous_window                           |value |prev_last_value|value_diff         |\n",
      "+----+------------------------------------------+------------------------------------------+------+---------------+-------------------+\n",
      "|XEC |{2023-10-25 10:19:00, 2023-10-25 10:20:00}|{2023-10-25 10:18:00, 2023-10-25 10:19:00}|98.46 |96.9           |1.559999999999988  |\n",
      "|CVS |{2023-10-25 10:19:00, 2023-10-25 10:20:00}|{2023-10-25 10:18:00, 2023-10-25 10:19:00}|66.66 |66.1793        |0.4806999999999988 |\n",
      "|CAG |{2023-10-25 10:19:00, 2023-10-25 10:20:00}|{2023-10-25 10:18:00, 2023-10-25 10:19:00}|33.09 |32.84          |0.25               |\n",
      "|KR  |{2023-10-25 10:19:00, 2023-10-25 10:20:00}|{2023-10-25 10:18:00, 2023-10-25 10:19:00}|21.125|21.03          |0.09499999999999886|\n",
      "|EMR |{2023-10-25 10:19:00, 2023-10-25 10:20:00}|{2023-10-25 10:18:00, 2023-10-25 10:19:00}|67.53 |67.49          |0.04000000000000625|\n",
      "+----+------------------------------------------+------------------------------------------+------+---------------+-------------------+\n",
      "\n"
     ]
    },
    {
     "name": "stderr",
     "output_type": "stream",
     "text": [
      "                                                                                \r"
     ]
    },
    {
     "name": "stdout",
     "output_type": "stream",
     "text": [
      "+----+------+---------------+-----+---------------+----------+\n",
      "|name|window|previous_window|value|prev_last_value|value_diff|\n",
      "+----+------+---------------+-----+---------------+----------+\n",
      "+----+------+---------------+-----+---------------+----------+\n",
      "\n"
     ]
    },
    {
     "name": "stderr",
     "output_type": "stream",
     "text": [
      "                                                                                \r"
     ]
    },
    {
     "name": "stdout",
     "output_type": "stream",
     "text": [
      "+----+------------------------------------------+------------------------------------------+-----+---------------+-------------------+\n",
      "|name|window                                    |previous_window                           |value|prev_last_value|value_diff         |\n",
      "+----+------------------------------------------+------------------------------------------+-----+---------------+-------------------+\n",
      "|A   |{2023-10-25 10:21:00, 2023-10-25 10:22:00}|{2023-10-25 10:20:00, 2023-10-25 10:21:00}|60.38|57.88          |2.5                |\n",
      "|FISV|{2023-10-25 10:21:00, 2023-10-25 10:22:00}|{2023-10-25 10:20:00, 2023-10-25 10:21:00}|56.31|55.0           |1.3100000000000023 |\n",
      "|IRM |{2023-10-25 10:21:00, 2023-10-25 10:22:00}|{2023-10-25 10:20:00, 2023-10-25 10:21:00}|28.09|27.34          |0.75               |\n",
      "|PM  |{2023-10-25 10:21:00, 2023-10-25 10:22:00}|{2023-10-25 10:20:00, 2023-10-25 10:21:00}|79.5 |78.95          |0.5499999999999972 |\n",
      "|IR  |{2023-10-25 10:21:00, 2023-10-25 10:22:00}|{2023-10-25 10:20:00, 2023-10-25 10:21:00}|59.54|59.08          |0.46000000000000085|\n",
      "+----+------------------------------------------+------------------------------------------+-----+---------------+-------------------+\n",
      "\n"
     ]
    },
    {
     "name": "stderr",
     "output_type": "stream",
     "text": [
      "                                                                                \r"
     ]
    },
    {
     "name": "stdout",
     "output_type": "stream",
     "text": [
      "+----+------+---------------+-----+---------------+----------+\n",
      "|name|window|previous_window|value|prev_last_value|value_diff|\n",
      "+----+------+---------------+-----+---------------+----------+\n",
      "+----+------+---------------+-----+---------------+----------+\n",
      "\n"
     ]
    },
    {
     "name": "stderr",
     "output_type": "stream",
     "text": [
      "                                                                                \r"
     ]
    },
    {
     "name": "stdout",
     "output_type": "stream",
     "text": [
      "+----+------------------------------------------+------------------------------------------+-----+---------------+-----------------+\n",
      "|name|window                                    |previous_window                           |value|prev_last_value|value_diff       |\n",
      "+----+------------------------------------------+------------------------------------------+-----+---------------+-----------------+\n",
      "|WDC |{2023-10-25 10:22:00, 2023-10-25 10:23:00}|{2023-10-25 10:21:00, 2023-10-25 10:22:00}|91.5 |86.3           |5.200000000000003|\n",
      "+----+------------------------------------------+------------------------------------------+-----+---------------+-----------------+\n",
      "\n"
     ]
    },
    {
     "name": "stderr",
     "output_type": "stream",
     "text": [
      "                                                                                \r"
     ]
    },
    {
     "name": "stdout",
     "output_type": "stream",
     "text": [
      "+----+------------------------------------------+------------------------------------------+-----+---------------+------------------+\n",
      "|name|window                                    |previous_window                           |value|prev_last_value|value_diff        |\n",
      "+----+------------------------------------------+------------------------------------------+-----+---------------+------------------+\n",
      "|DLR |{2023-10-25 10:23:00, 2023-10-25 10:24:00}|{2023-10-25 10:22:00, 2023-10-25 10:23:00}|56.45|54.15          |2.3000000000000043|\n",
      "+----+------------------------------------------+------------------------------------------+-----+---------------+------------------+\n",
      "\n"
     ]
    },
    {
     "name": "stderr",
     "output_type": "stream",
     "text": [
      "                                                                                \r"
     ]
    },
    {
     "name": "stdout",
     "output_type": "stream",
     "text": [
      "+----+------------------------------------------+------------------------------------------+------+---------------+------------------+\n",
      "|name|window                                    |previous_window                           |value |prev_last_value|value_diff        |\n",
      "+----+------------------------------------------+------------------------------------------+------+---------------+------------------+\n",
      "|ALLE|{2023-10-25 10:24:00, 2023-10-25 10:25:00}|{2023-10-25 10:23:00, 2023-10-25 10:24:00}|56.81 |51.84          |4.969999999999999 |\n",
      "|IVZ |{2023-10-25 10:24:00, 2023-10-25 10:25:00}|{2023-10-25 10:23:00, 2023-10-25 10:24:00}|37.96 |35.44          |2.520000000000003 |\n",
      "|CHRW|{2023-10-25 10:24:00, 2023-10-25 10:25:00}|{2023-10-25 10:23:00, 2023-10-25 10:24:00}|61.37 |59.35          |2.019999999999996 |\n",
      "|PWR |{2023-10-25 10:24:00, 2023-10-25 10:25:00}|{2023-10-25 10:23:00, 2023-10-25 10:24:00}|34.425|33.22          |1.2049999999999983|\n",
      "|PVH |{2023-10-25 10:24:00, 2023-10-25 10:25:00}|{2023-10-25 10:23:00, 2023-10-25 10:24:00}|132.34|131.5499       |0.7900999999999954|\n",
      "+----+------------------------------------------+------------------------------------------+------+---------------+------------------+\n",
      "\n"
     ]
    }
   ],
   "source": [
    "from pyspark.sql.functions import window, col, last, lag\n",
    "from pyspark.sql.window import Window\n",
    "from pyspark.sql import DataFrame\n",
    "\n",
    "# Function to process each micro-batch\n",
    "def process_batch(df: DataFrame, epoch_id):\n",
    "    # Define the window specification with partitioning by name and ordering by window\n",
    "    w = Window.partitionBy(\"name\").orderBy(\"window\")\n",
    "\n",
    "    # Add new columns with the lagged or previous window last value\n",
    "    df_with_lag = df.withColumn(\"prev_last_value\", lag(\"value\").over(w)) \\\n",
    "                    .withColumn(\"previous_window\", lag(col(\"window\")).over(w))\n",
    "\n",
    "    # Calculate the difference between the current last value and the previous last value\n",
    "    df_with_diff = df_with_lag.withColumn(\"value_diff\", col(\"value\") - col(\"prev_last_value\"))\n",
    "\n",
    "    # Filter for stocks that have gained value\n",
    "    stocks_gained_value = df_with_diff.filter(col(\"value_diff\") > 0)\n",
    "\n",
    "    # Select columns in the specified order and order by the difference in descending order\n",
    "    final_df = stocks_gained_value.select(\n",
    "        \"name\",\n",
    "        \"window\",\n",
    "        \"previous_window\",\n",
    "        \"value\",\n",
    "        \"prev_last_value\",\n",
    "        \"value_diff\"\n",
    "    ).orderBy(col(\"value_diff\").desc())\n",
    "\n",
    "    # Optionally, limit to top N stocks that gained the most\n",
    "    top_gainers = final_df.limit(10)\n",
    "\n",
    "    # Write the full lines to the console without truncating\n",
    "    top_gainers.write.format(\"console\").option(\"truncate\", False).save()\n",
    "\n",
    "# Define the window duration\n",
    "window_duration = \"1 minute\"\n",
    "\n",
    "# Group the data by window and stock name, and get the last value in each window\n",
    "windowedLast = df \\\n",
    "    .withWatermark(\"timestamp\", \"2 minutes\") \\\n",
    "    .groupBy(window(col(\"timestamp\"), window_duration), col(\"name\")) \\\n",
    "    .agg(last(col(\"price\")).alias(\"value\"))  # Use last value instead of avg\n",
    "\n",
    "# Use foreachBatch to apply the custom logic to each micro-batch\n",
    "query = windowedLast \\\n",
    "    .writeStream \\\n",
    "    .outputMode(\"update\") \\\n",
    "    .foreachBatch(process_batch) \\\n",
    "    .start()\n",
    "\n",
    "query.awaitTermination()\n",
    "\n",
    "# note that the result is based on the task in the assignment pdf, i show all the stock that gained value, and renk them, so the first is the stock that gained the most value"
   ]
  },
  {
   "cell_type": "code",
   "execution_count": 1,
   "id": "679bd9bc",
   "metadata": {},
   "outputs": [],
   "source": [
    "# 3. M2:"
   ]
  },
  {
   "cell_type": "code",
   "execution_count": null,
   "id": "fb48ab86",
   "metadata": {
    "scrolled": true
   },
   "outputs": [
    {
     "name": "stderr",
     "output_type": "stream",
     "text": [
      "23/11/06 20:10:00 WARN ResolveWriteToStream: Temporary checkpoint location created which is deleted normally when the query didn't fail: /tmp/temporary-0dbebbda-79b6-404f-9f10-1b433adad859. If it's required to delete it under any circumstances, please set spark.sql.streaming.forceDeleteTempCheckpointLocation to true. Important to know deleting temp checkpoint folder is best effort.\n",
      "23/11/06 20:10:00 WARN ResolveWriteToStream: spark.sql.adaptive.enabled is not supported in streaming DataFrames/Datasets and will be disabled.\n",
      "                                                                                \r"
     ]
    },
    {
     "name": "stdout",
     "output_type": "stream",
     "text": [
      "-------------------------------------------\n",
      "Batch: 0\n",
      "-------------------------------------------\n",
      "+----+------------------------------------------+----------------+------------------+\n",
      "|name|window                                    |prices          |price_diff        |\n",
      "+----+------------------------------------------+----------------+------------------+\n",
      "|PXD |{2023-10-25 10:00:00, 2023-10-25 15:00:00}|[124.69, 128.0] |3.3100000000000023|\n",
      "|FISV|{2023-10-25 10:00:00, 2023-10-25 15:00:00}|[40.795, 42.385]|1.5899999999999963|\n",
      "|AIZ |{2023-10-25 10:00:00, 2023-10-25 15:00:00}|[42.13, 42.76]  |0.6299999999999955|\n",
      "|IT  |{2023-10-25 10:00:00, 2023-10-25 15:00:00}|[48.93, 49.27]  |0.3400000000000034|\n",
      "|AZO |{2023-10-25 10:00:00, 2023-10-25 15:00:00}|[384.01]        |0.0               |\n",
      "|HCP |{2023-10-25 10:00:00, 2023-10-25 15:00:00}|[47.08]         |0.0               |\n",
      "|SYY |{2023-10-25 10:00:00, 2023-10-25 15:00:00}|[32.21]         |0.0               |\n",
      "|ARE |{2023-10-25 10:00:00, 2023-10-25 15:00:00}|[71.155]        |0.0               |\n",
      "|CL  |{2023-10-25 10:00:00, 2023-10-25 15:00:00}|[54.165]        |0.0               |\n",
      "|PNR |{2023-10-25 10:00:00, 2023-10-25 15:00:00}|[51.33]         |0.0               |\n",
      "|VRTX|{2023-10-25 10:00:00, 2023-10-25 15:00:00}|[46.46]         |0.0               |\n",
      "|PPG |{2023-10-25 10:00:00, 2023-10-25 15:00:00}|[69.885]        |0.0               |\n",
      "|ETN |{2023-10-25 10:00:00, 2023-10-25 15:00:00}|[63.29]         |0.0               |\n",
      "|FB  |{2023-10-25 10:00:00, 2023-10-25 15:00:00}|[27.64]         |0.0               |\n",
      "|DTE |{2023-10-25 10:00:00, 2023-10-25 15:00:00}|[64.56]         |0.0               |\n",
      "|PNW |{2023-10-25 10:00:00, 2023-10-25 15:00:00}|[54.63]         |0.0               |\n",
      "|NVDA|{2023-10-25 10:00:00, 2023-10-25 15:00:00}|[12.75]         |0.0               |\n",
      "|MDLZ|{2023-10-25 10:00:00, 2023-10-25 15:00:00}|[27.67]         |0.0               |\n",
      "|CBS |{2023-10-25 10:00:00, 2023-10-25 15:00:00}|[45.18]         |0.0               |\n",
      "|DHR |{2023-10-25 10:00:00, 2023-10-25 15:00:00}|[61.46]         |0.0               |\n",
      "+----+------------------------------------------+----------------+------------------+\n",
      "only showing top 20 rows\n",
      "\n"
     ]
    },
    {
     "name": "stderr",
     "output_type": "stream",
     "text": [
      "                                                                                \r"
     ]
    },
    {
     "name": "stdout",
     "output_type": "stream",
     "text": [
      "-------------------------------------------\n",
      "Batch: 1\n",
      "-------------------------------------------\n",
      "+----+------------------------------------------+----------------------+-------------------+\n",
      "|name|window                                    |prices                |price_diff         |\n",
      "+----+------------------------------------------+----------------------+-------------------+\n",
      "|ADBE|{2023-10-25 10:00:00, 2023-10-25 15:00:00}|[39.15, 45.17]        |6.020000000000003  |\n",
      "|TGT |{2023-10-25 10:00:00, 2023-10-25 15:00:00}|[63.21, 68.83]        |5.619999999999997  |\n",
      "|YUM |{2023-10-25 10:00:00, 2023-10-25 15:00:00}|[64.536, 69.9]        |5.364000000000004  |\n",
      "|UHS |{2023-10-25 10:00:00, 2023-10-25 15:00:00}|[57.52, 62.59]        |5.07               |\n",
      "|PXD |{2023-10-25 10:00:00, 2023-10-25 15:00:00}|[124.69, 128.0]       |3.3100000000000023 |\n",
      "|MNST|{2023-10-25 10:00:00, 2023-10-25 15:00:00}|[15.8933, 18.98]      |3.0867000000000004 |\n",
      "|MDLZ|{2023-10-25 10:00:00, 2023-10-25 15:00:00}|[27.67, 30.58]        |2.9099999999999966 |\n",
      "|BAX |{2023-10-25 10:00:00, 2023-10-25 15:00:00}|[67.3899, 69.95]      |2.5601000000000056 |\n",
      "|FISV|{2023-10-25 10:00:00, 2023-10-25 15:00:00}|[40.795, 42.385, 43.2]|2.405000000000001  |\n",
      "|COG |{2023-10-25 10:00:00, 2023-10-25 15:00:00}|[31.31, 33.605]       |2.294999999999998  |\n",
      "|MPC |{2023-10-25 10:00:00, 2023-10-25 15:00:00}|[42.505, 44.735]      |2.229999999999997  |\n",
      "|VFC |{2023-10-25 10:00:00, 2023-10-25 15:00:00}|[38.1929, 40.3595]    |2.1665999999999954 |\n",
      "|CXO |{2023-10-25 10:00:00, 2023-10-25 15:00:00}|[91.17, 92.59]        |1.4200000000000017 |\n",
      "|AIZ |{2023-10-25 10:00:00, 2023-10-25 15:00:00}|[42.13, 42.76]        |0.6299999999999955 |\n",
      "|ADM |{2023-10-25 10:00:00, 2023-10-25 15:00:00}|[32.46, 32.82]        |0.35999999999999943|\n",
      "|IT  |{2023-10-25 10:00:00, 2023-10-25 15:00:00}|[48.93, 49.27]        |0.3400000000000034 |\n",
      "|VRSK|{2023-10-25 10:00:00, 2023-10-25 15:00:00}|[61.64, 61.85]        |0.21000000000000085|\n",
      "|AZO |{2023-10-25 10:00:00, 2023-10-25 15:00:00}|[384.01]              |0.0                |\n",
      "|HCP |{2023-10-25 10:00:00, 2023-10-25 15:00:00}|[47.08]               |0.0                |\n",
      "|SYY |{2023-10-25 10:00:00, 2023-10-25 15:00:00}|[32.21]               |0.0                |\n",
      "+----+------------------------------------------+----------------------+-------------------+\n",
      "only showing top 20 rows\n",
      "\n"
     ]
    },
    {
     "name": "stderr",
     "output_type": "stream",
     "text": [
      "                                                                                \r"
     ]
    },
    {
     "name": "stdout",
     "output_type": "stream",
     "text": [
      "-------------------------------------------\n",
      "Batch: 2\n",
      "-------------------------------------------\n",
      "+----+------------------------------------------+----------------------+------------------+\n",
      "|name|window                                    |prices                |price_diff        |\n",
      "+----+------------------------------------------+----------------------+------------------+\n",
      "|VRTX|{2023-10-25 10:00:00, 2023-10-25 15:00:00}|[46.46, 77.39]        |30.93             |\n",
      "|GWW |{2023-10-25 10:00:00, 2023-10-25 15:00:00}|[228.67, 254.0]       |25.330000000000013|\n",
      "|MCO |{2023-10-25 10:00:00, 2023-10-25 15:00:00}|[48.96, 64.36]        |15.399999999999999|\n",
      "|KMB |{2023-10-25 10:00:00, 2023-10-25 15:00:00}|[90.08, 104.92]       |14.840000000000003|\n",
      "|CMG |{2023-10-25 10:00:00, 2023-10-25 15:00:00}|[367.0, 378.4]        |11.399999999999977|\n",
      "|FRT |{2023-10-25 10:00:00, 2023-10-25 15:00:00}|[106.58, 116.94]      |10.36             |\n",
      "|WAT |{2023-10-25 10:00:00, 2023-10-25 15:00:00}|[88.89, 98.99]        |10.099999999999994|\n",
      "|GS  |{2023-10-25 10:00:00, 2023-10-25 15:00:00}|[145.83, 154.94]      |9.109999999999985 |\n",
      "|SIG |{2023-10-25 10:00:00, 2023-10-25 15:00:00}|[62.35, 70.05]        |7.699999999999996 |\n",
      "|HCP |{2023-10-25 10:00:00, 2023-10-25 15:00:00}|[47.08, 53.71]        |6.630000000000003 |\n",
      "|CL  |{2023-10-25 10:00:00, 2023-10-25 15:00:00}|[54.165, 60.49]       |6.325000000000003 |\n",
      "|ADP |{2023-10-25 10:00:00, 2023-10-25 15:00:00}|[61.715, 66.95, 67.74]|6.0249999999999915|\n",
      "|ADBE|{2023-10-25 10:00:00, 2023-10-25 15:00:00}|[39.15, 45.17]        |6.020000000000003 |\n",
      "|YUM |{2023-10-25 10:00:00, 2023-10-25 15:00:00}|[64.536, 69.9, 70.36] |5.823999999999998 |\n",
      "|TGT |{2023-10-25 10:00:00, 2023-10-25 15:00:00}|[63.21, 68.83]        |5.619999999999997 |\n",
      "|DISH|{2023-10-25 10:00:00, 2023-10-25 15:00:00}|[35.4, 40.95]         |5.550000000000004 |\n",
      "|UHS |{2023-10-25 10:00:00, 2023-10-25 15:00:00}|[57.52, 62.59]        |5.07              |\n",
      "|OXY |{2023-10-25 10:00:00, 2023-10-25 15:00:00}|[81.94, 86.93]        |4.990000000000009 |\n",
      "|EXR |{2023-10-25 10:00:00, 2023-10-25 15:00:00}|[40.24, 44.41]        |4.169999999999995 |\n",
      "|TEL |{2023-10-25 10:00:00, 2023-10-25 15:00:00}|[41.17, 44.96]        |3.789999999999999 |\n",
      "+----+------------------------------------------+----------------------+------------------+\n",
      "only showing top 20 rows\n",
      "\n"
     ]
    },
    {
     "name": "stderr",
     "output_type": "stream",
     "text": [
      "                                                                                \r"
     ]
    },
    {
     "name": "stdout",
     "output_type": "stream",
     "text": [
      "-------------------------------------------\n",
      "Batch: 3\n",
      "-------------------------------------------\n",
      "+----+------------------------------------------+----------------------------+------------------+\n",
      "|name|window                                    |prices                      |price_diff        |\n",
      "+----+------------------------------------------+----------------------------+------------------+\n",
      "|GWW |{2023-10-25 10:00:00, 2023-10-25 15:00:00}|[228.67, 254.0, 261.34]     |32.66999999999999 |\n",
      "|VRTX|{2023-10-25 10:00:00, 2023-10-25 15:00:00}|[46.46, 77.39]              |30.93             |\n",
      "|GS  |{2023-10-25 10:00:00, 2023-10-25 15:00:00}|[145.83, 154.94, 168.2]     |22.369999999999976|\n",
      "|KMB |{2023-10-25 10:00:00, 2023-10-25 15:00:00}|[90.08, 104.92]             |14.840000000000003|\n",
      "|MCO |{2023-10-25 10:00:00, 2023-10-25 15:00:00}|[48.96, 64.36, 62.93]       |13.969999999999999|\n",
      "|CMG |{2023-10-25 10:00:00, 2023-10-25 15:00:00}|[367.0, 378.4]              |11.399999999999977|\n",
      "|FRT |{2023-10-25 10:00:00, 2023-10-25 15:00:00}|[106.58, 116.94]            |10.36             |\n",
      "|WAT |{2023-10-25 10:00:00, 2023-10-25 15:00:00}|[88.89, 98.99]              |10.099999999999994|\n",
      "|IT  |{2023-10-25 10:00:00, 2023-10-25 15:00:00}|[48.93, 49.27, 58.2]        |9.270000000000003 |\n",
      "|AIZ |{2023-10-25 10:00:00, 2023-10-25 15:00:00}|[42.13, 42.76, 50.31]       |8.18              |\n",
      "|PKG |{2023-10-25 10:00:00, 2023-10-25 15:00:00}|[41.33, 49.48]              |8.149999999999999 |\n",
      "|IFF |{2023-10-25 10:00:00, 2023-10-25 15:00:00}|[75.92, 82.7]               |6.780000000000001 |\n",
      "|SIG |{2023-10-25 10:00:00, 2023-10-25 15:00:00}|[62.35, 70.05, 71.85, 69.01]|6.660000000000004 |\n",
      "|HCP |{2023-10-25 10:00:00, 2023-10-25 15:00:00}|[47.08, 53.71]              |6.630000000000003 |\n",
      "|ADP |{2023-10-25 10:00:00, 2023-10-25 15:00:00}|[61.715, 66.95, 67.74]      |6.0249999999999915|\n",
      "|ADBE|{2023-10-25 10:00:00, 2023-10-25 15:00:00}|[39.15, 45.17]              |6.020000000000003 |\n",
      "|YUM |{2023-10-25 10:00:00, 2023-10-25 15:00:00}|[64.536, 69.9, 70.36]       |5.823999999999998 |\n",
      "|TGT |{2023-10-25 10:00:00, 2023-10-25 15:00:00}|[63.21, 68.83]              |5.619999999999997 |\n",
      "|DISH|{2023-10-25 10:00:00, 2023-10-25 15:00:00}|[35.4, 40.95]               |5.550000000000004 |\n",
      "|GM  |{2023-10-25 10:00:00, 2023-10-25 15:00:00}|[27.57, 33.11]              |5.539999999999999 |\n",
      "+----+------------------------------------------+----------------------------+------------------+\n",
      "only showing top 20 rows\n",
      "\n"
     ]
    },
    {
     "name": "stderr",
     "output_type": "stream",
     "text": [
      "                                                                                \r"
     ]
    },
    {
     "name": "stdout",
     "output_type": "stream",
     "text": [
      "-------------------------------------------\n",
      "Batch: 4\n",
      "-------------------------------------------\n",
      "+----+------------------------------------------+-----------------------------------+------------------+\n",
      "|name|window                                    |prices                             |price_diff        |\n",
      "+----+------------------------------------------+-----------------------------------+------------------+\n",
      "|GWW |{2023-10-25 10:00:00, 2023-10-25 15:00:00}|[228.67, 254.0, 261.34]            |32.66999999999999 |\n",
      "|VRTX|{2023-10-25 10:00:00, 2023-10-25 15:00:00}|[46.46, 77.39]                     |30.93             |\n",
      "|AGN |{2023-10-25 10:00:00, 2023-10-25 15:00:00}|[93.13, 122.38]                    |29.25             |\n",
      "|KMB |{2023-10-25 10:00:00, 2023-10-25 15:00:00}|[90.08, 104.92]                    |14.840000000000003|\n",
      "|MCO |{2023-10-25 10:00:00, 2023-10-25 15:00:00}|[48.96, 64.36, 62.93]              |13.969999999999999|\n",
      "|EQT |{2023-10-25 10:00:00, 2023-10-25 15:00:00}|[67.3, 81.26]                      |13.960000000000008|\n",
      "|UHS |{2023-10-25 10:00:00, 2023-10-25 15:00:00}|[57.52, 62.59, 70.59]              |13.07             |\n",
      "|MTB |{2023-10-25 10:00:00, 2023-10-25 15:00:00}|[104.87, 117.12]                   |12.25             |\n",
      "|PSA |{2023-10-25 10:00:00, 2023-10-25 15:00:00}|[148.65, 160.208]                  |11.557999999999993|\n",
      "|CMG |{2023-10-25 10:00:00, 2023-10-25 15:00:00}|[367.0, 378.4]                     |11.399999999999977|\n",
      "|CBOE|{2023-10-25 10:00:00, 2023-10-25 15:00:00}|[36.6, 47.96]                      |11.36             |\n",
      "|FRT |{2023-10-25 10:00:00, 2023-10-25 15:00:00}|[106.58, 116.94]                   |10.36             |\n",
      "|WAT |{2023-10-25 10:00:00, 2023-10-25 15:00:00}|[88.89, 98.99]                     |10.099999999999994|\n",
      "|IT  |{2023-10-25 10:00:00, 2023-10-25 15:00:00}|[48.93, 49.27, 58.2]               |9.270000000000003 |\n",
      "|ADP |{2023-10-25 10:00:00, 2023-10-25 15:00:00}|[61.715, 66.95, 67.74, 70.49]      |8.774999999999991 |\n",
      "|SIG |{2023-10-25 10:00:00, 2023-10-25 15:00:00}|[62.35, 70.05, 71.85, 69.01, 70.97]|8.619999999999997 |\n",
      "|AIZ |{2023-10-25 10:00:00, 2023-10-25 15:00:00}|[42.13, 42.76, 50.31]              |8.18              |\n",
      "|PKG |{2023-10-25 10:00:00, 2023-10-25 15:00:00}|[41.33, 49.48]                     |8.149999999999999 |\n",
      "|CME |{2023-10-25 10:00:00, 2023-10-25 15:00:00}|[69.41, 77.28, 76.35]              |6.939999999999998 |\n",
      "|GS  |{2023-10-25 10:00:00, 2023-10-25 15:00:00}|[145.83, 154.94, 168.2, 152.77]    |6.939999999999998 |\n",
      "+----+------------------------------------------+-----------------------------------+------------------+\n",
      "only showing top 20 rows\n",
      "\n"
     ]
    },
    {
     "name": "stderr",
     "output_type": "stream",
     "text": [
      "                                                                                \r"
     ]
    },
    {
     "name": "stdout",
     "output_type": "stream",
     "text": [
      "-------------------------------------------\n",
      "Batch: 5\n",
      "-------------------------------------------\n",
      "+-----+------------------------------------------+------------------------------+------------------+\n",
      "|name |window                                    |prices                        |price_diff        |\n",
      "+-----+------------------------------------------+------------------------------+------------------+\n",
      "|VRTX |{2023-10-25 10:00:00, 2023-10-25 15:00:00}|[46.46, 77.39, 81.34]         |34.88             |\n",
      "|GWW  |{2023-10-25 10:00:00, 2023-10-25 15:00:00}|[228.67, 254.0, 261.34]       |32.66999999999999 |\n",
      "|AGN  |{2023-10-25 10:00:00, 2023-10-25 15:00:00}|[93.13, 122.38]               |29.25             |\n",
      "|GOOGL|{2023-10-25 10:00:00, 2023-10-25 15:00:00}|[414.2338, 453.9535, 432.8925]|18.65870000000001 |\n",
      "|MCO  |{2023-10-25 10:00:00, 2023-10-25 15:00:00}|[48.96, 64.36, 62.93]         |13.969999999999999|\n",
      "|EQT  |{2023-10-25 10:00:00, 2023-10-25 15:00:00}|[67.3, 81.26]                 |13.960000000000008|\n",
      "|UHS  |{2023-10-25 10:00:00, 2023-10-25 15:00:00}|[57.52, 62.59, 70.59]         |13.07             |\n",
      "|ANTM |{2023-10-25 10:00:00, 2023-10-25 15:00:00}|[73.63, 86.61]                |12.980000000000004|\n",
      "|ULTA |{2023-10-25 10:00:00, 2023-10-25 15:00:00}|[86.75, 99.21]                |12.459999999999994|\n",
      "|MTB  |{2023-10-25 10:00:00, 2023-10-25 15:00:00}|[104.87, 117.12]              |12.25             |\n",
      "|PSA  |{2023-10-25 10:00:00, 2023-10-25 15:00:00}|[148.65, 160.208]             |11.557999999999993|\n",
      "|CMG  |{2023-10-25 10:00:00, 2023-10-25 15:00:00}|[367.0, 378.4]                |11.399999999999977|\n",
      "|CBOE |{2023-10-25 10:00:00, 2023-10-25 15:00:00}|[36.6, 47.96]                 |11.36             |\n",
      "|FRT  |{2023-10-25 10:00:00, 2023-10-25 15:00:00}|[106.58, 116.94]              |10.36             |\n",
      "|WAT  |{2023-10-25 10:00:00, 2023-10-25 15:00:00}|[88.89, 98.99]                |10.099999999999994|\n",
      "|PRU  |{2023-10-25 10:00:00, 2023-10-25 15:00:00}|[68.6, 72.0, 78.64]           |10.040000000000006|\n",
      "|ECL  |{2023-10-25 10:00:00, 2023-10-25 15:00:00}|[84.12, 86.64, 94.0]          |9.879999999999995 |\n",
      "|TGT  |{2023-10-25 10:00:00, 2023-10-25 15:00:00}|[63.21, 68.83, 72.655]        |9.445             |\n",
      "|EOG  |{2023-10-25 10:00:00, 2023-10-25 15:00:00}|[63.53, 64.73, 72.89]         |9.36              |\n",
      "|IT   |{2023-10-25 10:00:00, 2023-10-25 15:00:00}|[48.93, 49.27, 58.2]          |9.270000000000003 |\n",
      "+-----+------------------------------------------+------------------------------+------------------+\n",
      "only showing top 20 rows\n",
      "\n"
     ]
    },
    {
     "name": "stderr",
     "output_type": "stream",
     "text": [
      "                                                                                \r"
     ]
    },
    {
     "name": "stdout",
     "output_type": "stream",
     "text": [
      "-------------------------------------------\n",
      "Batch: 6\n",
      "-------------------------------------------\n",
      "+-----+------------------------------------------+---------------------------------------+------------------+\n",
      "|name |window                                    |prices                                 |price_diff        |\n",
      "+-----+------------------------------------------+---------------------------------------+------------------+\n",
      "|PCLN |{2023-10-25 10:00:00, 2023-10-25 15:00:00}|[819.98, 982.1298]                     |162.14980000000003|\n",
      "|VRTX |{2023-10-25 10:00:00, 2023-10-25 15:00:00}|[46.46, 77.39, 81.34]                  |34.88             |\n",
      "|GWW  |{2023-10-25 10:00:00, 2023-10-25 15:00:00}|[228.67, 254.0, 261.34]                |32.66999999999999 |\n",
      "|AGN  |{2023-10-25 10:00:00, 2023-10-25 15:00:00}|[93.13, 122.38]                        |29.25             |\n",
      "|GOOGL|{2023-10-25 10:00:00, 2023-10-25 15:00:00}|[414.2338, 453.9535, 432.8925, 436.436]|22.202200000000005|\n",
      "|TRIP |{2023-10-25 10:00:00, 2023-10-25 15:00:00}|[53.41, 74.37]                         |20.960000000000008|\n",
      "|EQT  |{2023-10-25 10:00:00, 2023-10-25 15:00:00}|[67.3, 81.26, 84.24, 84.93]            |17.63000000000001 |\n",
      "|MCO  |{2023-10-25 10:00:00, 2023-10-25 15:00:00}|[48.96, 64.36, 62.93]                  |13.969999999999999|\n",
      "|CHTR |{2023-10-25 10:00:00, 2023-10-25 15:00:00}|[111.44, 124.98]                       |13.540000000000006|\n",
      "|UHS  |{2023-10-25 10:00:00, 2023-10-25 15:00:00}|[57.52, 62.59, 70.59]                  |13.07             |\n",
      "|ANTM |{2023-10-25 10:00:00, 2023-10-25 15:00:00}|[73.63, 86.61]                         |12.980000000000004|\n",
      "|CMI  |{2023-10-25 10:00:00, 2023-10-25 15:00:00}|[119.79, 132.34]                       |12.549999999999997|\n",
      "|TEL  |{2023-10-25 10:00:00, 2023-10-25 15:00:00}|[41.17, 44.96, 53.65]                  |12.479999999999997|\n",
      "|ULTA |{2023-10-25 10:00:00, 2023-10-25 15:00:00}|[86.75, 99.21]                         |12.459999999999994|\n",
      "|MTB  |{2023-10-25 10:00:00, 2023-10-25 15:00:00}|[104.87, 117.12]                       |12.25             |\n",
      "|CMG  |{2023-10-25 10:00:00, 2023-10-25 15:00:00}|[367.0, 378.4]                         |11.399999999999977|\n",
      "|MMM  |{2023-10-25 10:00:00, 2023-10-25 15:00:00}|[105.88, 117.14]                       |11.260000000000005|\n",
      "|KORS |{2023-10-25 10:00:00, 2023-10-25 15:00:00}|[64.04, 74.95]                         |10.909999999999997|\n",
      "|FRT  |{2023-10-25 10:00:00, 2023-10-25 15:00:00}|[106.58, 116.94]                       |10.36             |\n",
      "|WAT  |{2023-10-25 10:00:00, 2023-10-25 15:00:00}|[88.89, 98.99]                         |10.099999999999994|\n",
      "+-----+------------------------------------------+---------------------------------------+------------------+\n",
      "only showing top 20 rows\n",
      "\n"
     ]
    },
    {
     "name": "stderr",
     "output_type": "stream",
     "text": [
      "[Stage 36:=====================================================>(197 + 3) / 200]\r"
     ]
    }
   ],
   "source": [
    "from pyspark.sql.functions import window, col, udf\n",
    "from pyspark.sql.types import DoubleType\n",
    "\n",
    "# Define the window and watermark duration\n",
    "window_duration = \"5 hours\"\n",
    "watermark_duration = \"1 hour\" \n",
    "\n",
    "# Apply windowing and watermarking to the DataFrame\n",
    "windowedStocks = df \\\n",
    "    .withWatermark(\"timestamp\", watermark_duration) \\\n",
    "    .groupBy(\n",
    "        window(col(\"timestamp\"), window_duration),\n",
    "        col(\"name\")\n",
    "    ) \\\n",
    "    .agg(\n",
    "        {\"price\": \"collect_list\"}  # Collects all prices in the window into a list\n",
    "    ) \\\n",
    "    .select(\n",
    "        col(\"name\"),\n",
    "        col(\"window\"),\n",
    "        col(\"collect_list(price)\").alias(\"prices\")\n",
    "    )\n",
    "\n",
    "# Define a UDF to calculate the difference between the first and last price in the window\n",
    "def price_diff(prices):\n",
    "    if len(prices) > 1:\n",
    "        return prices[-1] - prices[0]  # Assuming the prices are in chronological order\n",
    "    else:\n",
    "        return 0.0\n",
    "\n",
    "price_diff_udf = udf(price_diff, DoubleType())\n",
    "\n",
    "# Apply the UDF to calculate the price difference\n",
    "stocksPriceDiff = windowedStocks.withColumn(\"price_diff\", price_diff_udf(col(\"prices\")))\n",
    "\n",
    "# sort by the price difference in descending order\n",
    "stocksGainedMost = stocksPriceDiff.orderBy(col(\"price_diff\").desc())\n",
    "\n",
    "# Output the result to a console sink\n",
    "query = stocksGainedMost \\\n",
    "    .writeStream \\\n",
    "    .outputMode(\"complete\") \\\n",
    "    .format(\"console\") \\\n",
    "    .option(\"truncate\", False) \\\n",
    "    .start()\n",
    "\n",
    "query.awaitTermination()"
   ]
  },
  {
   "cell_type": "markdown",
   "id": "808b0f5a",
   "metadata": {},
   "source": [
    "## 4. Implement a control that checks if a stock does not lose too much value in a period of time"
   ]
  },
  {
   "cell_type": "code",
   "execution_count": null,
   "id": "4e5162e8",
   "metadata": {
    "scrolled": true
   },
   "outputs": [
    {
     "name": "stderr",
     "output_type": "stream",
     "text": [
      "23/11/06 20:00:42 WARN ResolveWriteToStream: Temporary checkpoint location created which is deleted normally when the query didn't fail: /tmp/temporary-822d5286-1276-4898-ad9f-a0558bf42e28. If it's required to delete it under any circumstances, please set spark.sql.streaming.forceDeleteTempCheckpointLocation to true. Important to know deleting temp checkpoint folder is best effort.\n",
      "23/11/06 20:00:42 WARN ResolveWriteToStream: spark.sql.adaptive.enabled is not supported in streaming DataFrames/Datasets and will be disabled.\n",
      "                                                                                \r"
     ]
    },
    {
     "name": "stdout",
     "output_type": "stream",
     "text": [
      "-------------------------------------------\n",
      "Batch: 0\n",
      "-------------------------------------------\n",
      "+------+----+-----------+----------+---------------+\n",
      "|window|name|first_price|last_price|price_drop_perc|\n",
      "+------+----+-----------+----------+---------------+\n",
      "+------+----+-----------+----------+---------------+\n",
      "\n"
     ]
    },
    {
     "name": "stderr",
     "output_type": "stream",
     "text": [
      "                                                                                \r"
     ]
    },
    {
     "name": "stdout",
     "output_type": "stream",
     "text": [
      "-------------------------------------------\n",
      "Batch: 1\n",
      "-------------------------------------------\n",
      "+------+----+-----------+----------+---------------+\n",
      "|window|name|first_price|last_price|price_drop_perc|\n",
      "+------+----+-----------+----------+---------------+\n",
      "+------+----+-----------+----------+---------------+\n",
      "\n"
     ]
    },
    {
     "name": "stderr",
     "output_type": "stream",
     "text": [
      "                                                                                \r"
     ]
    },
    {
     "name": "stdout",
     "output_type": "stream",
     "text": [
      "-------------------------------------------\n",
      "Batch: 2\n",
      "-------------------------------------------\n",
      "+------------------------------------------+----+-----------+----------+-------------------+\n",
      "|window                                    |name|first_price|last_price|price_drop_perc    |\n",
      "+------------------------------------------+----+-----------+----------+-------------------+\n",
      "|{2023-10-25 10:00:00, 2023-10-25 15:00:00}|ISRG|192.6465   |168.1665  |-12.707212433135295|\n",
      "+------------------------------------------+----+-----------+----------+-------------------+\n",
      "\n"
     ]
    },
    {
     "name": "stderr",
     "output_type": "stream",
     "text": [
      "                                                                                \r"
     ]
    },
    {
     "name": "stdout",
     "output_type": "stream",
     "text": [
      "-------------------------------------------\n",
      "Batch: 3\n",
      "-------------------------------------------\n",
      "+------------------------------------------+----+-----------+----------+-------------------+\n",
      "|window                                    |name|first_price|last_price|price_drop_perc    |\n",
      "+------------------------------------------+----+-----------+----------+-------------------+\n",
      "|{2023-10-25 10:00:00, 2023-10-25 15:00:00}|EQIX|219.94     |194.854   |-11.405837955806122|\n",
      "|{2023-10-25 10:00:00, 2023-10-25 15:00:00}|EXC |37.22      |30.71     |-17.490596453519608|\n",
      "+------------------------------------------+----+-----------+----------+-------------------+\n",
      "\n"
     ]
    },
    {
     "name": "stderr",
     "output_type": "stream",
     "text": [
      "                                                                                \r"
     ]
    },
    {
     "name": "stdout",
     "output_type": "stream",
     "text": [
      "-------------------------------------------\n",
      "Batch: 4\n",
      "-------------------------------------------\n",
      "+------------------------------------------+----+-----------+----------+-----------------+\n",
      "|window                                    |name|first_price|last_price|price_drop_perc  |\n",
      "+------------------------------------------+----+-----------+----------+-----------------+\n",
      "|{2023-10-25 10:00:00, 2023-10-25 15:00:00}|FB  |27.64      |24.745    |-10.4739507959479|\n",
      "+------------------------------------------+----+-----------+----------+-----------------+\n",
      "\n"
     ]
    },
    {
     "name": "stderr",
     "output_type": "stream",
     "text": [
      "                                                                                \r"
     ]
    },
    {
     "name": "stdout",
     "output_type": "stream",
     "text": [
      "-------------------------------------------\n",
      "Batch: 5\n",
      "-------------------------------------------\n",
      "+------------------------------------------+----+-----------+----------+-------------------+\n",
      "|window                                    |name|first_price|last_price|price_drop_perc    |\n",
      "+------------------------------------------+----+-----------+----------+-------------------+\n",
      "|{2023-10-25 10:00:00, 2023-10-25 15:00:00}|DHI |24.5       |18.91     |-22.816326530612244|\n",
      "|{2023-10-25 10:00:00, 2023-10-25 15:00:00}|MPC |42.505     |35.945    |-15.433478414304206|\n",
      "|{2023-10-25 10:00:00, 2023-10-25 15:00:00}|PHM |19.69      |16.11     |-18.18181818181819 |\n",
      "+------------------------------------------+----+-----------+----------+-------------------+\n",
      "\n"
     ]
    },
    {
     "name": "stderr",
     "output_type": "stream",
     "text": [
      "                                                                                \r"
     ]
    },
    {
     "name": "stdout",
     "output_type": "stream",
     "text": [
      "-------------------------------------------\n",
      "Batch: 6\n",
      "-------------------------------------------\n",
      "+------------------------------------------+----+-----------+----------+-------------------+\n",
      "|window                                    |name|first_price|last_price|price_drop_perc    |\n",
      "+------------------------------------------+----+-----------+----------+-------------------+\n",
      "|{2023-10-25 10:00:00, 2023-10-25 15:00:00}|HCP |47.08      |41.87     |-11.066270178419714|\n",
      "|{2023-10-25 10:00:00, 2023-10-25 15:00:00}|KO  |43.05      |38.61     |-10.313588850174211|\n",
      "|{2023-10-25 10:00:00, 2023-10-25 15:00:00}|LEN |36.2157    |31.5784   |-12.804667588918617|\n",
      "+------------------------------------------+----+-----------+----------+-------------------+\n",
      "\n"
     ]
    },
    {
     "name": "stderr",
     "output_type": "stream",
     "text": [
      "                                                                                \r"
     ]
    },
    {
     "name": "stdout",
     "output_type": "stream",
     "text": [
      "-------------------------------------------\n",
      "Batch: 7\n",
      "-------------------------------------------\n",
      "+------------------------------------------+----+-----------+----------+-------------------+\n",
      "|window                                    |name|first_price|last_price|price_drop_perc    |\n",
      "+------------------------------------------+----+-----------+----------+-------------------+\n",
      "|{2023-10-25 10:00:00, 2023-10-25 15:00:00}|HCN |74.235     |63.96     |-13.841180036370982|\n",
      "|{2023-10-25 10:00:00, 2023-10-25 15:00:00}|T   |37.69      |33.65     |-10.719023613690633|\n",
      "|{2023-10-25 10:00:00, 2023-10-25 15:00:00}|SPG |175.05     |151.49    |-13.45901171093973 |\n",
      "|{2023-10-25 10:00:00, 2023-10-25 15:00:00}|CAG |35.64      |31.02     |-12.962962962962965|\n",
      "|{2023-10-25 10:00:00, 2023-10-25 15:00:00}|SCG |53.2375    |47.5      |-10.77717774125381 |\n",
      "|{2023-10-25 10:00:00, 2023-10-25 15:00:00}|MAA |74.94      |63.25     |-15.599145983453427|\n",
      "+------------------------------------------+----+-----------+----------+-------------------+\n",
      "\n"
     ]
    },
    {
     "name": "stderr",
     "output_type": "stream",
     "text": [
      "                                                                                \r"
     ]
    },
    {
     "name": "stdout",
     "output_type": "stream",
     "text": [
      "-------------------------------------------\n",
      "Batch: 8\n",
      "-------------------------------------------\n",
      "+------------------------------------------+----+-----------+----------+-------------------+\n",
      "|window                                    |name|first_price|last_price|price_drop_perc    |\n",
      "+------------------------------------------+----+-----------+----------+-------------------+\n",
      "|{2023-10-25 10:00:00, 2023-10-25 15:00:00}|HCN |74.235     |66.76     |-10.069374284367205|\n",
      "+------------------------------------------+----+-----------+----------+-------------------+\n",
      "\n"
     ]
    },
    {
     "name": "stderr",
     "output_type": "stream",
     "text": [
      "                                                                                \r"
     ]
    },
    {
     "name": "stdout",
     "output_type": "stream",
     "text": [
      "-------------------------------------------\n",
      "Batch: 9\n",
      "-------------------------------------------\n",
      "+------------------------------------------+----+-----------+----------+-------------------+\n",
      "|window                                    |name|first_price|last_price|price_drop_perc    |\n",
      "+------------------------------------------+----+-----------+----------+-------------------+\n",
      "|{2023-10-25 10:00:00, 2023-10-25 15:00:00}|NEM |39.43      |26.24     |-33.451686533096634|\n",
      "|{2023-10-25 10:00:00, 2023-10-25 15:00:00}|DLR |64.3965    |46.315    |-28.07838935345866 |\n",
      "|{2023-10-25 10:00:00, 2023-10-25 15:00:00}|VTR |72.1       |59.44     |-17.55894590846047 |\n",
      "|{2023-10-25 10:00:00, 2023-10-25 15:00:00}|IBM |211.98     |186.2     |-12.161524672138881|\n",
      "+------------------------------------------+----+-----------+----------+-------------------+\n",
      "\n"
     ]
    }
   ],
   "source": [
    "from pyspark.sql.functions import window, col, udf, min, max, first, last\n",
    "from pyspark.sql.types import DoubleType\n",
    "\n",
    "# Define the window and watermark duration\n",
    "window_duration = \"5 hours\"\n",
    "watermark_duration = \"1 hour\" \n",
    "\n",
    "# Apply windowing and watermarking to the DataFrame\n",
    "windowedStocks = df \\\n",
    "    .withWatermark(\"timestamp\", watermark_duration) \\\n",
    "    .groupBy(\n",
    "        window(col(\"timestamp\"), window_duration),\n",
    "        col(\"name\")\n",
    "    ) \\\n",
    "    .agg(\n",
    "        first(\"price\").alias(\"first_price\"),\n",
    "        last(\"price\").alias(\"last_price\")\n",
    "    )\n",
    "\n",
    "# Define a UDF to calculate the percentage change\n",
    "def price_drop_percentage(first_price, last_price):\n",
    "    if first_price is not None and last_price is not None and first_price != 0:\n",
    "        return ((last_price - first_price) / first_price) * 100\n",
    "    else:\n",
    "        return None\n",
    "\n",
    "price_drop_percentage_udf = udf(price_drop_percentage, DoubleType())\n",
    "\n",
    "# Apply the UDF to calculate the percentage change\n",
    "stocksPriceChange = windowedStocks.withColumn(\"price_drop_perc\", price_drop_percentage_udf(col(\"first_price\"), col(\"last_price\")))\n",
    "\n",
    "# Filter the stocks that lost too much value\n",
    "stocksLostTooMuchValue = stocksPriceChange.filter(col(\"price_drop_perc\") <= -10) # 10% of the value is a critical value\n",
    "\n",
    "# Output the result to a console sink\n",
    "query = stocksLostTooMuchValue \\\n",
    "    .writeStream \\\n",
    "    .outputMode(\"update\") \\\n",
    "    .format(\"console\") \\\n",
    "    .option(\"truncate\", False) \\\n",
    "    .start()\n",
    "\n",
    "query.awaitTermination()\n",
    "\n",
    "# price_drop_perc is the percentage of value that the stock lost"
   ]
  },
  {
   "cell_type": "markdown",
   "id": "76d39f0c",
   "metadata": {},
   "source": [
    "## 5. Asset changes with the fluctuation of the market"
   ]
  },
  {
   "cell_type": "code",
   "execution_count": null,
   "id": "36ee144b",
   "metadata": {
    "scrolled": true
   },
   "outputs": [
    {
     "name": "stderr",
     "output_type": "stream",
     "text": [
      "                                                                                \r"
     ]
    },
    {
     "name": "stdout",
     "output_type": "stream",
     "text": [
      "+----+------+\n",
      "|name|amount|\n",
      "+----+------+\n",
      "|CSCO|   100|\n",
      "|ALGN|    50|\n",
      "| NKE|   150|\n",
      "| ESS|    70|\n",
      "+----+------+\n",
      "\n"
     ]
    },
    {
     "name": "stderr",
     "output_type": "stream",
     "text": [
      "23/11/06 22:30:50 WARN ResolveWriteToStream: Temporary checkpoint location created which is deleted normally when the query didn't fail: /tmp/temporary-2bd5edfd-e2b2-4c7f-be1e-860b22e03570. If it's required to delete it under any circumstances, please set spark.sql.streaming.forceDeleteTempCheckpointLocation to true. Important to know deleting temp checkpoint folder is best effort.\n",
      "23/11/06 22:30:50 WARN ResolveWriteToStream: spark.sql.adaptive.enabled is not supported in streaming DataFrames/Datasets and will be disabled.\n",
      "                                                                                \r"
     ]
    },
    {
     "name": "stdout",
     "output_type": "stream",
     "text": [
      "-------------------------------------------\n",
      "Batch: 0\n",
      "-------------------------------------------\n",
      "+------+----+-----------+\n",
      "|window|name|total_value|\n",
      "+------+----+-----------+\n",
      "+------+----+-----------+\n",
      "\n"
     ]
    },
    {
     "name": "stderr",
     "output_type": "stream",
     "text": [
      "                                                                                \r"
     ]
    },
    {
     "name": "stdout",
     "output_type": "stream",
     "text": [
      "-------------------------------------------\n",
      "Batch: 1\n",
      "-------------------------------------------\n",
      "+------+----+-----------+\n",
      "|window|name|total_value|\n",
      "+------+----+-----------+\n",
      "+------+----+-----------+\n",
      "\n"
     ]
    },
    {
     "name": "stderr",
     "output_type": "stream",
     "text": [
      "                                                                                \r"
     ]
    },
    {
     "name": "stdout",
     "output_type": "stream",
     "text": [
      "-------------------------------------------\n",
      "Batch: 2\n",
      "-------------------------------------------\n",
      "+--------------------+----+------------------+\n",
      "|              window|name|       total_value|\n",
      "+--------------------+----+------------------+\n",
      "|{2023-10-25 10:00...|ALGN|1852.4999999999998|\n",
      "|{2023-10-25 10:00...| ESS|10887.449999999999|\n",
      "|{2023-10-25 10:00...| NKE|            4948.5|\n",
      "+--------------------+----+------------------+\n",
      "\n"
     ]
    },
    {
     "name": "stderr",
     "output_type": "stream",
     "text": [
      "                                                                                \r"
     ]
    },
    {
     "name": "stdout",
     "output_type": "stream",
     "text": [
      "-------------------------------------------\n",
      "Batch: 3\n",
      "-------------------------------------------\n",
      "+--------------------+----+-----------+\n",
      "|              window|name|total_value|\n",
      "+--------------------+----+-----------+\n",
      "|{2023-10-25 10:00...|ALGN|     3789.5|\n",
      "|{2023-10-25 10:00...| ESS|   21841.75|\n",
      "|{2023-10-25 10:00...| NKE|     4948.5|\n",
      "|{2023-10-25 10:00...|CSCO|     2469.0|\n",
      "+--------------------+----+-----------+\n",
      "\n"
     ]
    },
    {
     "name": "stderr",
     "output_type": "stream",
     "text": [
      "                                                                                \r"
     ]
    },
    {
     "name": "stdout",
     "output_type": "stream",
     "text": [
      "-------------------------------------------\n",
      "Batch: 4\n",
      "-------------------------------------------\n",
      "+--------------------+----+-----------+\n",
      "|              window|name|total_value|\n",
      "+--------------------+----+-----------+\n",
      "|{2023-10-25 10:00...|ALGN|     3789.5|\n",
      "|{2023-10-25 10:00...| ESS|    32436.6|\n",
      "|{2023-10-25 10:00...| NKE|     4948.5|\n",
      "|{2023-10-25 10:00...|CSCO|     2469.0|\n",
      "+--------------------+----+-----------+\n",
      "\n"
     ]
    },
    {
     "name": "stderr",
     "output_type": "stream",
     "text": [
      "                                                                                \r"
     ]
    },
    {
     "name": "stdout",
     "output_type": "stream",
     "text": [
      "-------------------------------------------\n",
      "Batch: 5\n",
      "-------------------------------------------\n",
      "+--------------------+----+-----------+\n",
      "|              window|name|total_value|\n",
      "+--------------------+----+-----------+\n",
      "|{2023-10-25 10:00...|ALGN|     3789.5|\n",
      "|{2023-10-25 10:00...| ESS|    43640.8|\n",
      "|{2023-10-25 10:00...| NKE|     4948.5|\n",
      "|{2023-10-25 10:00...|CSCO|     2469.0|\n",
      "+--------------------+----+-----------+\n",
      "\n"
     ]
    },
    {
     "name": "stderr",
     "output_type": "stream",
     "text": [
      "                                                                                \r"
     ]
    },
    {
     "name": "stdout",
     "output_type": "stream",
     "text": [
      "-------------------------------------------\n",
      "Batch: 6\n",
      "-------------------------------------------\n",
      "+--------------------+----+-----------+\n",
      "|              window|name|total_value|\n",
      "+--------------------+----+-----------+\n",
      "|{2023-10-25 10:00...|ALGN|     3789.5|\n",
      "|{2023-10-25 10:00...| ESS|    43640.8|\n",
      "|{2023-10-25 10:00...| NKE|     4948.5|\n",
      "|{2023-10-25 10:00...|CSCO|     2469.0|\n",
      "+--------------------+----+-----------+\n",
      "\n"
     ]
    },
    {
     "name": "stderr",
     "output_type": "stream",
     "text": [
      "                                                                                \r"
     ]
    },
    {
     "name": "stdout",
     "output_type": "stream",
     "text": [
      "-------------------------------------------\n",
      "Batch: 7\n",
      "-------------------------------------------\n",
      "+--------------------+----+-----------+\n",
      "|              window|name|total_value|\n",
      "+--------------------+----+-----------+\n",
      "|{2023-10-25 10:00...|ALGN|     3789.5|\n",
      "|{2023-10-25 10:00...| ESS|    54747.0|\n",
      "|{2023-10-25 10:00...| NKE|   10235.25|\n",
      "|{2023-10-25 10:00...|CSCO|     2469.0|\n",
      "+--------------------+----+-----------+\n",
      "\n"
     ]
    },
    {
     "name": "stderr",
     "output_type": "stream",
     "text": [
      "                                                                                \r"
     ]
    },
    {
     "name": "stdout",
     "output_type": "stream",
     "text": [
      "-------------------------------------------\n",
      "Batch: 8\n",
      "-------------------------------------------\n",
      "+--------------------+----+-----------+\n",
      "|              window|name|total_value|\n",
      "+--------------------+----+-----------+\n",
      "|{2023-10-25 10:00...|ALGN|     3789.5|\n",
      "|{2023-10-25 10:00...| ESS|    54747.0|\n",
      "|{2023-10-25 10:00...| NKE|   10235.25|\n",
      "|{2023-10-25 10:00...|CSCO|     2469.0|\n",
      "+--------------------+----+-----------+\n",
      "\n"
     ]
    },
    {
     "name": "stderr",
     "output_type": "stream",
     "text": [
      "                                                                                \r"
     ]
    },
    {
     "name": "stdout",
     "output_type": "stream",
     "text": [
      "-------------------------------------------\n",
      "Batch: 9\n",
      "-------------------------------------------\n",
      "+--------------------+----+-----------+\n",
      "|              window|name|total_value|\n",
      "+--------------------+----+-----------+\n",
      "|{2023-10-25 10:00...|ALGN|     3789.5|\n",
      "|{2023-10-25 10:00...| ESS|    54747.0|\n",
      "|{2023-10-25 10:00...| NKE|   10235.25|\n",
      "|{2023-10-25 10:00...|CSCO|     2469.0|\n",
      "+--------------------+----+-----------+\n",
      "\n"
     ]
    },
    {
     "name": "stderr",
     "output_type": "stream",
     "text": [
      "                                                                                \r"
     ]
    },
    {
     "name": "stdout",
     "output_type": "stream",
     "text": [
      "-------------------------------------------\n",
      "Batch: 10\n",
      "-------------------------------------------\n",
      "+--------------------+----+-----------+\n",
      "|              window|name|total_value|\n",
      "+--------------------+----+-----------+\n",
      "|{2023-10-25 10:00...|ALGN|     3789.5|\n",
      "|{2023-10-25 10:00...| ESS|    54747.0|\n",
      "|{2023-10-25 10:00...| NKE|   15830.25|\n",
      "|{2023-10-25 10:00...|CSCO|     2469.0|\n",
      "+--------------------+----+-----------+\n",
      "\n"
     ]
    },
    {
     "name": "stderr",
     "output_type": "stream",
     "text": [
      "                                                                                \r"
     ]
    },
    {
     "name": "stdout",
     "output_type": "stream",
     "text": [
      "-------------------------------------------\n",
      "Batch: 11\n",
      "-------------------------------------------\n",
      "+--------------------+----+-----------+\n",
      "|              window|name|total_value|\n",
      "+--------------------+----+-----------+\n",
      "|{2023-10-25 10:00...|ALGN|     3789.5|\n",
      "|{2023-10-25 10:00...| ESS|    54747.0|\n",
      "|{2023-10-25 10:00...| NKE|   15830.25|\n",
      "|{2023-10-25 10:00...|CSCO|     2469.0|\n",
      "+--------------------+----+-----------+\n",
      "\n"
     ]
    },
    {
     "name": "stderr",
     "output_type": "stream",
     "text": [
      "                                                                                \r"
     ]
    },
    {
     "name": "stdout",
     "output_type": "stream",
     "text": [
      "-------------------------------------------\n",
      "Batch: 12\n",
      "-------------------------------------------\n",
      "+--------------------+----+-----------+\n",
      "|              window|name|total_value|\n",
      "+--------------------+----+-----------+\n",
      "|{2023-10-25 10:00...|ALGN|     6526.5|\n",
      "|{2023-10-25 10:00...| ESS|    54747.0|\n",
      "|{2023-10-25 10:00...| NKE|   15830.25|\n",
      "|{2023-10-25 10:00...|CSCO|     2469.0|\n",
      "+--------------------+----+-----------+\n",
      "\n"
     ]
    },
    {
     "name": "stderr",
     "output_type": "stream",
     "text": [
      "[Stage 58:===============================>                     (117 + 13) / 200]\r"
     ]
    }
   ],
   "source": [
    "from pyspark.sql import functions as F\n",
    "\n",
    "# Define the stocks you own\n",
    "owned_stocks = [\n",
    "    ('CSCO', 100),  # 100 shares of CSCO\n",
    "    ('ALGN', 50),   # 50 shares of ALGN\n",
    "    ('NKE', 150),   # 150 shares of NKE\n",
    "    ('ESS', 70)     # 70 shares of ESS\n",
    "]\n",
    "\n",
    "# Create a DataFrame for the owned stocks\n",
    "owned_stocks_df = spark.createDataFrame(owned_stocks, ['name', 'amount'])\n",
    "\n",
    "# Show the DataFrame\n",
    "owned_stocks_df.show()\n",
    "\n",
    "# Join the streaming DataFrame with the owned stocks DataFrame\n",
    "asset_value = df.join(owned_stocks_df, \"name\", \"inner\")\n",
    "\n",
    "# Calculate the value of each owned stock\n",
    "asset_value = asset_value.withColumn(\"asset_value\", F.col(\"price\") * F.col(\"amount\"))\n",
    "\n",
    "# Group by the stock name and apply a window function to calculate the fluctuation over a 5-hour window\n",
    "windowed_asset_value = asset_value \\\n",
    "    .groupBy(F.window(F.col(\"timestamp\"), \"5 hours\"), F.col(\"name\")) \\\n",
    "    .agg(F.sum(\"asset_value\").alias(\"total_value\"))\n",
    "\n",
    "# Start the streaming query to calculate the asset value over time\n",
    "query = windowed_asset_value \\\n",
    "    .writeStream \\\n",
    "    .outputMode(\"complete\") \\\n",
    "    .format(\"console\") \\\n",
    "    .start()\n",
    "\n",
    "query.awaitTermination()"
   ]
  }
 ],
 "metadata": {
  "kernelspec": {
   "display_name": "Python 3 (ipykernel)",
   "language": "python",
   "name": "python3"
  },
  "language_info": {
   "codemirror_mode": {
    "name": "ipython",
    "version": 3
   },
   "file_extension": ".py",
   "mimetype": "text/x-python",
   "name": "python",
   "nbconvert_exporter": "python",
   "pygments_lexer": "ipython3",
   "version": "3.9.2"
  }
 },
 "nbformat": 4,
 "nbformat_minor": 5
}
